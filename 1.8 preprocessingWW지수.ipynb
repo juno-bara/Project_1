{
 "cells": [
  {
   "cell_type": "code",
   "execution_count": 1,
   "metadata": {},
   "outputs": [],
   "source": [
    "import pandas as pd\n",
    "import numpy as np"
   ]
  },
  {
   "cell_type": "code",
   "execution_count": 2,
   "metadata": {},
   "outputs": [],
   "source": [
    "# func 모음\n",
    "\n",
    "# 1. 종목코드를 6자리로 통일. ex) 990 -> 000990\n",
    "def padding(x):\n",
    "    x = str(x)\n",
    "    return x.rjust(6, \"0\")\n",
    "\n",
    "# 2. 결산월 12월인 것만 선택\n",
    "# : 전체 데이터 4963개 중에서 12월 결산인 데이터가 4836개이다. 나머지 결산월의 데이터가 전체의 2.5%로 데이터량이 작기도하고 결측치가 많아 제거\n",
    "def func_yearin(x):\n",
    "    if x[5:7] == '12':\n",
    "        return True\n",
    "    else:\n",
    "        return False\n",
    "\n",
    "# 3. 회계년도컬럼, 년도만 뽑아서 int화\n",
    "def change_year(x):\n",
    "    return int(x[:4])\n",
    "\n",
    "# 4. 연결, 개별재무제표 통합을 위해 연결재무 데이터 컬럼명 통일화 : \"(IFRS연결)\"제거\n",
    "def func_replace_col1(x):\n",
    "    x = x.replace(\" \",\"\")\n",
    "    x = x.replace(\",\",\"\")\n",
    "    x = x.replace(\"(비교)\",\"\")\n",
    "    x = x.replace(\"(IFRS)\",\"\")\n",
    "    x = x.replace(\"(*)\",\"\")\n",
    "    x = x.replace(\"[제조]\",\"\")\n",
    "    return x.replace(\"(IFRS연결)\",\"\")\n",
    "\n",
    "# 5. 연결, 개별재무제표 통합을 위해 개별재무 데이터 컬럼명 통일화 : \"(IFRS)\"제거\n",
    "def func_replace_col2(x):\n",
    "    x = x.replace(\" \",\"\")\n",
    "    x = x.replace(\",\",\"\")\n",
    "    x = x.replace(\"(비교)\",\"\")\n",
    "    x = x.replace(\"(IFRS)\",\"\")\n",
    "    x = x.replace(\"(*)\",\"\")\n",
    "    x = x.replace(\"[제조]\",\"\")\n",
    "    return x.replace(\"(IFRS)\",\"\")\n",
    "\n",
    "# 6. 2020년 raw data 제외\n",
    "def func_rm_2020(x):\n",
    "    if x[:4] == \"2020\":\n",
    "        return False\n",
    "    else:\n",
    "        return True\n",
    "\n",
    "# 7. True, False 반전\n",
    "def func_not(x):\n",
    "    return not x"
   ]
  },
  {
   "cell_type": "code",
   "execution_count": 8,
   "metadata": {},
   "outputs": [],
   "source": [
    "개별W = pd.read_csv('./datasets/raw/개별ww.csv',encoding='cp949')\n",
    "연결W = pd.read_csv('./datasets/raw/연결ww.csv',encoding='cp949')\n",
    "개별_산업성장률= pd.read_csv(\"개별산업매출성장률.csv\", encoding='UTF8',index_col=0)\n",
    "연결_산업성장률= pd.read_csv(\"연결산업매출성장률.csv\", encoding='UTF8',index_col=0)\n",
    "\n",
    "개별W[\"거래소코드\"] = 개별W[\"거래소코드\"].map(padding) # 거래소코드 padding\n",
    "개별W[\"회계년도\"] = 개별W[\"회계년도\"].map(change_year) # 년도만 표시\n",
    "\n",
    "연결W[\"거래소코드\"] = 연결W[\"거래소코드\"].map(padding) # 거래소코드 padding\n",
    "연결W[\"회계년도\"] = 연결W[\"회계년도\"].map(change_year) # 년도만 표시\n",
    "\n",
    "#WW 지수 = -0.091(현금흐름 / 총자산) - 0.062*(배당금을 지급하면 1을 가지는 더미변수) +0.021 * (장기차입금/총자산) - 0.044 * (총자산에 자연로그를 취한값) + 0.102 * (기업이 속한 산업의 매출성장률)+0.035 * (기업의 매출성장률)"
   ]
  },
  {
   "cell_type": "code",
   "execution_count": 9,
   "metadata": {},
   "outputs": [],
   "source": [
    "개별WW = pd.merge(개별W, 개별_산업성장률, on=[\"회계년도\",\"상장협 산업분류 코드(대분류)\"],how = 'left')\n",
    "연결WW = pd.merge(연결W, 개별_산업성장률, on=[\"회계년도\",\"상장협 산업분류 코드(대분류)\"],how = 'left')"
   ]
  },
  {
   "cell_type": "code",
   "execution_count": 10,
   "metadata": {},
   "outputs": [],
   "source": [
    "연결WW.columns = 연결WW.columns.map(func_replace_col1)\n",
    "개별WW.columns = 개별WW.columns.map(func_replace_col2)"
   ]
  },
  {
   "cell_type": "code",
   "execution_count": 11,
   "metadata": {},
   "outputs": [],
   "source": [
    "# ww지수 -> 자산로그화\n",
    "개별WW['총자산자연로그']=''\n",
    "연결WW['총자산자연로그']=''"
   ]
  },
  {
   "cell_type": "code",
   "execution_count": 13,
   "metadata": {},
   "outputs": [
    {
     "name": "stderr",
     "output_type": "stream",
     "text": [
      "C:\\Users\\신민경\\AppData\\Local\\Temp\\ipykernel_52588\\1706874245.py:3: SettingWithCopyWarning: \n",
      "A value is trying to be set on a copy of a slice from a DataFrame\n",
      "\n",
      "See the caveats in the documentation: https://pandas.pydata.org/pandas-docs/stable/user_guide/indexing.html#returning-a-view-versus-a-copy\n",
      "  개별WW['총자산자연로그'][i] = ln(개별WW['자산'][i])\n"
     ]
    }
   ],
   "source": [
    "from numpy import log as ln\n",
    "for i in range(len(개별WW)):\n",
    "  개별WW['총자산자연로그'][i] = ln(개별WW['자산'][i])\n",
    "\n",
    "def func_float(x):\n",
    "  return float(x)\n",
    "개별WW['총자산자연로그'] = 개별WW['총자산자연로그'].map(func_float)"
   ]
  },
  {
   "cell_type": "code",
   "execution_count": 14,
   "metadata": {},
   "outputs": [
    {
     "name": "stderr",
     "output_type": "stream",
     "text": [
      "C:\\Users\\신민경\\AppData\\Local\\Temp\\ipykernel_52588\\2787238940.py:3: SettingWithCopyWarning: \n",
      "A value is trying to be set on a copy of a slice from a DataFrame\n",
      "\n",
      "See the caveats in the documentation: https://pandas.pydata.org/pandas-docs/stable/user_guide/indexing.html#returning-a-view-versus-a-copy\n",
      "  연결WW['총자산자연로그'][i] = ln(연결WW['자산'][i])\n"
     ]
    }
   ],
   "source": [
    "from numpy import log as ln\n",
    "for i in range(len(연결WW)):\n",
    "  연결WW['총자산자연로그'][i] = ln(연결WW['자산'][i])\n",
    "\n",
    "def func_float(x):\n",
    "  return float(x)\n",
    "연결WW['총자산자연로그'] = 연결WW['총자산자연로그'].map(func_float)"
   ]
  },
  {
   "cell_type": "code",
   "execution_count": 15,
   "metadata": {},
   "outputs": [],
   "source": [
    "## 중복된 값 제거\n",
    "연결WW.drop_duplicates(['거래소코드',\"회계년도\"], keep='last', inplace=True)\n",
    "연결WW.reset_index(drop=True, inplace=True)\n",
    "\n",
    "## 외국계기업제거\n",
    "def func_isnt_fcompany(x):\n",
    "    if x[:1] == '9':\n",
    "        return False\n",
    "    else:\n",
    "        return True\n",
    "\n",
    "연결WW = 연결WW[연결WW[\"거래소코드\"].map(func_isnt_fcompany)]\n",
    "\n",
    "# 중복 거래소코드 제거\n",
    "def func_overlap_code(x):\n",
    "    if x == (연결WW[연결WW[\"회사명\"]==company_name][\"거래소코드\"].iloc[-1]) :\n",
    "        return True\n",
    "    else:\n",
    "        return False\n",
    "\n",
    "list_companyname = list(연결WW[\"회사명\"].unique())\n",
    "dfs = list()\n",
    "\n",
    "\n",
    "for i in list_companyname:\n",
    "    company_name = i\n",
    "    #각 기업별로 데이터프레임 생성\n",
    "    df_concat = 연결WW[연결WW[\"회사명\"]==i]\n",
    "    df_concat = df_concat[df_concat[\"거래소코드\"].map(func_overlap_code)] # 거래소코드 바뀌기 전의 거래소코드의 데이터는 삭제\n",
    "    dfs.append(df_concat)\n",
    "연결WW = pd.concat(dfs)\n",
    "연결WW.reset_index(drop=True, inplace=True)\n",
    "\n",
    "\n",
    "## 기업명 변경\n",
    "연결WW[연결WW['거래소코드']=='036420']\n",
    "연결WW.loc[연결WW['회사명']=='(주)제이콘텐트리',['회사명']] = '(주)콘텐트리중앙'"
   ]
  },
  {
   "cell_type": "code",
   "execution_count": 16,
   "metadata": {},
   "outputs": [],
   "source": [
    "## 중복된 값 제거\n",
    "개별WW.drop_duplicates(['거래소코드',\"회계년도\"], keep='last', inplace=True)\n",
    "개별WW.reset_index(drop=True, inplace=True)\n",
    "\n",
    "## 외국계기업제거\n",
    "def func_isnt_fcompany(x):\n",
    "    if x[:1] == '9':\n",
    "        return False\n",
    "    else:\n",
    "        return True\n",
    "\n",
    "개별WW = 개별WW[개별WW[\"거래소코드\"].map(func_isnt_fcompany)]\n",
    "\n",
    "# 중복 거래소코드 제거\n",
    "def func_overlap_code(x):\n",
    "    if x == (개별WW[개별WW[\"회사명\"]==company_name][\"거래소코드\"].iloc[-1]) :\n",
    "        return True\n",
    "    else:\n",
    "        return False\n",
    "\n",
    "list_companyname = list(개별WW[\"회사명\"].unique())\n",
    "dfs = list()\n",
    "\n",
    "\n",
    "for i in list_companyname:\n",
    "    company_name = i\n",
    "    #각 기업별로 데이터프레임 생성\n",
    "    df_concat = 개별WW[개별WW[\"회사명\"]==i]\n",
    "    df_concat = df_concat[df_concat[\"거래소코드\"].map(func_overlap_code)] # 거래소코드 바뀌기 전의 거래소코드의 데이터는 삭제\n",
    "    dfs.append(df_concat)\n",
    "개별WW = pd.concat(dfs)\n",
    "개별WW.reset_index(drop=True, inplace=True)\n",
    "\n",
    "\n",
    "## 기업명 변경\n",
    "개별WW[개별WW['거래소코드']=='036420']\n",
    "개별WW.loc[개별WW['회사명']=='(주)제이콘텐트리',['회사명']] = '(주)콘텐트리중앙'"
   ]
  },
  {
   "cell_type": "code",
   "execution_count": 19,
   "metadata": {},
   "outputs": [],
   "source": [
    "## 배당금 NAN -> 0\n",
    "개별WW['배당금_현금']=개별WW['배당금_현금'].fillna(0)\n",
    "연결WW['배당금_현금']=연결WW['배당금_현금'].fillna(0)"
   ]
  },
  {
   "cell_type": "code",
   "execution_count": 20,
   "metadata": {},
   "outputs": [
    {
     "data": {
      "text/plain": [
       "회사명                     0\n",
       "거래소코드                   0\n",
       "회계년도                    0\n",
       "상장협산업분류코드(대분류)          0\n",
       "상장협산업분류(대분류)            0\n",
       "자산                   4754\n",
       "장기차입금                4754\n",
       "영업활동으로인한현금흐름(간접법)    4754\n",
       "매출액증가율               4800\n",
       "배당금_현금                  0\n",
       "산업매출성장률                 0\n",
       "총자산자연로그              4754\n",
       "dtype: int64"
      ]
     },
     "execution_count": 20,
     "metadata": {},
     "output_type": "execute_result"
    }
   ],
   "source": [
    "연결WW.isna().sum()"
   ]
  },
  {
   "cell_type": "code",
   "execution_count": 21,
   "metadata": {},
   "outputs": [
    {
     "data": {
      "text/plain": [
       "회사명                    0\n",
       "거래소코드                  0\n",
       "회계년도                   0\n",
       "상장협산업분류코드(대분류)         0\n",
       "상장협산업분류(대분류)           0\n",
       "자산                   378\n",
       "장기차입금                378\n",
       "영업활동으로인한현금흐름(간접법)    378\n",
       "매출액증가율               450\n",
       "배당금_현금                 0\n",
       "산업매출성장률                0\n",
       "총자산자연로그              378\n",
       "dtype: int64"
      ]
     },
     "execution_count": 21,
     "metadata": {},
     "output_type": "execute_result"
    }
   ],
   "source": [
    "개별WW.isna().sum()"
   ]
  },
  {
   "cell_type": "code",
   "execution_count": 22,
   "metadata": {},
   "outputs": [],
   "source": [
    "# df_재무를 완전데이터와 결측데이터로 나눈 뒤 결측데이터를 개별재무데이터로 대체시키고, df_재무로 다시 통합하면 끝!\n",
    "WW완전 =연결WW[연결WW[\"매출액증가율\"].isna().map(func_not)]\n",
    "# df_재무_완전\n",
    "\n",
    "WW결측 =연결WW[연결WW[\"매출액증가율\"].isna()]\n",
    "# df_재무_결측\n",
    "\n",
    "list_na_col = ['상장협산업분류코드(대분류)','상장협산업분류(대분류)','자산','장기차입금','영업활동으로인한현금흐름(간접법)','매출액증가율','배당금_현금','산업매출성장률','총자산자연로그']\n",
    "\n",
    "WW결측 = WW결측.drop(list_na_col,axis=1)\n",
    "WW결측 = pd.merge(WW결측,개별WW[['거래소코드','회계년도']+list_na_col],on=['거래소코드','회계년도'],how='left')\n",
    "\n",
    "WW_df  = pd.concat([WW완전,WW결측],axis=0)"
   ]
  },
  {
   "cell_type": "code",
   "execution_count": 23,
   "metadata": {},
   "outputs": [
    {
     "data": {
      "text/plain": [
       "회사명                    0\n",
       "거래소코드                  0\n",
       "회계년도                   0\n",
       "상장협산업분류코드(대분류)         2\n",
       "상장협산업분류(대분류)           2\n",
       "자산                   377\n",
       "장기차입금                377\n",
       "영업활동으로인한현금흐름(간접법)    377\n",
       "매출액증가율               448\n",
       "배당금_현금                 2\n",
       "산업매출성장률                2\n",
       "총자산자연로그              377\n",
       "dtype: int64"
      ]
     },
     "execution_count": 23,
     "metadata": {},
     "output_type": "execute_result"
    }
   ],
   "source": [
    "WW_df.isna().sum()"
   ]
  },
  {
   "cell_type": "code",
   "execution_count": 24,
   "metadata": {},
   "outputs": [
    {
     "name": "stdout",
     "output_type": "stream",
     "text": [
      "결측치가 존재하는 기업의 수 248 개\n"
     ]
    },
    {
     "name": "stderr",
     "output_type": "stream",
     "text": [
      "C:\\Users\\신민경\\AppData\\Local\\Temp\\ipykernel_52588\\4262142544.py:1: FutureWarning: In a future version of pandas all arguments of DataFrame.any and Series.any will be keyword-only.\n",
      "  print( '결측치가 존재하는 기업의 수',len(WW_df[WW_df.isna().any(1)].회사명.unique()),'개')\n"
     ]
    }
   ],
   "source": [
    "print( '결측치가 존재하는 기업의 수',len(WW_df[WW_df.isna().any(1)].회사명.unique()),'개')"
   ]
  },
  {
   "cell_type": "code",
   "execution_count": 25,
   "metadata": {},
   "outputs": [
    {
     "data": {
      "text/plain": [
       "{'회사명': 0,\n",
       " '거래소코드': 0,\n",
       " '회계년도': 0,\n",
       " '상장협산업분류코드(대분류)': 0,\n",
       " '상장협산업분류(대분류)': 0,\n",
       " '자산': 0,\n",
       " '장기차입금': 0,\n",
       " '영업활동으로인한현금흐름(간접법)': 0,\n",
       " '매출액증가율': 0,\n",
       " '배당금_현금': 0,\n",
       " '산업매출성장률': 0,\n",
       " '총자산자연로그': 0}"
      ]
     },
     "execution_count": 25,
     "metadata": {},
     "output_type": "execute_result"
    }
   ],
   "source": [
    "## 결측치 제거\n",
    "WW_df = WW_df[WW_df[\"매출액증가율\"].isna().map(func_not)] # 위 결측치 없는 데이터로 필터링\n",
    "WW_df\n",
    "\n",
    "WW_df.isna().sum().to_dict()"
   ]
  },
  {
   "cell_type": "code",
   "execution_count": 26,
   "metadata": {},
   "outputs": [],
   "source": [
    "WW_df.dropna(inplace=True)"
   ]
  },
  {
   "cell_type": "code",
   "execution_count": 27,
   "metadata": {},
   "outputs": [],
   "source": [
    "## WW 지수 구하기\n",
    "# 배당금 지급하면 1을 가지는 더미변수 -> WW지수를 위해\n",
    "\n",
    "def func_배당금여부(x):\n",
    "  if x==0:\n",
    "    return 0\n",
    "  else:\n",
    "    return 1"
   ]
  },
  {
   "cell_type": "code",
   "execution_count": 29,
   "metadata": {},
   "outputs": [],
   "source": [
    "WW_df['배당금지급_여부']=WW_df['배당금_현금'].map(func_배당금여부)"
   ]
  },
  {
   "cell_type": "code",
   "execution_count": 30,
   "metadata": {},
   "outputs": [],
   "source": [
    "WW_df.drop(columns = ['배당금_현금'],inplace=True)"
   ]
  },
  {
   "cell_type": "code",
   "execution_count": 32,
   "metadata": {},
   "outputs": [],
   "source": [
    "#WW 지수 = -0.091(현금흐름 / 총자산) - 0.062*(배당금을 지급하면 1을 가지는 더미변수) +0.021 * (장기차입금/총자산) - 0.044 * (총자산에 자연로그를 취한값) + 0.102 * (기업이 속한 산업의 매출성장률)+0.035 * (기업의 매출성장률)\n",
    "# 현금흐름은 영업에서 창출된 현금흐름\n",
    "WW_df['WW지수'] =-0.091 * (WW_df['영업활동으로인한현금흐름(간접법)']*1000000/WW_df['자산']*1000000) - 0.062 * WW_df['배당금지급_여부'] + 0.021*(WW_df['장기차입금']*1000000/WW_df['자산']*1000000) - 0.044 * WW_df['총자산자연로그'] + 0.102 * WW_df[\"산업매출성장률\"] + 0.035 * WW_df['매출액증가율']"
   ]
  },
  {
   "cell_type": "code",
   "execution_count": 33,
   "metadata": {},
   "outputs": [],
   "source": [
    "WW_df.drop(['상장협산업분류코드(대분류)','상장협산업분류(대분류)','자산','장기차입금','영업활동으로인한현금흐름(간접법)','매출액증가율','배당금지급_여부','산업매출성장률','총자산자연로그'],axis=1,inplace=True)"
   ]
  },
  {
   "cell_type": "code",
   "execution_count": 34,
   "metadata": {},
   "outputs": [],
   "source": [
    "WW_df.reset_index(drop=True,inplace=True)"
   ]
  },
  {
   "cell_type": "code",
   "execution_count": 35,
   "metadata": {},
   "outputs": [],
   "source": [
    "WW_df.to_csv('WW지수.csv',encoding='UTF-8-sig')"
   ]
  }
 ],
 "metadata": {
  "kernelspec": {
   "display_name": "Python 3",
   "language": "python",
   "name": "python3"
  },
  "language_info": {
   "codemirror_mode": {
    "name": "ipython",
    "version": 3
   },
   "file_extension": ".py",
   "mimetype": "text/x-python",
   "name": "python",
   "nbconvert_exporter": "python",
   "pygments_lexer": "ipython3",
   "version": "3.8.7"
  },
  "orig_nbformat": 4
 },
 "nbformat": 4,
 "nbformat_minor": 2
}
