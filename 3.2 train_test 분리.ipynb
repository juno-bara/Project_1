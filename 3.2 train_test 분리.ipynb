{
 "cells": [
  {
   "cell_type": "code",
   "execution_count": 1,
   "metadata": {},
   "outputs": [],
   "source": [
    "import pandas as pd"
   ]
  },
  {
   "cell_type": "code",
   "execution_count": 7,
   "metadata": {},
   "outputs": [
    {
     "name": "stdout",
     "output_type": "stream",
     "text": [
      "<class 'pandas.core.frame.DataFrame'>\n",
      "Int64Index: 9907 entries, 0 to 9906\n",
      "Data columns (total 39 columns):\n",
      " #   Column                 Non-Null Count  Dtype  \n",
      "---  ------                 --------------  -----  \n",
      " 0   회사명                    9907 non-null   object \n",
      " 1   회계년도                   9907 non-null   int64  \n",
      " 2   상장일                    9907 non-null   object \n",
      " 3   통계청 한국표준산업분류 10차(대분류)  9907 non-null   object \n",
      " 4   거래소코드                  9907 non-null   int64  \n",
      " 5   대주주지분변화분               9907 non-null   float64\n",
      " 6   외국인지분분변화               9907 non-null   float64\n",
      " 7   자산                     9907 non-null   float64\n",
      " 8   당기순이익(손실)              9907 non-null   float64\n",
      " 9   비유동자산증가율               9907 non-null   float64\n",
      " 10  유동자산증가율                9907 non-null   float64\n",
      " 11  자기자본증가율                9907 non-null   float64\n",
      " 12  매출액증가율                 9907 non-null   float64\n",
      " 13  정상영업이익증가율              9907 non-null   float64\n",
      " 14  순이익증가율                 9907 non-null   float64\n",
      " 15  총포괄이익증가율               9907 non-null   float64\n",
      " 16  매출액순이익률                9907 non-null   float64\n",
      " 17  자기자본순이익률               9907 non-null   float64\n",
      " 18  광고선전비대매출액비율            9907 non-null   float64\n",
      " 19  비유동비율                  9907 non-null   float64\n",
      " 20  당좌비율                   9907 non-null   float64\n",
      " 21  현금비율                   9907 non-null   float64\n",
      " 22  부채비율                   9907 non-null   float64\n",
      " 23  이자보상배율(이자비용)           9907 non-null   float64\n",
      " 24  유보액대납입자본배율             9907 non-null   float64\n",
      " 25  투자집중도                  9907 non-null   float64\n",
      " 26  1인년간평균급여(직원)           9907 non-null   float64\n",
      " 27  토빈Q                    9907 non-null   float64\n",
      " 28  WW지수                   9907 non-null   float64\n",
      " 29  RDS                    9907 non-null   float64\n",
      " 30  산업평균_총자산증가율차분          9907 non-null   float64\n",
      " 31  보통주식비율                 9907 non-null   float64\n",
      " 32  외국인_주식분포비율             9907 non-null   float64\n",
      " 33  업력                     9907 non-null   float64\n",
      " 34  도입기                    9907 non-null   int64  \n",
      " 35  성숙기                    9907 non-null   int64  \n",
      " 36  성장기                    9907 non-null   int64  \n",
      " 37  쇠퇴기                    9907 non-null   int64  \n",
      " 38  target                 9907 non-null   int64  \n",
      "dtypes: float64(29), int64(7), object(3)\n",
      "memory usage: 3.0+ MB\n"
     ]
    }
   ],
   "source": [
    "df = pd.read_csv('./datasets/스케일링완료/윈저_minmax.csv',index_col=0)\n",
    "df.info()"
   ]
  },
  {
   "cell_type": "code",
   "execution_count": 8,
   "metadata": {},
   "outputs": [],
   "source": [
    "train = df[df['회계년도']<=2019]\n",
    "test = df[df['회계년도']>=2020]\n"
   ]
  },
  {
   "cell_type": "code",
   "execution_count": 10,
   "metadata": {},
   "outputs": [],
   "source": [
    "test.to_csv('./datasets/model_data/test.csv',encoding='utf-8-sig')\n",
    "train.to_csv('./datasets/model_data/train.csv',encoding='utf-8-sig')"
   ]
  },
  {
   "cell_type": "code",
   "execution_count": null,
   "metadata": {},
   "outputs": [],
   "source": []
  }
 ],
 "metadata": {
  "kernelspec": {
   "display_name": "base",
   "language": "python",
   "name": "python3"
  },
  "language_info": {
   "codemirror_mode": {
    "name": "ipython",
    "version": 3
   },
   "file_extension": ".py",
   "mimetype": "text/x-python",
   "name": "python",
   "nbconvert_exporter": "python",
   "pygments_lexer": "ipython3",
   "version": "3.9.13"
  },
  "orig_nbformat": 4
 },
 "nbformat": 4,
 "nbformat_minor": 2
}
