{
 "cells": [
  {
   "cell_type": "code",
   "execution_count": 361,
   "metadata": {},
   "outputs": [],
   "source": [
    "# 라이브러리 가져오기\n",
    "# 라이브러리 가져오기\n",
    "import pandas as pd \n",
    "import numpy as np \n",
    "import matplotlib.pyplot as plt\n",
    "import seaborn as sns\n",
    "import math\n",
    "import matplotlib.font_manager as fm\n",
    "import matplotlib as mpl\n",
    "plt.rc('font', family='Malgun Gothic') # For Windows\n",
    "mpl.rcParams['axes.unicode_minus'] = False\n",
    "%matplotlib inline"
   ]
  },
  {
   "cell_type": "code",
   "execution_count": 362,
   "metadata": {},
   "outputs": [
    {
     "data": {
      "text/plain": [
       "Index(['회사명', '거래소코드', '회계년도', '대주주지분변화분', '외국인지분분변화', '상장일', '자산',\n",
       "       '당기순이익(손실)', '비유동자산증가율', '유동자산증가율', '자기자본증가율', '매출액증가율', '정상영업이익증가율',\n",
       "       '순이익증가율', '총포괄이익증가율', '매출액순이익률', '총자본순이익률', '자기자본순이익률', '매출원가대매출액비율',\n",
       "       '광고선전비대매출액비율', '유보율', '비유동비율', '유동비율', '당좌비율', '현금비율', '부채비율', '유동부채비율',\n",
       "       '차입금비율', '이자보상배율(이자비용)', '유보액대비율', '유보액대납입자본배율', '투자집중도',\n",
       "       '통계청 한국표준산업분류 10차(대분류)', '직급명', '1인평균지급액(임원)', '1인년간평균급여(직원)', '토빈Q',\n",
       "       'target', 'WW지수', 'RDS', '수명주기', '산업평균_총자산증가율차분', '설립일', '보통주식비율',\n",
       "       '외국인_주식분포비율'],\n",
       "      dtype='object')"
      ]
     },
     "execution_count": 362,
     "metadata": {},
     "output_type": "execute_result"
    }
   ],
   "source": [
    "df = pd.read_csv(\"./datasets/최종.csv\",index_col=0)\n",
    "df.columns"
   ]
  },
  {
   "cell_type": "code",
   "execution_count": 363,
   "metadata": {},
   "outputs": [],
   "source": [
    "df['업력'] = pd.to_datetime(df['회계년도'],format='%Y').dt.strftime('%Y').astype('int')- pd.to_datetime(df['설립일']).dt.strftime('%Y').astype('int') \n",
    "df.drop(['설립일'],axis=1,inplace=True)"
   ]
  },
  {
   "cell_type": "code",
   "execution_count": 364,
   "metadata": {},
   "outputs": [
    {
     "data": {
      "text/plain": [
       "0        63\n",
       "1        64\n",
       "2        65\n",
       "3        66\n",
       "4        67\n",
       "         ..\n",
       "12082    55\n",
       "12083    51\n",
       "12084    52\n",
       "12085    53\n",
       "12086    54\n",
       "Name: 업력, Length: 12087, dtype: int32"
      ]
     },
     "execution_count": 364,
     "metadata": {},
     "output_type": "execute_result"
    }
   ],
   "source": [
    "## 업력 = 회계년도  -설립일\n",
    "df['업력'] "
   ]
  },
  {
   "cell_type": "code",
   "execution_count": 365,
   "metadata": {},
   "outputs": [
    {
     "data": {
      "text/plain": [
       "0    8539\n",
       "1    3548\n",
       "Name: target, dtype: int64"
      ]
     },
     "execution_count": 365,
     "metadata": {},
     "output_type": "execute_result"
    }
   ],
   "source": [
    "df['target'].value_counts()"
   ]
  },
  {
   "cell_type": "code",
   "execution_count": 366,
   "metadata": {},
   "outputs": [],
   "source": [
    "## 11~12년도는 y taget 설정조건으로 인하여 제거\n",
    "\n",
    "bef_df = df[~(df['회계년도'].isin([2011,2012]))].reset_index(drop=True)"
   ]
  },
  {
   "cell_type": "code",
   "execution_count": 367,
   "metadata": {},
   "outputs": [],
   "source": [
    "### 회계년도 기준 split\n",
    "\n",
    "train = bef_df[bef_df['회계년도']<=2019].reset_index(drop=True)\n",
    "test = bef_df[bef_df['회계년도']>=2020].reset_index(drop=True)\n"
   ]
  },
  {
   "cell_type": "code",
   "execution_count": 368,
   "metadata": {},
   "outputs": [],
   "source": [
    "# test셋 에서 성장성 컬럼이 0인 값 삭제 \n",
    "test = test[test['비유동자산증가율'] != 0]\n",
    "test = test[test['순이익증가율'] != 0]\n",
    "test = test[test['정상영업이익증가율'] != 0]\n",
    "test = test[test['총포괄이익증가율'] != 0]\n",
    "test.reset_index(drop=True, inplace=True)"
   ]
  },
  {
   "cell_type": "code",
   "execution_count": 369,
   "metadata": {},
   "outputs": [],
   "source": [
    "# train 데이터에서 0인 값 '총자본증가율','비유동자산증가율','유동자산증가율','자기자본증가율' 중앙값으로 대체\n",
    "\n",
    "col_list = ['비유동자산증가율','유동자산증가율','자기자본증가율']\n",
    "ind = train.index\n",
    "\n",
    "for i in col_list:\n",
    "    med = train[i].median()\n",
    "    for j in ind:\n",
    "        if train.loc[j,i] == 0 :\n",
    "            train.loc[j,i] = med\n",
    "    "
   ]
  },
  {
   "cell_type": "code",
   "execution_count": 370,
   "metadata": {},
   "outputs": [],
   "source": [
    "# train 데이터에서 0인 값 '정상영업이익증가율','순이익증가율','총포괄이익증가율' 평균값으로 대체# \n",
    "col_list = ['정상영업이익증가율','순이익증가율','총포괄이익증가율']\n",
    "ind = train.index\n",
    "for i in col_list:\n",
    "    mean = train[i].mean()\n",
    "    for j in ind:\n",
    "        if train.loc[j,i] ==0:\n",
    "            train.loc[j,i] = mean"
   ]
  },
  {
   "cell_type": "code",
   "execution_count": 371,
   "metadata": {},
   "outputs": [],
   "source": [
    "df = pd.concat([train, test], axis=0)\n",
    "df.reset_index(drop=True,inplace=True)"
   ]
  },
  {
   "cell_type": "code",
   "execution_count": 372,
   "metadata": {},
   "outputs": [],
   "source": [
    "df.drop([\"1인평균지급액(임원)\",'직급명'],axis=1, inplace=True)"
   ]
  },
  {
   "cell_type": "code",
   "execution_count": 373,
   "metadata": {},
   "outputs": [
    {
     "data": {
      "text/plain": [
       "0    6927\n",
       "1    3047\n",
       "Name: target, dtype: int64"
      ]
     },
     "execution_count": 373,
     "metadata": {},
     "output_type": "execute_result"
    }
   ],
   "source": [
    "df[\"target\"].value_counts()"
   ]
  },
  {
   "cell_type": "code",
   "execution_count": 374,
   "metadata": {},
   "outputs": [],
   "source": [
    "# 최종데이터에서 금융관련 기업 추출\n",
    "ind_금융 = df[df[\"통계청 한국표준산업분류 10차(대분류)\"].str.contains(\"금융\")][\"회사명\"].index\n",
    "\n",
    "# 금융 관련 기업 삭제\n",
    "df.drop(index=ind_금융, axis=0, inplace=True)"
   ]
  },
  {
   "cell_type": "code",
   "execution_count": 375,
   "metadata": {},
   "outputs": [
    {
     "data": {
      "text/plain": [
       "0"
      ]
     },
     "execution_count": 375,
     "metadata": {},
     "output_type": "execute_result"
    }
   ],
   "source": [
    "# 결측치 확인  - 엄슴\n",
    "df.isna().sum().sum()"
   ]
  },
  {
   "cell_type": "code",
   "execution_count": 376,
   "metadata": {},
   "outputs": [
    {
     "name": "stdout",
     "output_type": "stream",
     "text": [
      "<class 'pandas.core.frame.DataFrame'>\n",
      "Int64Index: 9914 entries, 0 to 9973\n",
      "Data columns (total 43 columns):\n",
      " #   Column                 Non-Null Count  Dtype  \n",
      "---  ------                 --------------  -----  \n",
      " 0   회사명                    9914 non-null   object \n",
      " 1   거래소코드                  9914 non-null   float64\n",
      " 2   회계년도                   9914 non-null   float64\n",
      " 3   대주주지분변화분               9914 non-null   float64\n",
      " 4   외국인지분분변화               9914 non-null   float64\n",
      " 5   상장일                    9914 non-null   object \n",
      " 6   자산                     9914 non-null   float64\n",
      " 7   당기순이익(손실)              9914 non-null   float64\n",
      " 8   비유동자산증가율               9914 non-null   float64\n",
      " 9   유동자산증가율                9914 non-null   float64\n",
      " 10  자기자본증가율                9914 non-null   float64\n",
      " 11  매출액증가율                 9914 non-null   float64\n",
      " 12  정상영업이익증가율              9914 non-null   float64\n",
      " 13  순이익증가율                 9914 non-null   float64\n",
      " 14  총포괄이익증가율               9914 non-null   float64\n",
      " 15  매출액순이익률                9914 non-null   float64\n",
      " 16  총자본순이익률                9914 non-null   float64\n",
      " 17  자기자본순이익률               9914 non-null   float64\n",
      " 18  매출원가대매출액비율             9914 non-null   float64\n",
      " 19  광고선전비대매출액비율            9914 non-null   float64\n",
      " 20  유보율                    9914 non-null   float64\n",
      " 21  비유동비율                  9914 non-null   float64\n",
      " 22  유동비율                   9914 non-null   float64\n",
      " 23  당좌비율                   9914 non-null   float64\n",
      " 24  현금비율                   9914 non-null   float64\n",
      " 25  부채비율                   9914 non-null   float64\n",
      " 26  유동부채비율                 9914 non-null   float64\n",
      " 27  차입금비율                  9914 non-null   float64\n",
      " 28  이자보상배율(이자비용)           9914 non-null   float64\n",
      " 29  유보액대비율                 9914 non-null   float64\n",
      " 30  유보액대납입자본배율             9914 non-null   float64\n",
      " 31  투자집중도                  9914 non-null   float64\n",
      " 32  통계청 한국표준산업분류 10차(대분류)  9914 non-null   object \n",
      " 33  1인년간평균급여(직원)           9914 non-null   float64\n",
      " 34  토빈Q                    9914 non-null   float64\n",
      " 35  target                 9914 non-null   int64  \n",
      " 36  WW지수                   9914 non-null   float64\n",
      " 37  RDS                    9914 non-null   float64\n",
      " 38  수명주기                   9914 non-null   object \n",
      " 39  산업평균_총자산증가율차분          9914 non-null   float64\n",
      " 40  보통주식비율                 9914 non-null   float64\n",
      " 41  외국인_주식분포비율             9914 non-null   float64\n",
      " 42  업력                     9914 non-null   int32  \n",
      "dtypes: float64(37), int32(1), int64(1), object(4)\n",
      "memory usage: 3.3+ MB\n"
     ]
    }
   ],
   "source": [
    "df.info()"
   ]
  },
  {
   "cell_type": "code",
   "execution_count": 377,
   "metadata": {},
   "outputs": [
    {
     "name": "stdout",
     "output_type": "stream",
     "text": [
      "0\n",
      "0\n"
     ]
    }
   ],
   "source": [
    "# 양의 무한대 값 추출 --엄슴\n",
    "print(len(df[df.values == math.inf]))\n",
    "\n",
    "# 음의 무한대 값 추출 --엄슴\n",
    "print(len(df[df.values ==-np.inf]))"
   ]
  },
  {
   "cell_type": "code",
   "execution_count": 378,
   "metadata": {},
   "outputs": [],
   "source": [
    "# 숫자현 컬럼만 있는 데이터프레임 생성 \n",
    "# df_1 = df[df.select_dtypes(float).columns]\n",
    "\n",
    "# 숫자형 데이터프레임 컬럼 추출\n",
    "# col_int=df_1.columns\n",
    "\n",
    "#  데이터 박스플롯으로 보기\n",
    "\n",
    "# plt.figure(figsize=(20,20))\n",
    "\n",
    "# for i in range(1,35,1):\n",
    "#     plt.subplot(5,7,i)\n",
    "#     a = df_1.iloc[:,i]\n",
    "#     plt.boxplot(a)\n",
    "#     b = col_int.str[:7][i-1]\n",
    "#     plt.title(b)\n",
    "# plt.show()\n",
    "   \n",
    "        "
   ]
  },
  {
   "attachments": {},
   "cell_type": "markdown",
   "metadata": {},
   "source": [
    "## 박스플롯 이상치 제거\n",
    "- 박스플롯을 이용해서 현저하게 이상한 값이 관측되는 컬럼 제거"
   ]
  },
  {
   "cell_type": "code",
   "execution_count": 379,
   "metadata": {},
   "outputs": [
    {
     "data": {
      "text/plain": [
       "42354.18"
      ]
     },
     "execution_count": 379,
     "metadata": {},
     "output_type": "execute_result"
    }
   ],
   "source": [
    "df[\"당좌비율\"].max()"
   ]
  },
  {
   "cell_type": "code",
   "execution_count": 380,
   "metadata": {},
   "outputs": [
    {
     "data": {
      "text/html": [
       "<div>\n",
       "<style scoped>\n",
       "    .dataframe tbody tr th:only-of-type {\n",
       "        vertical-align: middle;\n",
       "    }\n",
       "\n",
       "    .dataframe tbody tr th {\n",
       "        vertical-align: top;\n",
       "    }\n",
       "\n",
       "    .dataframe thead th {\n",
       "        text-align: right;\n",
       "    }\n",
       "</style>\n",
       "<table border=\"1\" class=\"dataframe\">\n",
       "  <thead>\n",
       "    <tr style=\"text-align: right;\">\n",
       "      <th></th>\n",
       "      <th>회사명</th>\n",
       "      <th>거래소코드</th>\n",
       "      <th>회계년도</th>\n",
       "      <th>대주주지분변화분</th>\n",
       "      <th>외국인지분분변화</th>\n",
       "      <th>상장일</th>\n",
       "      <th>자산</th>\n",
       "      <th>당기순이익(손실)</th>\n",
       "      <th>비유동자산증가율</th>\n",
       "      <th>유동자산증가율</th>\n",
       "      <th>...</th>\n",
       "      <th>1인년간평균급여(직원)</th>\n",
       "      <th>토빈Q</th>\n",
       "      <th>target</th>\n",
       "      <th>WW지수</th>\n",
       "      <th>RDS</th>\n",
       "      <th>수명주기</th>\n",
       "      <th>산업평균_총자산증가율차분</th>\n",
       "      <th>보통주식비율</th>\n",
       "      <th>외국인_주식분포비율</th>\n",
       "      <th>업력</th>\n",
       "    </tr>\n",
       "  </thead>\n",
       "  <tbody>\n",
       "    <tr>\n",
       "      <th>991</th>\n",
       "      <td>(주)메지온</td>\n",
       "      <td>140410.0</td>\n",
       "      <td>2013.0</td>\n",
       "      <td>0.0</td>\n",
       "      <td>0.07</td>\n",
       "      <td>2012/01/20</td>\n",
       "      <td>63339954.0</td>\n",
       "      <td>-830752.0</td>\n",
       "      <td>-34.02</td>\n",
       "      <td>-2.24</td>\n",
       "      <td>...</td>\n",
       "      <td>135423.0</td>\n",
       "      <td>1.895111</td>\n",
       "      <td>0</td>\n",
       "      <td>-2.63464</td>\n",
       "      <td>0.223192</td>\n",
       "      <td>쇠퇴기</td>\n",
       "      <td>-5.930169</td>\n",
       "      <td>41.76</td>\n",
       "      <td>24.1</td>\n",
       "      <td>11</td>\n",
       "    </tr>\n",
       "  </tbody>\n",
       "</table>\n",
       "<p>1 rows × 43 columns</p>\n",
       "</div>"
      ],
      "text/plain": [
       "        회사명     거래소코드    회계년도  대주주지분변화분  외국인지분분변화         상장일          자산  \\\n",
       "991  (주)메지온  140410.0  2013.0       0.0      0.07  2012/01/20  63339954.0   \n",
       "\n",
       "     당기순이익(손실)  비유동자산증가율  유동자산증가율  ...  1인년간평균급여(직원)       토빈Q  target  \\\n",
       "991  -830752.0    -34.02    -2.24  ...      135423.0  1.895111       0   \n",
       "\n",
       "        WW지수       RDS  수명주기  산업평균_총자산증가율차분  보통주식비율  외국인_주식분포비율  업력  \n",
       "991 -2.63464  0.223192   쇠퇴기      -5.930169   41.76        24.1  11  \n",
       "\n",
       "[1 rows x 43 columns]"
      ]
     },
     "execution_count": 380,
     "metadata": {},
     "output_type": "execute_result"
    }
   ],
   "source": [
    "df[df[\"당좌비율\"] == 42354.18]"
   ]
  },
  {
   "cell_type": "code",
   "execution_count": 381,
   "metadata": {},
   "outputs": [],
   "source": [
    "df.drop(index=991, axis=0 ,inplace=True)\n",
    "df.reset_index(drop=True,inplace=True)"
   ]
  },
  {
   "cell_type": "code",
   "execution_count": 382,
   "metadata": {},
   "outputs": [
    {
     "data": {
      "text/plain": [
       "{'whiskers': [<matplotlib.lines.Line2D at 0x157cfa67be0>,\n",
       "  <matplotlib.lines.Line2D at 0x157cfa67eb0>],\n",
       " 'caps': [<matplotlib.lines.Line2D at 0x157cfa521c0>,\n",
       "  <matplotlib.lines.Line2D at 0x157cfa52490>],\n",
       " 'boxes': [<matplotlib.lines.Line2D at 0x157cfa67910>],\n",
       " 'medians': [<matplotlib.lines.Line2D at 0x157cfa52760>],\n",
       " 'fliers': [<matplotlib.lines.Line2D at 0x157cfa52a30>],\n",
       " 'means': []}"
      ]
     },
     "execution_count": 382,
     "metadata": {},
     "output_type": "execute_result"
    },
    {
     "data": {
      "image/png": "[encoded data removed]",
      "text/plain": [
       "<Figure size 640x480 with 1 Axes>"
      ]
     },
     "metadata": {},
     "output_type": "display_data"
    }
   ],
   "source": [
    "plt.boxplot(df[\"당좌비율\"])"
   ]
  },
  {
   "cell_type": "code",
   "execution_count": 383,
   "metadata": {},
   "outputs": [
    {
     "data": {
      "text/html": [
       "<div>\n",
       "<style scoped>\n",
       "    .dataframe tbody tr th:only-of-type {\n",
       "        vertical-align: middle;\n",
       "    }\n",
       "\n",
       "    .dataframe tbody tr th {\n",
       "        vertical-align: top;\n",
       "    }\n",
       "\n",
       "    .dataframe thead th {\n",
       "        text-align: right;\n",
       "    }\n",
       "</style>\n",
       "<table border=\"1\" class=\"dataframe\">\n",
       "  <thead>\n",
       "    <tr style=\"text-align: right;\">\n",
       "      <th></th>\n",
       "      <th>회사명</th>\n",
       "      <th>거래소코드</th>\n",
       "      <th>회계년도</th>\n",
       "      <th>대주주지분변화분</th>\n",
       "      <th>외국인지분분변화</th>\n",
       "      <th>상장일</th>\n",
       "      <th>자산</th>\n",
       "      <th>당기순이익(손실)</th>\n",
       "      <th>비유동자산증가율</th>\n",
       "      <th>유동자산증가율</th>\n",
       "      <th>...</th>\n",
       "      <th>1인년간평균급여(직원)</th>\n",
       "      <th>토빈Q</th>\n",
       "      <th>target</th>\n",
       "      <th>WW지수</th>\n",
       "      <th>RDS</th>\n",
       "      <th>수명주기</th>\n",
       "      <th>산업평균_총자산증가율차분</th>\n",
       "      <th>보통주식비율</th>\n",
       "      <th>외국인_주식분포비율</th>\n",
       "      <th>업력</th>\n",
       "    </tr>\n",
       "  </thead>\n",
       "  <tbody>\n",
       "    <tr>\n",
       "      <th>7777</th>\n",
       "      <td>하이즈항공(주)</td>\n",
       "      <td>221840.0</td>\n",
       "      <td>2015.0</td>\n",
       "      <td>15.28</td>\n",
       "      <td>-13.93</td>\n",
       "      <td>2015/11/25</td>\n",
       "      <td>124460894.0</td>\n",
       "      <td>3434991.0</td>\n",
       "      <td>49.33</td>\n",
       "      <td>383.58</td>\n",
       "      <td>...</td>\n",
       "      <td>27000.0</td>\n",
       "      <td>0.337871</td>\n",
       "      <td>0</td>\n",
       "      <td>-1.022902</td>\n",
       "      <td>0.006971</td>\n",
       "      <td>성장기</td>\n",
       "      <td>148.259253</td>\n",
       "      <td>43.42</td>\n",
       "      <td>0.41</td>\n",
       "      <td>14</td>\n",
       "    </tr>\n",
       "    <tr>\n",
       "      <th>9112</th>\n",
       "      <td>(주)키다리스튜디오</td>\n",
       "      <td>20120.0</td>\n",
       "      <td>2021.0</td>\n",
       "      <td>-23.93</td>\n",
       "      <td>-0.76</td>\n",
       "      <td>1996/07/03</td>\n",
       "      <td>290122175.0</td>\n",
       "      <td>3548090.0</td>\n",
       "      <td>817.49</td>\n",
       "      <td>216.70</td>\n",
       "      <td>...</td>\n",
       "      <td>59953.0</td>\n",
       "      <td>2.084365</td>\n",
       "      <td>0</td>\n",
       "      <td>5.733984</td>\n",
       "      <td>0.000000</td>\n",
       "      <td>성숙기</td>\n",
       "      <td>502.365704</td>\n",
       "      <td>46.17</td>\n",
       "      <td>1.59</td>\n",
       "      <td>34</td>\n",
       "    </tr>\n",
       "  </tbody>\n",
       "</table>\n",
       "<p>2 rows × 43 columns</p>\n",
       "</div>"
      ],
      "text/plain": [
       "             회사명     거래소코드    회계년도  대주주지분변화분  외국인지분분변화         상장일  \\\n",
       "7777    하이즈항공(주)  221840.0  2015.0     15.28    -13.93  2015/11/25   \n",
       "9112  (주)키다리스튜디오   20120.0  2021.0    -23.93     -0.76  1996/07/03   \n",
       "\n",
       "               자산  당기순이익(손실)  비유동자산증가율  유동자산증가율  ...  1인년간평균급여(직원)       토빈Q  \\\n",
       "7777  124460894.0  3434991.0     49.33   383.58  ...       27000.0  0.337871   \n",
       "9112  290122175.0  3548090.0    817.49   216.70  ...       59953.0  2.084365   \n",
       "\n",
       "      target      WW지수       RDS  수명주기  산업평균_총자산증가율차분  보통주식비율  외국인_주식분포비율  업력  \n",
       "7777       0 -1.022902  0.006971   성장기     148.259253   43.42        0.41  14  \n",
       "9112       0  5.733984  0.000000   성숙기     502.365704   46.17        1.59  34  \n",
       "\n",
       "[2 rows x 43 columns]"
      ]
     },
     "execution_count": 383,
     "metadata": {},
     "output_type": "execute_result"
    }
   ],
   "source": [
    "df[df[\"자기자본증가율\"] >= 700]"
   ]
  },
  {
   "cell_type": "code",
   "execution_count": 384,
   "metadata": {},
   "outputs": [
    {
     "data": {
      "text/html": [
       "<div>\n",
       "<style scoped>\n",
       "    .dataframe tbody tr th:only-of-type {\n",
       "        vertical-align: middle;\n",
       "    }\n",
       "\n",
       "    .dataframe tbody tr th {\n",
       "        vertical-align: top;\n",
       "    }\n",
       "\n",
       "    .dataframe thead th {\n",
       "        text-align: right;\n",
       "    }\n",
       "</style>\n",
       "<table border=\"1\" class=\"dataframe\">\n",
       "  <thead>\n",
       "    <tr style=\"text-align: right;\">\n",
       "      <th></th>\n",
       "      <th>회사명</th>\n",
       "      <th>거래소코드</th>\n",
       "      <th>회계년도</th>\n",
       "      <th>대주주지분변화분</th>\n",
       "      <th>외국인지분분변화</th>\n",
       "      <th>상장일</th>\n",
       "      <th>자산</th>\n",
       "      <th>당기순이익(손실)</th>\n",
       "      <th>비유동자산증가율</th>\n",
       "      <th>유동자산증가율</th>\n",
       "      <th>...</th>\n",
       "      <th>1인년간평균급여(직원)</th>\n",
       "      <th>토빈Q</th>\n",
       "      <th>target</th>\n",
       "      <th>WW지수</th>\n",
       "      <th>RDS</th>\n",
       "      <th>수명주기</th>\n",
       "      <th>산업평균_총자산증가율차분</th>\n",
       "      <th>보통주식비율</th>\n",
       "      <th>외국인_주식분포비율</th>\n",
       "      <th>업력</th>\n",
       "    </tr>\n",
       "  </thead>\n",
       "  <tbody>\n",
       "    <tr>\n",
       "      <th>9112</th>\n",
       "      <td>(주)키다리스튜디오</td>\n",
       "      <td>20120.0</td>\n",
       "      <td>2021.0</td>\n",
       "      <td>-23.93</td>\n",
       "      <td>-0.76</td>\n",
       "      <td>1996/07/03</td>\n",
       "      <td>290122175.0</td>\n",
       "      <td>3548090.0</td>\n",
       "      <td>817.49</td>\n",
       "      <td>216.7</td>\n",
       "      <td>...</td>\n",
       "      <td>59953.0</td>\n",
       "      <td>2.084365</td>\n",
       "      <td>0</td>\n",
       "      <td>5.733984</td>\n",
       "      <td>0.0</td>\n",
       "      <td>성숙기</td>\n",
       "      <td>502.365704</td>\n",
       "      <td>46.17</td>\n",
       "      <td>1.59</td>\n",
       "      <td>34</td>\n",
       "    </tr>\n",
       "  </tbody>\n",
       "</table>\n",
       "<p>1 rows × 43 columns</p>\n",
       "</div>"
      ],
      "text/plain": [
       "             회사명    거래소코드    회계년도  대주주지분변화분  외국인지분분변화         상장일  \\\n",
       "9112  (주)키다리스튜디오  20120.0  2021.0    -23.93     -0.76  1996/07/03   \n",
       "\n",
       "               자산  당기순이익(손실)  비유동자산증가율  유동자산증가율  ...  1인년간평균급여(직원)       토빈Q  \\\n",
       "9112  290122175.0  3548090.0    817.49    216.7  ...       59953.0  2.084365   \n",
       "\n",
       "      target      WW지수  RDS  수명주기  산업평균_총자산증가율차분  보통주식비율  외국인_주식분포비율  업력  \n",
       "9112       0  5.733984  0.0   성숙기     502.365704   46.17        1.59  34  \n",
       "\n",
       "[1 rows x 43 columns]"
      ]
     },
     "execution_count": 384,
     "metadata": {},
     "output_type": "execute_result"
    }
   ],
   "source": [
    "df[df[\"자기자본증가율\"] == 719.48]"
   ]
  },
  {
   "cell_type": "code",
   "execution_count": 385,
   "metadata": {},
   "outputs": [],
   "source": [
    "df.drop(index=9112, axis=0 , inplace=True)\n",
    "df.reset_index(drop=True, inplace=True)"
   ]
  },
  {
   "cell_type": "code",
   "execution_count": 386,
   "metadata": {},
   "outputs": [
    {
     "data": {
      "text/plain": [
       "{'whiskers': [<matplotlib.lines.Line2D at 0x157cb29a550>,\n",
       "  <matplotlib.lines.Line2D at 0x157cb29a820>],\n",
       " 'caps': [<matplotlib.lines.Line2D at 0x157cb29aaf0>,\n",
       "  <matplotlib.lines.Line2D at 0x157cb29adc0>],\n",
       " 'boxes': [<matplotlib.lines.Line2D at 0x157cb29a280>],\n",
       " 'medians': [<matplotlib.lines.Line2D at 0x157d29590d0>],\n",
       " 'fliers': [<matplotlib.lines.Line2D at 0x157d29593a0>],\n",
       " 'means': []}"
      ]
     },
     "execution_count": 386,
     "metadata": {},
     "output_type": "execute_result"
    },
    {
     "data": {
      "image/png": "[encoded data removed]",
      "text/plain": [
       "<Figure size 640x480 with 1 Axes>"
      ]
     },
     "metadata": {},
     "output_type": "display_data"
    }
   ],
   "source": [
    "plt.boxplot(df[\"자기자본증가율\"])"
   ]
  },
  {
   "cell_type": "code",
   "execution_count": 387,
   "metadata": {},
   "outputs": [
    {
     "data": {
      "text/html": [
       "<div>\n",
       "<style scoped>\n",
       "    .dataframe tbody tr th:only-of-type {\n",
       "        vertical-align: middle;\n",
       "    }\n",
       "\n",
       "    .dataframe tbody tr th {\n",
       "        vertical-align: top;\n",
       "    }\n",
       "\n",
       "    .dataframe thead th {\n",
       "        text-align: right;\n",
       "    }\n",
       "</style>\n",
       "<table border=\"1\" class=\"dataframe\">\n",
       "  <thead>\n",
       "    <tr style=\"text-align: right;\">\n",
       "      <th></th>\n",
       "      <th>회사명</th>\n",
       "      <th>거래소코드</th>\n",
       "      <th>회계년도</th>\n",
       "      <th>대주주지분변화분</th>\n",
       "      <th>외국인지분분변화</th>\n",
       "      <th>상장일</th>\n",
       "      <th>자산</th>\n",
       "      <th>당기순이익(손실)</th>\n",
       "      <th>비유동자산증가율</th>\n",
       "      <th>유동자산증가율</th>\n",
       "      <th>...</th>\n",
       "      <th>1인년간평균급여(직원)</th>\n",
       "      <th>토빈Q</th>\n",
       "      <th>target</th>\n",
       "      <th>WW지수</th>\n",
       "      <th>RDS</th>\n",
       "      <th>수명주기</th>\n",
       "      <th>산업평균_총자산증가율차분</th>\n",
       "      <th>보통주식비율</th>\n",
       "      <th>외국인_주식분포비율</th>\n",
       "      <th>업력</th>\n",
       "    </tr>\n",
       "  </thead>\n",
       "  <tbody>\n",
       "    <tr>\n",
       "      <th>4886</th>\n",
       "      <td>(주)휴맥스홀딩스</td>\n",
       "      <td>28080.0</td>\n",
       "      <td>2017.0</td>\n",
       "      <td>-20.07</td>\n",
       "      <td>0.0</td>\n",
       "      <td>1997/04/16</td>\n",
       "      <td>192627732.0</td>\n",
       "      <td>-659818.0</td>\n",
       "      <td>-13.59</td>\n",
       "      <td>19.68</td>\n",
       "      <td>...</td>\n",
       "      <td>103589.0</td>\n",
       "      <td>0.459561</td>\n",
       "      <td>0</td>\n",
       "      <td>-0.978376</td>\n",
       "      <td>0.0</td>\n",
       "      <td>성숙기</td>\n",
       "      <td>-13.191091</td>\n",
       "      <td>36.55</td>\n",
       "      <td>0.0</td>\n",
       "      <td>28</td>\n",
       "    </tr>\n",
       "  </tbody>\n",
       "</table>\n",
       "<p>1 rows × 43 columns</p>\n",
       "</div>"
      ],
      "text/plain": [
       "            회사명    거래소코드    회계년도  대주주지분변화분  외국인지분분변화         상장일           자산  \\\n",
       "4886  (주)휴맥스홀딩스  28080.0  2017.0    -20.07       0.0  1997/04/16  192627732.0   \n",
       "\n",
       "      당기순이익(손실)  비유동자산증가율  유동자산증가율  ...  1인년간평균급여(직원)       토빈Q  target  \\\n",
       "4886  -659818.0    -13.59    19.68  ...      103589.0  0.459561       0   \n",
       "\n",
       "          WW지수  RDS  수명주기  산업평균_총자산증가율차분  보통주식비율  외국인_주식분포비율  업력  \n",
       "4886 -0.978376  0.0   성숙기     -13.191091   36.55         0.0  28  \n",
       "\n",
       "[1 rows x 43 columns]"
      ]
     },
     "execution_count": 387,
     "metadata": {},
     "output_type": "execute_result"
    }
   ],
   "source": [
    "df[df[\"매출원가대매출액비율\"]>=300]"
   ]
  },
  {
   "cell_type": "code",
   "execution_count": 388,
   "metadata": {},
   "outputs": [],
   "source": [
    "df.drop(index=4886, axis=0, inplace=True)\n",
    "df.reset_index(drop=True, inplace=True)"
   ]
  },
  {
   "cell_type": "code",
   "execution_count": 389,
   "metadata": {},
   "outputs": [
    {
     "data": {
      "text/plain": [
       "{'whiskers': [<matplotlib.lines.Line2D at 0x157d212c790>,\n",
       "  <matplotlib.lines.Line2D at 0x157d212ca60>],\n",
       " 'caps': [<matplotlib.lines.Line2D at 0x157d212cd30>,\n",
       "  <matplotlib.lines.Line2D at 0x157d2121040>],\n",
       " 'boxes': [<matplotlib.lines.Line2D at 0x157d212c490>],\n",
       " 'medians': [<matplotlib.lines.Line2D at 0x157d2121310>],\n",
       " 'fliers': [<matplotlib.lines.Line2D at 0x157d21215e0>],\n",
       " 'means': []}"
      ]
     },
     "execution_count": 389,
     "metadata": {},
     "output_type": "execute_result"
    },
    {
     "data": {
      "image/png": "[encoded data removed]",
      "text/plain": [
       "<Figure size 640x480 with 1 Axes>"
      ]
     },
     "metadata": {},
     "output_type": "display_data"
    }
   ],
   "source": [
    "plt.boxplot(df[\"매출원가대매출액비율\"])"
   ]
  },
  {
   "cell_type": "code",
   "execution_count": 390,
   "metadata": {},
   "outputs": [
    {
     "data": {
      "text/html": [
       "<div>\n",
       "<style scoped>\n",
       "    .dataframe tbody tr th:only-of-type {\n",
       "        vertical-align: middle;\n",
       "    }\n",
       "\n",
       "    .dataframe tbody tr th {\n",
       "        vertical-align: top;\n",
       "    }\n",
       "\n",
       "    .dataframe thead th {\n",
       "        text-align: right;\n",
       "    }\n",
       "</style>\n",
       "<table border=\"1\" class=\"dataframe\">\n",
       "  <thead>\n",
       "    <tr style=\"text-align: right;\">\n",
       "      <th></th>\n",
       "      <th>회사명</th>\n",
       "      <th>거래소코드</th>\n",
       "      <th>회계년도</th>\n",
       "      <th>대주주지분변화분</th>\n",
       "      <th>외국인지분분변화</th>\n",
       "      <th>상장일</th>\n",
       "      <th>자산</th>\n",
       "      <th>당기순이익(손실)</th>\n",
       "      <th>비유동자산증가율</th>\n",
       "      <th>유동자산증가율</th>\n",
       "      <th>...</th>\n",
       "      <th>1인년간평균급여(직원)</th>\n",
       "      <th>토빈Q</th>\n",
       "      <th>target</th>\n",
       "      <th>WW지수</th>\n",
       "      <th>RDS</th>\n",
       "      <th>수명주기</th>\n",
       "      <th>산업평균_총자산증가율차분</th>\n",
       "      <th>보통주식비율</th>\n",
       "      <th>외국인_주식분포비율</th>\n",
       "      <th>업력</th>\n",
       "    </tr>\n",
       "  </thead>\n",
       "  <tbody>\n",
       "    <tr>\n",
       "      <th>4169</th>\n",
       "      <td>(주)티에이치엔</td>\n",
       "      <td>19180.0</td>\n",
       "      <td>2014.0</td>\n",
       "      <td>-2.89</td>\n",
       "      <td>0.0</td>\n",
       "      <td>1996/07/31</td>\n",
       "      <td>208631661.0</td>\n",
       "      <td>6893912.0</td>\n",
       "      <td>-0.92</td>\n",
       "      <td>6.03</td>\n",
       "      <td>...</td>\n",
       "      <td>43118.0</td>\n",
       "      <td>1.072695</td>\n",
       "      <td>0</td>\n",
       "      <td>-1.222779</td>\n",
       "      <td>0.0</td>\n",
       "      <td>성장기</td>\n",
       "      <td>2.605384</td>\n",
       "      <td>36.6</td>\n",
       "      <td>0.0</td>\n",
       "      <td>28</td>\n",
       "    </tr>\n",
       "  </tbody>\n",
       "</table>\n",
       "<p>1 rows × 43 columns</p>\n",
       "</div>"
      ],
      "text/plain": [
       "           회사명    거래소코드    회계년도  대주주지분변화분  외국인지분분변화         상장일           자산  \\\n",
       "4169  (주)티에이치엔  19180.0  2014.0     -2.89       0.0  1996/07/31  208631661.0   \n",
       "\n",
       "      당기순이익(손실)  비유동자산증가율  유동자산증가율  ...  1인년간평균급여(직원)       토빈Q  target  \\\n",
       "4169  6893912.0     -0.92     6.03  ...       43118.0  1.072695       0   \n",
       "\n",
       "          WW지수  RDS  수명주기  산업평균_총자산증가율차분  보통주식비율  외국인_주식분포비율  업력  \n",
       "4169 -1.222779  0.0   성장기       2.605384    36.6         0.0  28  \n",
       "\n",
       "[1 rows x 43 columns]"
      ]
     },
     "execution_count": 390,
     "metadata": {},
     "output_type": "execute_result"
    }
   ],
   "source": [
    "df[df[\"부채비율\"]>=2000]"
   ]
  },
  {
   "cell_type": "code",
   "execution_count": 391,
   "metadata": {},
   "outputs": [],
   "source": [
    "df.drop(index=4169, axis=0,inplace=True)\n",
    "df.reset_index(drop=True, inplace=True)\n"
   ]
  },
  {
   "cell_type": "code",
   "execution_count": 392,
   "metadata": {},
   "outputs": [
    {
     "data": {
      "text/plain": [
       "{'whiskers': [<matplotlib.lines.Line2D at 0x157d286b640>,\n",
       "  <matplotlib.lines.Line2D at 0x157d286b910>],\n",
       " 'caps': [<matplotlib.lines.Line2D at 0x157d286bbe0>,\n",
       "  <matplotlib.lines.Line2D at 0x157d286beb0>],\n",
       " 'boxes': [<matplotlib.lines.Line2D at 0x157d286b370>],\n",
       " 'medians': [<matplotlib.lines.Line2D at 0x157d28611c0>],\n",
       " 'fliers': [<matplotlib.lines.Line2D at 0x157d2861490>],\n",
       " 'means': []}"
      ]
     },
     "execution_count": 392,
     "metadata": {},
     "output_type": "execute_result"
    },
    {
     "data": {
      "image/png": "[encoded data removed]",
      "text/plain": [
       "<Figure size 640x480 with 1 Axes>"
      ]
     },
     "metadata": {},
     "output_type": "display_data"
    }
   ],
   "source": [
    "plt.boxplot(df[\"부채비율\"])"
   ]
  },
  {
   "cell_type": "code",
   "execution_count": 393,
   "metadata": {},
   "outputs": [
    {
     "data": {
      "text/html": [
       "<div>\n",
       "<style scoped>\n",
       "    .dataframe tbody tr th:only-of-type {\n",
       "        vertical-align: middle;\n",
       "    }\n",
       "\n",
       "    .dataframe tbody tr th {\n",
       "        vertical-align: top;\n",
       "    }\n",
       "\n",
       "    .dataframe thead th {\n",
       "        text-align: right;\n",
       "    }\n",
       "</style>\n",
       "<table border=\"1\" class=\"dataframe\">\n",
       "  <thead>\n",
       "    <tr style=\"text-align: right;\">\n",
       "      <th></th>\n",
       "      <th>회사명</th>\n",
       "      <th>거래소코드</th>\n",
       "      <th>회계년도</th>\n",
       "      <th>대주주지분변화분</th>\n",
       "      <th>외국인지분분변화</th>\n",
       "      <th>상장일</th>\n",
       "      <th>자산</th>\n",
       "      <th>당기순이익(손실)</th>\n",
       "      <th>비유동자산증가율</th>\n",
       "      <th>유동자산증가율</th>\n",
       "      <th>...</th>\n",
       "      <th>1인년간평균급여(직원)</th>\n",
       "      <th>토빈Q</th>\n",
       "      <th>target</th>\n",
       "      <th>WW지수</th>\n",
       "      <th>RDS</th>\n",
       "      <th>수명주기</th>\n",
       "      <th>산업평균_총자산증가율차분</th>\n",
       "      <th>보통주식비율</th>\n",
       "      <th>외국인_주식분포비율</th>\n",
       "      <th>업력</th>\n",
       "    </tr>\n",
       "  </thead>\n",
       "  <tbody>\n",
       "    <tr>\n",
       "      <th>2972</th>\n",
       "      <td>(주)위메이드</td>\n",
       "      <td>112040.0</td>\n",
       "      <td>2014.0</td>\n",
       "      <td>0.11</td>\n",
       "      <td>0.23</td>\n",
       "      <td>2009/12/18</td>\n",
       "      <td>542014941.0</td>\n",
       "      <td>222637279.0</td>\n",
       "      <td>85.94</td>\n",
       "      <td>-14.6</td>\n",
       "      <td>...</td>\n",
       "      <td>37000.0</td>\n",
       "      <td>1.35196</td>\n",
       "      <td>0</td>\n",
       "      <td>-1.12527</td>\n",
       "      <td>0.328877</td>\n",
       "      <td>쇠퇴기</td>\n",
       "      <td>47.705384</td>\n",
       "      <td>48.6</td>\n",
       "      <td>6.08</td>\n",
       "      <td>14</td>\n",
       "    </tr>\n",
       "  </tbody>\n",
       "</table>\n",
       "<p>1 rows × 43 columns</p>\n",
       "</div>"
      ],
      "text/plain": [
       "          회사명     거래소코드    회계년도  대주주지분변화분  외국인지분분변화         상장일           자산  \\\n",
       "2972  (주)위메이드  112040.0  2014.0      0.11      0.23  2009/12/18  542014941.0   \n",
       "\n",
       "        당기순이익(손실)  비유동자산증가율  유동자산증가율  ...  1인년간평균급여(직원)      토빈Q  target  \\\n",
       "2972  222637279.0     85.94    -14.6  ...       37000.0  1.35196       0   \n",
       "\n",
       "         WW지수       RDS  수명주기  산업평균_총자산증가율차분  보통주식비율  외국인_주식분포비율  업력  \n",
       "2972 -1.12527  0.328877   쇠퇴기      47.705384    48.6        6.08  14  \n",
       "\n",
       "[1 rows x 43 columns]"
      ]
     },
     "execution_count": 393,
     "metadata": {},
     "output_type": "execute_result"
    }
   ],
   "source": [
    "df[df[\"순이익증가율\"]>=6e6]"
   ]
  },
  {
   "cell_type": "code",
   "execution_count": 394,
   "metadata": {},
   "outputs": [],
   "source": [
    "df.drop(index=2972, axis=0, inplace=True)\n",
    "df.reset_index(drop=True, inplace=True)"
   ]
  },
  {
   "cell_type": "code",
   "execution_count": 395,
   "metadata": {},
   "outputs": [
    {
     "data": {
      "text/plain": [
       "{'whiskers': [<matplotlib.lines.Line2D at 0x157d203b4c0>,\n",
       "  <matplotlib.lines.Line2D at 0x157d203b790>],\n",
       " 'caps': [<matplotlib.lines.Line2D at 0x157d203ba60>,\n",
       "  <matplotlib.lines.Line2D at 0x157d203bd30>],\n",
       " 'boxes': [<matplotlib.lines.Line2D at 0x157d203b1f0>],\n",
       " 'medians': [<matplotlib.lines.Line2D at 0x157d2067040>],\n",
       " 'fliers': [<matplotlib.lines.Line2D at 0x157d2067310>],\n",
       " 'means': []}"
      ]
     },
     "execution_count": 395,
     "metadata": {},
     "output_type": "execute_result"
    },
    {
     "data": {
      "image/png": "[encoded data removed]",
      "text/plain": [
       "<Figure size 640x480 with 1 Axes>"
      ]
     },
     "metadata": {},
     "output_type": "display_data"
    }
   ],
   "source": [
    "plt.boxplot(df[\"순이익증가율\"])"
   ]
  },
  {
   "cell_type": "code",
   "execution_count": 396,
   "metadata": {},
   "outputs": [
    {
     "data": {
      "text/plain": [
       "1.000000e+09    564\n",
       "4.860000e+00     13\n",
       "2.080000e+00     12\n",
       "6.350000e+00     11\n",
       "2.810000e+00     11\n",
       "               ... \n",
       "1.143600e+02      1\n",
       "4.888800e+02      1\n",
       "4.551100e+02      1\n",
       "4.014100e+03      1\n",
       "1.646070e+03      1\n",
       "Name: 이자보상배율(이자비용), Length: 5304, dtype: int64"
      ]
     },
     "execution_count": 396,
     "metadata": {},
     "output_type": "execute_result"
    }
   ],
   "source": [
    "df[\"이자보상배율(이자비용)\"].value_counts().sort_values(ascending=False)"
   ]
  },
  {
   "cell_type": "code",
   "execution_count": 397,
   "metadata": {},
   "outputs": [
    {
     "data": {
      "text/html": [
       "<div>\n",
       "<style scoped>\n",
       "    .dataframe tbody tr th:only-of-type {\n",
       "        vertical-align: middle;\n",
       "    }\n",
       "\n",
       "    .dataframe tbody tr th {\n",
       "        vertical-align: top;\n",
       "    }\n",
       "\n",
       "    .dataframe thead th {\n",
       "        text-align: right;\n",
       "    }\n",
       "</style>\n",
       "<table border=\"1\" class=\"dataframe\">\n",
       "  <thead>\n",
       "    <tr style=\"text-align: right;\">\n",
       "      <th></th>\n",
       "      <th>회사명</th>\n",
       "      <th>거래소코드</th>\n",
       "      <th>회계년도</th>\n",
       "      <th>대주주지분변화분</th>\n",
       "      <th>외국인지분분변화</th>\n",
       "      <th>상장일</th>\n",
       "      <th>자산</th>\n",
       "      <th>당기순이익(손실)</th>\n",
       "      <th>비유동자산증가율</th>\n",
       "      <th>유동자산증가율</th>\n",
       "      <th>...</th>\n",
       "      <th>1인년간평균급여(직원)</th>\n",
       "      <th>토빈Q</th>\n",
       "      <th>target</th>\n",
       "      <th>WW지수</th>\n",
       "      <th>RDS</th>\n",
       "      <th>수명주기</th>\n",
       "      <th>산업평균_총자산증가율차분</th>\n",
       "      <th>보통주식비율</th>\n",
       "      <th>외국인_주식분포비율</th>\n",
       "      <th>업력</th>\n",
       "    </tr>\n",
       "  </thead>\n",
       "  <tbody>\n",
       "    <tr>\n",
       "      <th>1245</th>\n",
       "      <td>(주)비지에프</td>\n",
       "      <td>27410.0</td>\n",
       "      <td>2017.0</td>\n",
       "      <td>0.0</td>\n",
       "      <td>-14.48</td>\n",
       "      <td>2014/05/19</td>\n",
       "      <td>858118605.0</td>\n",
       "      <td>3.507921e+09</td>\n",
       "      <td>-55.05</td>\n",
       "      <td>-55.44</td>\n",
       "      <td>...</td>\n",
       "      <td>64000.0</td>\n",
       "      <td>1.387968</td>\n",
       "      <td>0</td>\n",
       "      <td>-2.83317</td>\n",
       "      <td>0.0</td>\n",
       "      <td>성숙기</td>\n",
       "      <td>-55.411091</td>\n",
       "      <td>50.31</td>\n",
       "      <td>15.3</td>\n",
       "      <td>23</td>\n",
       "    </tr>\n",
       "  </tbody>\n",
       "</table>\n",
       "<p>1 rows × 43 columns</p>\n",
       "</div>"
      ],
      "text/plain": [
       "          회사명    거래소코드    회계년도  대주주지분변화분  외국인지분분변화         상장일           자산  \\\n",
       "1245  (주)비지에프  27410.0  2017.0       0.0    -14.48  2014/05/19  858118605.0   \n",
       "\n",
       "         당기순이익(손실)  비유동자산증가율  유동자산증가율  ...  1인년간평균급여(직원)       토빈Q  target  \\\n",
       "1245  3.507921e+09    -55.05   -55.44  ...       64000.0  1.387968       0   \n",
       "\n",
       "         WW지수  RDS  수명주기  산업평균_총자산증가율차분  보통주식비율  외국인_주식분포비율  업력  \n",
       "1245 -2.83317  0.0   성숙기     -55.411091   50.31        15.3  23  \n",
       "\n",
       "[1 rows x 43 columns]"
      ]
     },
     "execution_count": 397,
     "metadata": {},
     "output_type": "execute_result"
    }
   ],
   "source": [
    "df[df[\"매출액순이익률\"] >= 2500]"
   ]
  },
  {
   "cell_type": "code",
   "execution_count": 398,
   "metadata": {},
   "outputs": [],
   "source": [
    "df.drop(index=1245, axis=0, inplace=True)\n",
    "df.reset_index(drop=True, inplace=True)"
   ]
  },
  {
   "cell_type": "code",
   "execution_count": 399,
   "metadata": {},
   "outputs": [
    {
     "data": {
      "text/plain": [
       "{'whiskers': [<matplotlib.lines.Line2D at 0x157d21b0250>,\n",
       "  <matplotlib.lines.Line2D at 0x157d21b0520>],\n",
       " 'caps': [<matplotlib.lines.Line2D at 0x157d21b07f0>,\n",
       "  <matplotlib.lines.Line2D at 0x157d21b0ac0>],\n",
       " 'boxes': [<matplotlib.lines.Line2D at 0x157d21bef40>],\n",
       " 'medians': [<matplotlib.lines.Line2D at 0x157d21b0d90>],\n",
       " 'fliers': [<matplotlib.lines.Line2D at 0x157d21c30a0>],\n",
       " 'means': []}"
      ]
     },
     "execution_count": 399,
     "metadata": {},
     "output_type": "execute_result"
    },
    {
     "data": {
      "image/png": "[encoded data removed]",
      "text/plain": [
       "<Figure size 640x480 with 1 Axes>"
      ]
     },
     "metadata": {},
     "output_type": "display_data"
    }
   ],
   "source": [
    "plt.boxplot(df[\"매출액순이익률\"])"
   ]
  },
  {
   "cell_type": "code",
   "execution_count": 400,
   "metadata": {},
   "outputs": [
    {
     "data": {
      "text/html": [
       "<div>\n",
       "<style scoped>\n",
       "    .dataframe tbody tr th:only-of-type {\n",
       "        vertical-align: middle;\n",
       "    }\n",
       "\n",
       "    .dataframe tbody tr th {\n",
       "        vertical-align: top;\n",
       "    }\n",
       "\n",
       "    .dataframe thead th {\n",
       "        text-align: right;\n",
       "    }\n",
       "</style>\n",
       "<table border=\"1\" class=\"dataframe\">\n",
       "  <thead>\n",
       "    <tr style=\"text-align: right;\">\n",
       "      <th></th>\n",
       "      <th>회사명</th>\n",
       "      <th>거래소코드</th>\n",
       "      <th>회계년도</th>\n",
       "      <th>대주주지분변화분</th>\n",
       "      <th>외국인지분분변화</th>\n",
       "      <th>상장일</th>\n",
       "      <th>자산</th>\n",
       "      <th>당기순이익(손실)</th>\n",
       "      <th>비유동자산증가율</th>\n",
       "      <th>유동자산증가율</th>\n",
       "      <th>...</th>\n",
       "      <th>1인년간평균급여(직원)</th>\n",
       "      <th>토빈Q</th>\n",
       "      <th>target</th>\n",
       "      <th>WW지수</th>\n",
       "      <th>RDS</th>\n",
       "      <th>수명주기</th>\n",
       "      <th>산업평균_총자산증가율차분</th>\n",
       "      <th>보통주식비율</th>\n",
       "      <th>외국인_주식분포비율</th>\n",
       "      <th>업력</th>\n",
       "    </tr>\n",
       "  </thead>\n",
       "  <tbody>\n",
       "    <tr>\n",
       "      <th>8415</th>\n",
       "      <td>(주)네오위즈홀딩스</td>\n",
       "      <td>42420.0</td>\n",
       "      <td>2021.0</td>\n",
       "      <td>4.88</td>\n",
       "      <td>-4.96</td>\n",
       "      <td>2000/06/27</td>\n",
       "      <td>884107052.0</td>\n",
       "      <td>5059528.0</td>\n",
       "      <td>34.15</td>\n",
       "      <td>6.43</td>\n",
       "      <td>...</td>\n",
       "      <td>60000.0</td>\n",
       "      <td>0.864293</td>\n",
       "      <td>0</td>\n",
       "      <td>-0.277367</td>\n",
       "      <td>15.293005</td>\n",
       "      <td>성숙기</td>\n",
       "      <td>20.215704</td>\n",
       "      <td>42.5</td>\n",
       "      <td>2.99</td>\n",
       "      <td>24</td>\n",
       "    </tr>\n",
       "  </tbody>\n",
       "</table>\n",
       "<p>1 rows × 43 columns</p>\n",
       "</div>"
      ],
      "text/plain": [
       "             회사명    거래소코드    회계년도  대주주지분변화분  외국인지분분변화         상장일  \\\n",
       "8415  (주)네오위즈홀딩스  42420.0  2021.0      4.88     -4.96  2000/06/27   \n",
       "\n",
       "               자산  당기순이익(손실)  비유동자산증가율  유동자산증가율  ...  1인년간평균급여(직원)       토빈Q  \\\n",
       "8415  884107052.0  5059528.0     34.15     6.43  ...       60000.0  0.864293   \n",
       "\n",
       "      target      WW지수        RDS  수명주기  산업평균_총자산증가율차분  보통주식비율  외국인_주식분포비율  업력  \n",
       "8415       0 -0.277367  15.293005   성숙기      20.215704    42.5        2.99  24  \n",
       "\n",
       "[1 rows x 43 columns]"
      ]
     },
     "execution_count": 400,
     "metadata": {},
     "output_type": "execute_result"
    }
   ],
   "source": [
    "df[df[\"RDS\"] >=14]"
   ]
  },
  {
   "cell_type": "code",
   "execution_count": 401,
   "metadata": {},
   "outputs": [],
   "source": [
    "df.drop(index=8415, axis=0, inplace=True)\n",
    "df.reset_index(drop=True, inplace=True)"
   ]
  },
  {
   "cell_type": "code",
   "execution_count": 402,
   "metadata": {},
   "outputs": [
    {
     "data": {
      "text/plain": [
       "{'whiskers': [<matplotlib.lines.Line2D at 0x157d38d4130>,\n",
       "  <matplotlib.lines.Line2D at 0x157d38d4400>],\n",
       " 'caps': [<matplotlib.lines.Line2D at 0x157d38d46d0>,\n",
       "  <matplotlib.lines.Line2D at 0x157d38d49a0>],\n",
       " 'boxes': [<matplotlib.lines.Line2D at 0x157d38e3f10>],\n",
       " 'medians': [<matplotlib.lines.Line2D at 0x157d38d4c70>],\n",
       " 'fliers': [<matplotlib.lines.Line2D at 0x157d38d4f40>],\n",
       " 'means': []}"
      ]
     },
     "execution_count": 402,
     "metadata": {},
     "output_type": "execute_result"
    },
    {
     "data": {
      "image/png": "[encoded data removed]",
      "text/plain": [
       "<Figure size 640x480 with 1 Axes>"
      ]
     },
     "metadata": {},
     "output_type": "display_data"
    }
   ],
   "source": [
    "plt.boxplot(df[\"RDS\"])"
   ]
  },
  {
   "cell_type": "code",
   "execution_count": 403,
   "metadata": {},
   "outputs": [
    {
     "data": {
      "text/plain": [
       "0    6877\n",
       "1    3030\n",
       "Name: target, dtype: int64"
      ]
     },
     "execution_count": 403,
     "metadata": {},
     "output_type": "execute_result"
    }
   ],
   "source": [
    "df['target'].value_counts()"
   ]
  },
  {
   "cell_type": "code",
   "execution_count": 404,
   "metadata": {},
   "outputs": [],
   "source": [
    "# 눈에 띄는 이상치만을 제거한 데이터프레인 저장\n",
    "df.to_csv(\"./datasets/이상치제거csv/이상치제거전.csv\", encoding=\"UTF-8-sig\")"
   ]
  },
  {
   "attachments": {},
   "cell_type": "markdown",
   "metadata": {},
   "source": [
    "# 이상치 제거"
   ]
  },
  {
   "cell_type": "code",
   "execution_count": 444,
   "metadata": {},
   "outputs": [],
   "source": [
    "# 이상치 제거를 위한 이상치제거 전 데이터 로드\n",
    "df = pd.read_csv(\"./datasets/이상치제거csv/이상치제거전.csv\", index_col=0)\n"
   ]
  },
  {
   "cell_type": "code",
   "execution_count": 445,
   "metadata": {},
   "outputs": [
    {
     "data": {
      "text/plain": [
       "0    6877\n",
       "1    3030\n",
       "Name: target, dtype: int64"
      ]
     },
     "execution_count": 445,
     "metadata": {},
     "output_type": "execute_result"
    }
   ],
   "source": [
    "df.target.value_counts()"
   ]
  },
  {
   "cell_type": "code",
   "execution_count": 446,
   "metadata": {},
   "outputs": [
    {
     "data": {
      "text/plain": [
       "Index(['회사명', '거래소코드', '회계년도', '대주주지분변화분', '외국인지분분변화', '상장일', '자산',\n",
       "       '당기순이익(손실)', '비유동자산증가율', '유동자산증가율', '자기자본증가율', '매출액증가율', '정상영업이익증가율',\n",
       "       '순이익증가율', '총포괄이익증가율', '매출액순이익률', '총자본순이익률', '자기자본순이익률', '매출원가대매출액비율',\n",
       "       '광고선전비대매출액비율', '유보율', '비유동비율', '유동비율', '당좌비율', '현금비율', '부채비율', '유동부채비율',\n",
       "       '차입금비율', '이자보상배율(이자비용)', '유보액대비율', '유보액대납입자본배율', '투자집중도',\n",
       "       '통계청 한국표준산업분류 10차(대분류)', '1인년간평균급여(직원)', '토빈Q', 'target', 'WW지수', 'RDS',\n",
       "       '수명주기', '산업평균_총자산증가율차분', '보통주식비율', '외국인_주식분포비율', '업력'],\n",
       "      dtype='object')"
      ]
     },
     "execution_count": 446,
     "metadata": {},
     "output_type": "execute_result"
    }
   ],
   "source": [
    "df.columns"
   ]
  },
  {
   "attachments": {},
   "cell_type": "markdown",
   "metadata": {},
   "source": [
    "## 윈저라이징"
   ]
  },
  {
   "cell_type": "code",
   "execution_count": 447,
   "metadata": {},
   "outputs": [
    {
     "data": {
      "text/plain": [
       "회사명                      0\n",
       "거래소코드                    0\n",
       "회계년도                     0\n",
       "대주주지분변화분                 0\n",
       "외국인지분분변화                 0\n",
       "상장일                      0\n",
       "자산                       0\n",
       "당기순이익(손실)                0\n",
       "비유동자산증가율                 0\n",
       "유동자산증가율                  0\n",
       "자기자본증가율                  0\n",
       "매출액증가율                   0\n",
       "정상영업이익증가율                0\n",
       "순이익증가율                   0\n",
       "총포괄이익증가율                 0\n",
       "매출액순이익률                  0\n",
       "총자본순이익률                  0\n",
       "자기자본순이익률                 0\n",
       "매출원가대매출액비율               0\n",
       "광고선전비대매출액비율              0\n",
       "유보율                      0\n",
       "비유동비율                    0\n",
       "유동비율                     0\n",
       "당좌비율                     0\n",
       "현금비율                     0\n",
       "부채비율                     0\n",
       "유동부채비율                   0\n",
       "차입금비율                    0\n",
       "이자보상배율(이자비용)             0\n",
       "유보액대비율                   0\n",
       "유보액대납입자본배율               0\n",
       "투자집중도                    0\n",
       "통계청 한국표준산업분류 10차(대분류)    0\n",
       "1인년간평균급여(직원)             0\n",
       "토빈Q                      0\n",
       "target                   0\n",
       "WW지수                     0\n",
       "RDS                      0\n",
       "수명주기                     0\n",
       "산업평균_총자산증가율차분            0\n",
       "보통주식비율                   0\n",
       "외국인_주식분포비율               0\n",
       "업력                       0\n",
       "dtype: int64"
      ]
     },
     "execution_count": 447,
     "metadata": {},
     "output_type": "execute_result"
    }
   ],
   "source": [
    "from scipy.stats.mstats  import winsorize\n",
    "df.isna().sum()"
   ]
  },
  {
   "cell_type": "code",
   "execution_count": 448,
   "metadata": {},
   "outputs": [
    {
     "name": "stdout",
     "output_type": "stream",
     "text": [
      "<class 'pandas.core.frame.DataFrame'>\n",
      "Int64Index: 9907 entries, 0 to 9906\n",
      "Data columns (total 43 columns):\n",
      " #   Column                 Non-Null Count  Dtype  \n",
      "---  ------                 --------------  -----  \n",
      " 0   회사명                    9907 non-null   object \n",
      " 1   거래소코드                  9907 non-null   float64\n",
      " 2   회계년도                   9907 non-null   float64\n",
      " 3   대주주지분변화분               9907 non-null   float64\n",
      " 4   외국인지분분변화               9907 non-null   float64\n",
      " 5   상장일                    9907 non-null   object \n",
      " 6   자산                     9907 non-null   float64\n",
      " 7   당기순이익(손실)              9907 non-null   float64\n",
      " 8   비유동자산증가율               9907 non-null   float64\n",
      " 9   유동자산증가율                9907 non-null   float64\n",
      " 10  자기자본증가율                9907 non-null   float64\n",
      " 11  매출액증가율                 9907 non-null   float64\n",
      " 12  정상영업이익증가율              9907 non-null   float64\n",
      " 13  순이익증가율                 9907 non-null   float64\n",
      " 14  총포괄이익증가율               9907 non-null   float64\n",
      " 15  매출액순이익률                9907 non-null   float64\n",
      " 16  총자본순이익률                9907 non-null   float64\n",
      " 17  자기자본순이익률               9907 non-null   float64\n",
      " 18  매출원가대매출액비율             9907 non-null   float64\n",
      " 19  광고선전비대매출액비율            9907 non-null   float64\n",
      " 20  유보율                    9907 non-null   float64\n",
      " 21  비유동비율                  9907 non-null   float64\n",
      " 22  유동비율                   9907 non-null   float64\n",
      " 23  당좌비율                   9907 non-null   float64\n",
      " 24  현금비율                   9907 non-null   float64\n",
      " 25  부채비율                   9907 non-null   float64\n",
      " 26  유동부채비율                 9907 non-null   float64\n",
      " 27  차입금비율                  9907 non-null   float64\n",
      " 28  이자보상배율(이자비용)           9907 non-null   float64\n",
      " 29  유보액대비율                 9907 non-null   float64\n",
      " 30  유보액대납입자본배율             9907 non-null   float64\n",
      " 31  투자집중도                  9907 non-null   float64\n",
      " 32  통계청 한국표준산업분류 10차(대분류)  9907 non-null   object \n",
      " 33  1인년간평균급여(직원)           9907 non-null   float64\n",
      " 34  토빈Q                    9907 non-null   float64\n",
      " 35  target                 9907 non-null   int64  \n",
      " 36  WW지수                   9907 non-null   float64\n",
      " 37  RDS                    9907 non-null   float64\n",
      " 38  수명주기                   9907 non-null   object \n",
      " 39  산업평균_총자산증가율차분          9907 non-null   float64\n",
      " 40  보통주식비율                 9907 non-null   float64\n",
      " 41  외국인_주식분포비율             9907 non-null   float64\n",
      " 42  업력                     9907 non-null   int64  \n",
      "dtypes: float64(37), int64(2), object(4)\n",
      "memory usage: 3.3+ MB\n"
     ]
    }
   ],
   "source": [
    "df.info()"
   ]
  },
  {
   "cell_type": "code",
   "execution_count": 449,
   "metadata": {},
   "outputs": [],
   "source": [
    "df['회계년도'] = df['회계년도'].astype(int)\n",
    "df['거래소코드'] = df['거래소코드'].astype(int)\n",
    "df['업력'] = df['업력'].astype(float)"
   ]
  },
  {
   "cell_type": "code",
   "execution_count": 450,
   "metadata": {},
   "outputs": [],
   "source": [
    "train = df[df['회계년도']<=2019]\n",
    "test = df[df['회계년도']>=2020]"
   ]
  },
  {
   "cell_type": "code",
   "execution_count": 451,
   "metadata": {},
   "outputs": [],
   "source": [
    "# 숫자 컬럼만 있는 데이터프레임 생성 \n",
    "train_수치 = train[train.select_dtypes(float).columns]\n",
    "col_int = train_수치.columns\n",
    "col_all = train.columns\n",
    "col_obj = col_all.difference(col_int)\n",
    "train_명목 = train[col_obj]"
   ]
  },
  {
   "cell_type": "code",
   "execution_count": 452,
   "metadata": {},
   "outputs": [
    {
     "data": {
      "text/plain": [
       "대주주지분변화분         0\n",
       "외국인지분분변화         0\n",
       "자산               0\n",
       "당기순이익(손실)        0\n",
       "비유동자산증가율         0\n",
       "유동자산증가율          0\n",
       "자기자본증가율          0\n",
       "매출액증가율           0\n",
       "정상영업이익증가율        0\n",
       "순이익증가율           0\n",
       "총포괄이익증가율         0\n",
       "매출액순이익률          0\n",
       "총자본순이익률          0\n",
       "자기자본순이익률         0\n",
       "매출원가대매출액비율       0\n",
       "광고선전비대매출액비율      0\n",
       "유보율              0\n",
       "비유동비율            0\n",
       "유동비율             0\n",
       "당좌비율             0\n",
       "현금비율             0\n",
       "부채비율             0\n",
       "유동부채비율           0\n",
       "차입금비율            0\n",
       "이자보상배율(이자비용)     0\n",
       "유보액대비율           0\n",
       "유보액대납입자본배율       0\n",
       "투자집중도            0\n",
       "1인년간평균급여(직원)     0\n",
       "토빈Q              0\n",
       "WW지수             0\n",
       "RDS              0\n",
       "산업평균_총자산증가율차분    0\n",
       "보통주식비율           0\n",
       "외국인_주식분포비율       0\n",
       "업력               0\n",
       "dtype: int64"
      ]
     },
     "execution_count": 452,
     "metadata": {},
     "output_type": "execute_result"
    }
   ],
   "source": [
    "# 라이브러리 로드\n",
    "from scipy.stats.mstats  import winsorize\n",
    "\n",
    "# 윈저라이징을 이용해서 상위 0.0% 이상의 값 과 하위 0.05 이하의 값을 상의 25% 값과 하위 25% 값으로 대체\n",
    "df_1 = pd.DataFrame()\n",
    "for i in col_int:\n",
    "    a = winsorize(train_수치[i],limits=[0.05, 0.05])\n",
    "    df_1[i] = a\n",
    "\n",
    "train_수치 =df_1\n",
    "train_수치.isna().sum()"
   ]
  },
  {
   "cell_type": "code",
   "execution_count": 453,
   "metadata": {},
   "outputs": [],
   "source": [
    "# 수치형 데이터와 수치형 데이터를 제외한 데이터 합병\n",
    "# concat을 이용해 데이터을 단순히 합병했지만 삭제한 데이터가 없어 결측치는 없음\n",
    "train = pd.concat([train_명목,train_수치],axis=1)\n",
    "\n",
    "df_win = pd.concat([train,test],axis=0).reset_index(drop=True)\n",
    "# 합친 데이터를 csv파일로 저장\n",
    "df_win.to_csv(\"./datasets/이상치제거csv/윈저라이징.csv\", encoding=\"UTF-8-sig\")"
   ]
  },
  {
   "cell_type": "code",
   "execution_count": 454,
   "metadata": {},
   "outputs": [
    {
     "data": {
      "text/plain": [
       "target                   0\n",
       "거래소코드                    0\n",
       "상장일                      0\n",
       "수명주기                     0\n",
       "통계청 한국표준산업분류 10차(대분류)    0\n",
       "회계년도                     0\n",
       "회사명                      0\n",
       "대주주지분변화분                 0\n",
       "외국인지분분변화                 0\n",
       "자산                       0\n",
       "당기순이익(손실)                0\n",
       "비유동자산증가율                 0\n",
       "유동자산증가율                  0\n",
       "자기자본증가율                  0\n",
       "매출액증가율                   0\n",
       "정상영업이익증가율                0\n",
       "순이익증가율                   0\n",
       "총포괄이익증가율                 0\n",
       "매출액순이익률                  0\n",
       "총자본순이익률                  0\n",
       "자기자본순이익률                 0\n",
       "매출원가대매출액비율               0\n",
       "광고선전비대매출액비율              0\n",
       "유보율                      0\n",
       "비유동비율                    0\n",
       "유동비율                     0\n",
       "당좌비율                     0\n",
       "현금비율                     0\n",
       "부채비율                     0\n",
       "유동부채비율                   0\n",
       "차입금비율                    0\n",
       "이자보상배율(이자비용)             0\n",
       "유보액대비율                   0\n",
       "유보액대납입자본배율               0\n",
       "투자집중도                    0\n",
       "1인년간평균급여(직원)             0\n",
       "토빈Q                      0\n",
       "WW지수                     0\n",
       "RDS                      0\n",
       "산업평균_총자산증가율차분            0\n",
       "보통주식비율                   0\n",
       "외국인_주식분포비율               0\n",
       "업력                       0\n",
       "dtype: int64"
      ]
     },
     "execution_count": 454,
     "metadata": {},
     "output_type": "execute_result"
    }
   ],
   "source": [
    "df_win.isna().sum()"
   ]
  },
  {
   "attachments": {},
   "cell_type": "markdown",
   "metadata": {},
   "source": [
    "### IQR"
   ]
  },
  {
   "cell_type": "code",
   "execution_count": 455,
   "metadata": {},
   "outputs": [],
   "source": [
    "# 숫자 컬럼만 있는 데이터프레임 생성 \n",
    "df_수치 = df[df.select_dtypes(float).columns]\n",
    "col_int = df_수치.columns\n",
    "col_all = df.columns\n",
    "col_obj = col_all.difference(col_int)\n",
    "df_명목 = df[col_obj]"
   ]
  },
  {
   "cell_type": "code",
   "execution_count": 456,
   "metadata": {},
   "outputs": [],
   "source": [
    "# iqr 함수 생성\n",
    "\n",
    "def get_outlier(df=None, column=None, weight=1.5):\n",
    "  # target 값과 상관관계가 높은 열을 우선적으로 진행\n",
    "  quantile_25 = np.percentile(df[column].values, 25)\n",
    "  quantile_75 = np.percentile(df[column].values, 75)\n",
    "\n",
    "  IQR = quantile_75 - quantile_25\n",
    "  IQR_weight = IQR*weight\n",
    "  \n",
    "  lowest = quantile_25 - IQR_weight\n",
    "  highest = quantile_75 + IQR_weight\n",
    "  \n",
    "  outlier_idx = df[column][ (df[column] < lowest) | (df[column] > highest) ].index\n",
    "  return outlier_idx\n",
    "\n"
   ]
  },
  {
   "cell_type": "code",
   "execution_count": 457,
   "metadata": {},
   "outputs": [
    {
     "name": "stderr",
     "output_type": "stream",
     "text": [
      "C:\\Users\\msi\\AppData\\Local\\Temp\\ipykernel_25148\\2939445277.py:4: SettingWithCopyWarning: \n",
      "A value is trying to be set on a copy of a slice from a DataFrame\n",
      "\n",
      "See the caveats in the documentation: https://pandas.pydata.org/pandas-docs/stable/user_guide/indexing.html#returning-a-view-versus-a-copy\n",
      "  df_수치.drop(index= oulier_idx, axis=0,inplace=True)\n"
     ]
    },
    {
     "data": {
      "text/html": [
       "<div>\n",
       "<style scoped>\n",
       "    .dataframe tbody tr th:only-of-type {\n",
       "        vertical-align: middle;\n",
       "    }\n",
       "\n",
       "    .dataframe tbody tr th {\n",
       "        vertical-align: top;\n",
       "    }\n",
       "\n",
       "    .dataframe thead th {\n",
       "        text-align: right;\n",
       "    }\n",
       "</style>\n",
       "<table border=\"1\" class=\"dataframe\">\n",
       "  <thead>\n",
       "    <tr style=\"text-align: right;\">\n",
       "      <th></th>\n",
       "      <th>대주주지분변화분</th>\n",
       "      <th>외국인지분분변화</th>\n",
       "      <th>자산</th>\n",
       "      <th>당기순이익(손실)</th>\n",
       "      <th>비유동자산증가율</th>\n",
       "      <th>유동자산증가율</th>\n",
       "      <th>자기자본증가율</th>\n",
       "      <th>매출액증가율</th>\n",
       "      <th>정상영업이익증가율</th>\n",
       "      <th>순이익증가율</th>\n",
       "      <th>...</th>\n",
       "      <th>유보액대납입자본배율</th>\n",
       "      <th>투자집중도</th>\n",
       "      <th>1인년간평균급여(직원)</th>\n",
       "      <th>토빈Q</th>\n",
       "      <th>WW지수</th>\n",
       "      <th>RDS</th>\n",
       "      <th>산업평균_총자산증가율차분</th>\n",
       "      <th>보통주식비율</th>\n",
       "      <th>외국인_주식분포비율</th>\n",
       "      <th>업력</th>\n",
       "    </tr>\n",
       "  </thead>\n",
       "  <tbody>\n",
       "    <tr>\n",
       "      <th>0</th>\n",
       "      <td>3.58</td>\n",
       "      <td>-2.57</td>\n",
       "      <td>72339673.0</td>\n",
       "      <td>8134873.0</td>\n",
       "      <td>-6.84</td>\n",
       "      <td>-12.41</td>\n",
       "      <td>9.84</td>\n",
       "      <td>-2.96</td>\n",
       "      <td>7.050000</td>\n",
       "      <td>4.71</td>\n",
       "      <td>...</td>\n",
       "      <td>13.15</td>\n",
       "      <td>125.25</td>\n",
       "      <td>57211.0</td>\n",
       "      <td>0.918080</td>\n",
       "      <td>-1.285584</td>\n",
       "      <td>0.000000</td>\n",
       "      <td>-8.536740</td>\n",
       "      <td>51.79</td>\n",
       "      <td>1.64</td>\n",
       "      <td>38.0</td>\n",
       "    </tr>\n",
       "    <tr>\n",
       "      <th>1</th>\n",
       "      <td>0.08</td>\n",
       "      <td>0.43</td>\n",
       "      <td>221622993.0</td>\n",
       "      <td>13116049.0</td>\n",
       "      <td>-1.64</td>\n",
       "      <td>16.54</td>\n",
       "      <td>5.30</td>\n",
       "      <td>5.05</td>\n",
       "      <td>-29.770000</td>\n",
       "      <td>-26.98</td>\n",
       "      <td>...</td>\n",
       "      <td>11.47</td>\n",
       "      <td>103.71</td>\n",
       "      <td>61000.0</td>\n",
       "      <td>1.444105</td>\n",
       "      <td>-0.361498</td>\n",
       "      <td>0.003823</td>\n",
       "      <td>8.152435</td>\n",
       "      <td>60.50</td>\n",
       "      <td>3.12</td>\n",
       "      <td>31.0</td>\n",
       "    </tr>\n",
       "    <tr>\n",
       "      <th>2</th>\n",
       "      <td>-0.08</td>\n",
       "      <td>-1.71</td>\n",
       "      <td>237816742.0</td>\n",
       "      <td>5285239.0</td>\n",
       "      <td>22.61</td>\n",
       "      <td>-3.69</td>\n",
       "      <td>0.10</td>\n",
       "      <td>-4.79</td>\n",
       "      <td>-64.130000</td>\n",
       "      <td>-59.70</td>\n",
       "      <td>...</td>\n",
       "      <td>11.48</td>\n",
       "      <td>112.68</td>\n",
       "      <td>62000.0</td>\n",
       "      <td>1.205038</td>\n",
       "      <td>-1.307822</td>\n",
       "      <td>0.007398</td>\n",
       "      <td>7.201705</td>\n",
       "      <td>60.50</td>\n",
       "      <td>1.41</td>\n",
       "      <td>32.0</td>\n",
       "    </tr>\n",
       "    <tr>\n",
       "      <th>3</th>\n",
       "      <td>0.07</td>\n",
       "      <td>-2.11</td>\n",
       "      <td>357951470.0</td>\n",
       "      <td>531273.0</td>\n",
       "      <td>7.77</td>\n",
       "      <td>0.93</td>\n",
       "      <td>1.01</td>\n",
       "      <td>9.14</td>\n",
       "      <td>-30.370000</td>\n",
       "      <td>-30.24</td>\n",
       "      <td>...</td>\n",
       "      <td>9.56</td>\n",
       "      <td>114.76</td>\n",
       "      <td>48361.0</td>\n",
       "      <td>1.025321</td>\n",
       "      <td>0.352118</td>\n",
       "      <td>0.000000</td>\n",
       "      <td>3.808909</td>\n",
       "      <td>35.30</td>\n",
       "      <td>7.71</td>\n",
       "      <td>40.0</td>\n",
       "    </tr>\n",
       "    <tr>\n",
       "      <th>4</th>\n",
       "      <td>-3.78</td>\n",
       "      <td>-0.20</td>\n",
       "      <td>127035573.0</td>\n",
       "      <td>3396444.0</td>\n",
       "      <td>3.69</td>\n",
       "      <td>-6.73</td>\n",
       "      <td>2.24</td>\n",
       "      <td>-17.32</td>\n",
       "      <td>49.370685</td>\n",
       "      <td>-26.89</td>\n",
       "      <td>...</td>\n",
       "      <td>26.66</td>\n",
       "      <td>137.17</td>\n",
       "      <td>70411.0</td>\n",
       "      <td>1.068310</td>\n",
       "      <td>-1.711812</td>\n",
       "      <td>0.000000</td>\n",
       "      <td>-0.498295</td>\n",
       "      <td>58.97</td>\n",
       "      <td>0.57</td>\n",
       "      <td>5.0</td>\n",
       "    </tr>\n",
       "    <tr>\n",
       "      <th>...</th>\n",
       "      <td>...</td>\n",
       "      <td>...</td>\n",
       "      <td>...</td>\n",
       "      <td>...</td>\n",
       "      <td>...</td>\n",
       "      <td>...</td>\n",
       "      <td>...</td>\n",
       "      <td>...</td>\n",
       "      <td>...</td>\n",
       "      <td>...</td>\n",
       "      <td>...</td>\n",
       "      <td>...</td>\n",
       "      <td>...</td>\n",
       "      <td>...</td>\n",
       "      <td>...</td>\n",
       "      <td>...</td>\n",
       "      <td>...</td>\n",
       "      <td>...</td>\n",
       "      <td>...</td>\n",
       "      <td>...</td>\n",
       "      <td>...</td>\n",
       "    </tr>\n",
       "    <tr>\n",
       "      <th>601</th>\n",
       "      <td>-0.07</td>\n",
       "      <td>-0.16</td>\n",
       "      <td>129827327.0</td>\n",
       "      <td>3435956.0</td>\n",
       "      <td>13.65</td>\n",
       "      <td>17.14</td>\n",
       "      <td>0.35</td>\n",
       "      <td>12.22</td>\n",
       "      <td>77.100000</td>\n",
       "      <td>-24.55</td>\n",
       "      <td>...</td>\n",
       "      <td>13.84</td>\n",
       "      <td>165.24</td>\n",
       "      <td>48130.0</td>\n",
       "      <td>0.960653</td>\n",
       "      <td>-0.493722</td>\n",
       "      <td>0.019924</td>\n",
       "      <td>14.927289</td>\n",
       "      <td>57.02</td>\n",
       "      <td>0.31</td>\n",
       "      <td>25.0</td>\n",
       "    </tr>\n",
       "    <tr>\n",
       "      <th>602</th>\n",
       "      <td>0.00</td>\n",
       "      <td>-1.52</td>\n",
       "      <td>163588747.0</td>\n",
       "      <td>13744924.0</td>\n",
       "      <td>9.42</td>\n",
       "      <td>-26.84</td>\n",
       "      <td>-3.00</td>\n",
       "      <td>5.02</td>\n",
       "      <td>-11.650000</td>\n",
       "      <td>-21.05</td>\n",
       "      <td>...</td>\n",
       "      <td>4.10</td>\n",
       "      <td>39.67</td>\n",
       "      <td>51646.0</td>\n",
       "      <td>1.362371</td>\n",
       "      <td>-0.597742</td>\n",
       "      <td>0.004715</td>\n",
       "      <td>-13.542711</td>\n",
       "      <td>31.00</td>\n",
       "      <td>1.48</td>\n",
       "      <td>30.0</td>\n",
       "    </tr>\n",
       "    <tr>\n",
       "      <th>603</th>\n",
       "      <td>9.99</td>\n",
       "      <td>1.52</td>\n",
       "      <td>648496423.0</td>\n",
       "      <td>23359798.0</td>\n",
       "      <td>-0.25</td>\n",
       "      <td>11.08</td>\n",
       "      <td>6.33</td>\n",
       "      <td>-7.23</td>\n",
       "      <td>-8.540000</td>\n",
       "      <td>8.37</td>\n",
       "      <td>...</td>\n",
       "      <td>4.64</td>\n",
       "      <td>89.27</td>\n",
       "      <td>74000.0</td>\n",
       "      <td>0.565570</td>\n",
       "      <td>-1.247644</td>\n",
       "      <td>0.000170</td>\n",
       "      <td>6.427289</td>\n",
       "      <td>46.10</td>\n",
       "      <td>7.11</td>\n",
       "      <td>54.0</td>\n",
       "    </tr>\n",
       "    <tr>\n",
       "      <th>604</th>\n",
       "      <td>-0.59</td>\n",
       "      <td>2.26</td>\n",
       "      <td>458242118.0</td>\n",
       "      <td>8157647.0</td>\n",
       "      <td>19.79</td>\n",
       "      <td>-13.14</td>\n",
       "      <td>3.43</td>\n",
       "      <td>-11.59</td>\n",
       "      <td>-60.200000</td>\n",
       "      <td>-73.57</td>\n",
       "      <td>...</td>\n",
       "      <td>4.87</td>\n",
       "      <td>103.03</td>\n",
       "      <td>66884.0</td>\n",
       "      <td>1.215788</td>\n",
       "      <td>-1.376613</td>\n",
       "      <td>0.006094</td>\n",
       "      <td>-4.882711</td>\n",
       "      <td>53.71</td>\n",
       "      <td>2.90</td>\n",
       "      <td>4.0</td>\n",
       "    </tr>\n",
       "    <tr>\n",
       "      <th>605</th>\n",
       "      <td>0.12</td>\n",
       "      <td>-0.19</td>\n",
       "      <td>174061735.0</td>\n",
       "      <td>3115366.0</td>\n",
       "      <td>-12.32</td>\n",
       "      <td>38.62</td>\n",
       "      <td>-0.34</td>\n",
       "      <td>-9.23</td>\n",
       "      <td>-98.810000</td>\n",
       "      <td>-49.93</td>\n",
       "      <td>...</td>\n",
       "      <td>8.94</td>\n",
       "      <td>94.93</td>\n",
       "      <td>45028.0</td>\n",
       "      <td>0.838478</td>\n",
       "      <td>-1.248199</td>\n",
       "      <td>0.000000</td>\n",
       "      <td>4.757289</td>\n",
       "      <td>36.69</td>\n",
       "      <td>1.27</td>\n",
       "      <td>24.0</td>\n",
       "    </tr>\n",
       "  </tbody>\n",
       "</table>\n",
       "<p>606 rows × 36 columns</p>\n",
       "</div>"
      ],
      "text/plain": [
       "     대주주지분변화분  외국인지분분변화           자산   당기순이익(손실)  비유동자산증가율  유동자산증가율  자기자본증가율  \\\n",
       "0        3.58     -2.57   72339673.0   8134873.0     -6.84   -12.41     9.84   \n",
       "1        0.08      0.43  221622993.0  13116049.0     -1.64    16.54     5.30   \n",
       "2       -0.08     -1.71  237816742.0   5285239.0     22.61    -3.69     0.10   \n",
       "3        0.07     -2.11  357951470.0    531273.0      7.77     0.93     1.01   \n",
       "4       -3.78     -0.20  127035573.0   3396444.0      3.69    -6.73     2.24   \n",
       "..        ...       ...          ...         ...       ...      ...      ...   \n",
       "601     -0.07     -0.16  129827327.0   3435956.0     13.65    17.14     0.35   \n",
       "602      0.00     -1.52  163588747.0  13744924.0      9.42   -26.84    -3.00   \n",
       "603      9.99      1.52  648496423.0  23359798.0     -0.25    11.08     6.33   \n",
       "604     -0.59      2.26  458242118.0   8157647.0     19.79   -13.14     3.43   \n",
       "605      0.12     -0.19  174061735.0   3115366.0    -12.32    38.62    -0.34   \n",
       "\n",
       "     매출액증가율  정상영업이익증가율  순이익증가율  ...  유보액대납입자본배율   투자집중도  1인년간평균급여(직원)  \\\n",
       "0     -2.96   7.050000    4.71  ...       13.15  125.25       57211.0   \n",
       "1      5.05 -29.770000  -26.98  ...       11.47  103.71       61000.0   \n",
       "2     -4.79 -64.130000  -59.70  ...       11.48  112.68       62000.0   \n",
       "3      9.14 -30.370000  -30.24  ...        9.56  114.76       48361.0   \n",
       "4    -17.32  49.370685  -26.89  ...       26.66  137.17       70411.0   \n",
       "..      ...        ...     ...  ...         ...     ...           ...   \n",
       "601   12.22  77.100000  -24.55  ...       13.84  165.24       48130.0   \n",
       "602    5.02 -11.650000  -21.05  ...        4.10   39.67       51646.0   \n",
       "603   -7.23  -8.540000    8.37  ...        4.64   89.27       74000.0   \n",
       "604  -11.59 -60.200000  -73.57  ...        4.87  103.03       66884.0   \n",
       "605   -9.23 -98.810000  -49.93  ...        8.94   94.93       45028.0   \n",
       "\n",
       "          토빈Q      WW지수       RDS  산업평균_총자산증가율차분  보통주식비율  외국인_주식분포비율    업력  \n",
       "0    0.918080 -1.285584  0.000000      -8.536740   51.79        1.64  38.0  \n",
       "1    1.444105 -0.361498  0.003823       8.152435   60.50        3.12  31.0  \n",
       "2    1.205038 -1.307822  0.007398       7.201705   60.50        1.41  32.0  \n",
       "3    1.025321  0.352118  0.000000       3.808909   35.30        7.71  40.0  \n",
       "4    1.068310 -1.711812  0.000000      -0.498295   58.97        0.57   5.0  \n",
       "..        ...       ...       ...            ...     ...         ...   ...  \n",
       "601  0.960653 -0.493722  0.019924      14.927289   57.02        0.31  25.0  \n",
       "602  1.362371 -0.597742  0.004715     -13.542711   31.00        1.48  30.0  \n",
       "603  0.565570 -1.247644  0.000170       6.427289   46.10        7.11  54.0  \n",
       "604  1.215788 -1.376613  0.006094      -4.882711   53.71        2.90   4.0  \n",
       "605  0.838478 -1.248199  0.000000       4.757289   36.69        1.27  24.0  \n",
       "\n",
       "[606 rows x 36 columns]"
      ]
     },
     "execution_count": 457,
     "metadata": {},
     "output_type": "execute_result"
    }
   ],
   "source": [
    "# iqr 함수 사용해서 이상치 제거 \n",
    "for i in col_int:\n",
    "    oulier_idx = get_outlier(df=df_수치,column=i, weight=1.5)\n",
    "    df_수치.drop(index= oulier_idx, axis=0,inplace=True)\n",
    "    df_수치.reset_index(drop=True, inplace=True)\n",
    "\n",
    "df_수치"
   ]
  },
  {
   "cell_type": "code",
   "execution_count": 458,
   "metadata": {},
   "outputs": [
    {
     "data": {
      "image/png": "[encoded data removed]",
      "text/plain": [
       "<Figure size 2000x2000 with 26 Axes>"
      ]
     },
     "metadata": {},
     "output_type": "display_data"
    }
   ],
   "source": [
    "#  숫자현 컬럼만 있는 데이터프레임 생성 \n",
    "df_수치 = df_수치[df_수치.select_dtypes(float).columns]\n",
    "\n",
    "# 숫자형 데이터프레임 컬럼 추출\n",
    "col_int=df_수치.columns\n",
    "\n",
    "# iqr방식을 이용해서 3사분위수를 초과한 이상치화 1사분위수 미만의 이상치를 제거한 데이터를 박스플롯으로 시각화\n",
    "\n",
    "plt.figure(figsize=(20,20))\n",
    "\n",
    "for i in range(1,27,1):\n",
    "    plt.subplot(5,7,i)\n",
    "    a = df_수치.iloc[:,i]\n",
    "    plt.boxplot(a)\n",
    "    b = col_int.str[:7][i-1]\n",
    "    plt.title(b)\n",
    "plt.show()"
   ]
  },
  {
   "cell_type": "code",
   "execution_count": 459,
   "metadata": {},
   "outputs": [],
   "source": [
    "# # 수치형 데이터와 수치형 데이터를 제외한 데이터 합병\n",
    "df_iqr = pd.concat([df_명목,df_수치], axis=1)"
   ]
  },
  {
   "cell_type": "code",
   "execution_count": 460,
   "metadata": {},
   "outputs": [],
   "source": [
    "# 단순 합병으로 인한 결측치 삭제\n",
    "df_iqr.dropna(axis=0, inplace=True)"
   ]
  },
  {
   "cell_type": "code",
   "execution_count": 461,
   "metadata": {},
   "outputs": [],
   "source": [
    "# iqr 이상치 제거한 데이터프레임 csv파일로 저장\n",
    "df_iqr.to_csv(\"./datasets/이상치제거csv/IQR이상치.csv\", encoding=\"UTF-8-sig\")"
   ]
  },
  {
   "attachments": {},
   "cell_type": "markdown",
   "metadata": {},
   "source": [
    "## ESD\n",
    "- 평균에서 부터 3표준편차 만큼 떨어져 있는 값(+-0.15%)을 임계값으로 보고 그 값보다 작거나 큰 값을 이상치로 분류한다 "
   ]
  },
  {
   "cell_type": "code",
   "execution_count": 462,
   "metadata": {},
   "outputs": [],
   "source": [
    "# 숫자 컬럼만 있는 데이터프레임 생성 \n",
    "df_수치 = df[df.select_dtypes(float).columns]\n",
    "col_int = df_수치.columns\n",
    "col_all = df.columns\n",
    "col_obj = col_all.difference(col_int)\n",
    "df_명목 = df[col_obj]"
   ]
  },
  {
   "cell_type": "code",
   "execution_count": 463,
   "metadata": {},
   "outputs": [],
   "source": [
    "### ESD이상치\n",
    "def EDS_outlier(df=None, col=None,weight=1.5):\n",
    "    # import numpy as np\n",
    "    m = np.mean(df[col])\n",
    "    sd = np.std(df[col])\n",
    "    sd_weight = sd*weight\n",
    "    \n",
    "    lowest = m -sd_weight\n",
    "    highest = m + sd_weight\n",
    "\n",
    "    outlier_idx = df[col][ (df[col] < lowest) | (df[col] > highest) ].index\n",
    "    return outlier_idx"
   ]
  },
  {
   "cell_type": "code",
   "execution_count": 464,
   "metadata": {},
   "outputs": [
    {
     "name": "stderr",
     "output_type": "stream",
     "text": [
      "C:\\Users\\msi\\AppData\\Local\\Temp\\ipykernel_25148\\1286268799.py:3: SettingWithCopyWarning: \n",
      "A value is trying to be set on a copy of a slice from a DataFrame\n",
      "\n",
      "See the caveats in the documentation: https://pandas.pydata.org/pandas-docs/stable/user_guide/indexing.html#returning-a-view-versus-a-copy\n",
      "  df_수치.drop(index= oulier, axis=0, inplace=True)\n"
     ]
    },
    {
     "data": {
      "text/html": [
       "<div>\n",
       "<style scoped>\n",
       "    .dataframe tbody tr th:only-of-type {\n",
       "        vertical-align: middle;\n",
       "    }\n",
       "\n",
       "    .dataframe tbody tr th {\n",
       "        vertical-align: top;\n",
       "    }\n",
       "\n",
       "    .dataframe thead th {\n",
       "        text-align: right;\n",
       "    }\n",
       "</style>\n",
       "<table border=\"1\" class=\"dataframe\">\n",
       "  <thead>\n",
       "    <tr style=\"text-align: right;\">\n",
       "      <th></th>\n",
       "      <th>대주주지분변화분</th>\n",
       "      <th>외국인지분분변화</th>\n",
       "      <th>자산</th>\n",
       "      <th>당기순이익(손실)</th>\n",
       "      <th>비유동자산증가율</th>\n",
       "      <th>유동자산증가율</th>\n",
       "      <th>자기자본증가율</th>\n",
       "      <th>매출액증가율</th>\n",
       "      <th>정상영업이익증가율</th>\n",
       "      <th>순이익증가율</th>\n",
       "      <th>...</th>\n",
       "      <th>유보액대납입자본배율</th>\n",
       "      <th>투자집중도</th>\n",
       "      <th>1인년간평균급여(직원)</th>\n",
       "      <th>토빈Q</th>\n",
       "      <th>WW지수</th>\n",
       "      <th>RDS</th>\n",
       "      <th>산업평균_총자산증가율차분</th>\n",
       "      <th>보통주식비율</th>\n",
       "      <th>외국인_주식분포비율</th>\n",
       "      <th>업력</th>\n",
       "    </tr>\n",
       "  </thead>\n",
       "  <tbody>\n",
       "    <tr>\n",
       "      <th>0</th>\n",
       "      <td>3.58</td>\n",
       "      <td>-2.57</td>\n",
       "      <td>72339673.0</td>\n",
       "      <td>8134873.0</td>\n",
       "      <td>-6.84</td>\n",
       "      <td>-12.41</td>\n",
       "      <td>9.84</td>\n",
       "      <td>-2.96</td>\n",
       "      <td>7.05</td>\n",
       "      <td>4.71</td>\n",
       "      <td>...</td>\n",
       "      <td>13.15</td>\n",
       "      <td>125.25</td>\n",
       "      <td>57211.0</td>\n",
       "      <td>0.918080</td>\n",
       "      <td>-1.285584</td>\n",
       "      <td>0.000000</td>\n",
       "      <td>-8.536740</td>\n",
       "      <td>51.79</td>\n",
       "      <td>1.64</td>\n",
       "      <td>38.0</td>\n",
       "    </tr>\n",
       "    <tr>\n",
       "      <th>1</th>\n",
       "      <td>-9.82</td>\n",
       "      <td>2.23</td>\n",
       "      <td>381939281.0</td>\n",
       "      <td>10218575.0</td>\n",
       "      <td>-6.42</td>\n",
       "      <td>33.34</td>\n",
       "      <td>4.71</td>\n",
       "      <td>27.90</td>\n",
       "      <td>-26.52</td>\n",
       "      <td>-28.56</td>\n",
       "      <td>...</td>\n",
       "      <td>14.20</td>\n",
       "      <td>119.34</td>\n",
       "      <td>47000.0</td>\n",
       "      <td>0.838334</td>\n",
       "      <td>-0.339797</td>\n",
       "      <td>0.000000</td>\n",
       "      <td>6.505384</td>\n",
       "      <td>41.20</td>\n",
       "      <td>17.56</td>\n",
       "      <td>41.0</td>\n",
       "    </tr>\n",
       "    <tr>\n",
       "      <th>2</th>\n",
       "      <td>-0.36</td>\n",
       "      <td>0.43</td>\n",
       "      <td>422833445.0</td>\n",
       "      <td>19448583.0</td>\n",
       "      <td>4.92</td>\n",
       "      <td>20.18</td>\n",
       "      <td>6.10</td>\n",
       "      <td>2.42</td>\n",
       "      <td>22.48</td>\n",
       "      <td>14.79</td>\n",
       "      <td>...</td>\n",
       "      <td>15.09</td>\n",
       "      <td>131.52</td>\n",
       "      <td>47000.0</td>\n",
       "      <td>0.854249</td>\n",
       "      <td>-0.998541</td>\n",
       "      <td>0.000000</td>\n",
       "      <td>10.499253</td>\n",
       "      <td>40.89</td>\n",
       "      <td>17.99</td>\n",
       "      <td>42.0</td>\n",
       "    </tr>\n",
       "    <tr>\n",
       "      <th>3</th>\n",
       "      <td>3.58</td>\n",
       "      <td>0.72</td>\n",
       "      <td>417865468.0</td>\n",
       "      <td>16444650.0</td>\n",
       "      <td>-3.08</td>\n",
       "      <td>1.55</td>\n",
       "      <td>3.62</td>\n",
       "      <td>-0.91</td>\n",
       "      <td>10.95</td>\n",
       "      <td>-1.54</td>\n",
       "      <td>...</td>\n",
       "      <td>15.86</td>\n",
       "      <td>133.50</td>\n",
       "      <td>48000.0</td>\n",
       "      <td>0.752419</td>\n",
       "      <td>-1.283361</td>\n",
       "      <td>0.000000</td>\n",
       "      <td>-1.276740</td>\n",
       "      <td>40.88</td>\n",
       "      <td>18.71</td>\n",
       "      <td>43.0</td>\n",
       "    </tr>\n",
       "    <tr>\n",
       "      <th>4</th>\n",
       "      <td>-3.45</td>\n",
       "      <td>-4.28</td>\n",
       "      <td>381158251.0</td>\n",
       "      <td>7133940.0</td>\n",
       "      <td>-4.40</td>\n",
       "      <td>-14.77</td>\n",
       "      <td>0.17</td>\n",
       "      <td>-13.64</td>\n",
       "      <td>-50.36</td>\n",
       "      <td>-20.32</td>\n",
       "      <td>...</td>\n",
       "      <td>16.44</td>\n",
       "      <td>140.62</td>\n",
       "      <td>44000.0</td>\n",
       "      <td>0.683091</td>\n",
       "      <td>-0.444794</td>\n",
       "      <td>0.000000</td>\n",
       "      <td>-8.941091</td>\n",
       "      <td>40.88</td>\n",
       "      <td>14.43</td>\n",
       "      <td>44.0</td>\n",
       "    </tr>\n",
       "    <tr>\n",
       "      <th>...</th>\n",
       "      <td>...</td>\n",
       "      <td>...</td>\n",
       "      <td>...</td>\n",
       "      <td>...</td>\n",
       "      <td>...</td>\n",
       "      <td>...</td>\n",
       "      <td>...</td>\n",
       "      <td>...</td>\n",
       "      <td>...</td>\n",
       "      <td>...</td>\n",
       "      <td>...</td>\n",
       "      <td>...</td>\n",
       "      <td>...</td>\n",
       "      <td>...</td>\n",
       "      <td>...</td>\n",
       "      <td>...</td>\n",
       "      <td>...</td>\n",
       "      <td>...</td>\n",
       "      <td>...</td>\n",
       "      <td>...</td>\n",
       "      <td>...</td>\n",
       "    </tr>\n",
       "    <tr>\n",
       "      <th>2518</th>\n",
       "      <td>10.07</td>\n",
       "      <td>-4.13</td>\n",
       "      <td>108270892.0</td>\n",
       "      <td>9133611.0</td>\n",
       "      <td>40.27</td>\n",
       "      <td>-21.92</td>\n",
       "      <td>5.70</td>\n",
       "      <td>-0.83</td>\n",
       "      <td>-17.84</td>\n",
       "      <td>-14.32</td>\n",
       "      <td>...</td>\n",
       "      <td>19.91</td>\n",
       "      <td>67.06</td>\n",
       "      <td>49231.0</td>\n",
       "      <td>0.825162</td>\n",
       "      <td>-0.947866</td>\n",
       "      <td>0.000000</td>\n",
       "      <td>-0.972711</td>\n",
       "      <td>38.47</td>\n",
       "      <td>6.00</td>\n",
       "      <td>22.0</td>\n",
       "    </tr>\n",
       "    <tr>\n",
       "      <th>2519</th>\n",
       "      <td>-10.06</td>\n",
       "      <td>-0.89</td>\n",
       "      <td>114361714.0</td>\n",
       "      <td>9038905.0</td>\n",
       "      <td>5.99</td>\n",
       "      <td>5.29</td>\n",
       "      <td>7.90</td>\n",
       "      <td>-7.48</td>\n",
       "      <td>-43.76</td>\n",
       "      <td>-1.04</td>\n",
       "      <td>...</td>\n",
       "      <td>21.49</td>\n",
       "      <td>72.25</td>\n",
       "      <td>49107.0</td>\n",
       "      <td>0.889257</td>\n",
       "      <td>0.963709</td>\n",
       "      <td>0.000000</td>\n",
       "      <td>5.525704</td>\n",
       "      <td>38.47</td>\n",
       "      <td>5.11</td>\n",
       "      <td>23.0</td>\n",
       "    </tr>\n",
       "    <tr>\n",
       "      <th>2520</th>\n",
       "      <td>0.12</td>\n",
       "      <td>-0.19</td>\n",
       "      <td>174061735.0</td>\n",
       "      <td>3115366.0</td>\n",
       "      <td>-12.32</td>\n",
       "      <td>38.62</td>\n",
       "      <td>-0.34</td>\n",
       "      <td>-9.23</td>\n",
       "      <td>-98.81</td>\n",
       "      <td>-49.93</td>\n",
       "      <td>...</td>\n",
       "      <td>8.94</td>\n",
       "      <td>94.93</td>\n",
       "      <td>45028.0</td>\n",
       "      <td>0.838478</td>\n",
       "      <td>-1.248199</td>\n",
       "      <td>0.000000</td>\n",
       "      <td>4.757289</td>\n",
       "      <td>36.69</td>\n",
       "      <td>1.27</td>\n",
       "      <td>24.0</td>\n",
       "    </tr>\n",
       "    <tr>\n",
       "      <th>2521</th>\n",
       "      <td>42.20</td>\n",
       "      <td>-1.98</td>\n",
       "      <td>101649911.0</td>\n",
       "      <td>1240264.0</td>\n",
       "      <td>32.45</td>\n",
       "      <td>-7.21</td>\n",
       "      <td>2.71</td>\n",
       "      <td>-13.47</td>\n",
       "      <td>-48.06</td>\n",
       "      <td>-57.72</td>\n",
       "      <td>...</td>\n",
       "      <td>13.35</td>\n",
       "      <td>158.72</td>\n",
       "      <td>32443.0</td>\n",
       "      <td>0.858263</td>\n",
       "      <td>-1.318499</td>\n",
       "      <td>0.012781</td>\n",
       "      <td>5.817289</td>\n",
       "      <td>46.70</td>\n",
       "      <td>1.29</td>\n",
       "      <td>33.0</td>\n",
       "    </tr>\n",
       "    <tr>\n",
       "      <th>2522</th>\n",
       "      <td>-24.99</td>\n",
       "      <td>-0.38</td>\n",
       "      <td>378376165.0</td>\n",
       "      <td>3331036.0</td>\n",
       "      <td>16.20</td>\n",
       "      <td>-17.86</td>\n",
       "      <td>-0.17</td>\n",
       "      <td>-21.66</td>\n",
       "      <td>-79.21</td>\n",
       "      <td>-39.42</td>\n",
       "      <td>...</td>\n",
       "      <td>25.92</td>\n",
       "      <td>123.93</td>\n",
       "      <td>68065.0</td>\n",
       "      <td>0.407227</td>\n",
       "      <td>-1.726016</td>\n",
       "      <td>0.000330</td>\n",
       "      <td>0.797289</td>\n",
       "      <td>48.78</td>\n",
       "      <td>7.63</td>\n",
       "      <td>43.0</td>\n",
       "    </tr>\n",
       "  </tbody>\n",
       "</table>\n",
       "<p>2523 rows × 36 columns</p>\n",
       "</div>"
      ],
      "text/plain": [
       "      대주주지분변화분  외국인지분분변화           자산   당기순이익(손실)  비유동자산증가율  유동자산증가율  자기자본증가율  \\\n",
       "0         3.58     -2.57   72339673.0   8134873.0     -6.84   -12.41     9.84   \n",
       "1        -9.82      2.23  381939281.0  10218575.0     -6.42    33.34     4.71   \n",
       "2        -0.36      0.43  422833445.0  19448583.0      4.92    20.18     6.10   \n",
       "3         3.58      0.72  417865468.0  16444650.0     -3.08     1.55     3.62   \n",
       "4        -3.45     -4.28  381158251.0   7133940.0     -4.40   -14.77     0.17   \n",
       "...        ...       ...          ...         ...       ...      ...      ...   \n",
       "2518     10.07     -4.13  108270892.0   9133611.0     40.27   -21.92     5.70   \n",
       "2519    -10.06     -0.89  114361714.0   9038905.0      5.99     5.29     7.90   \n",
       "2520      0.12     -0.19  174061735.0   3115366.0    -12.32    38.62    -0.34   \n",
       "2521     42.20     -1.98  101649911.0   1240264.0     32.45    -7.21     2.71   \n",
       "2522    -24.99     -0.38  378376165.0   3331036.0     16.20   -17.86    -0.17   \n",
       "\n",
       "      매출액증가율  정상영업이익증가율  순이익증가율  ...  유보액대납입자본배율   투자집중도  1인년간평균급여(직원)  \\\n",
       "0      -2.96       7.05    4.71  ...       13.15  125.25       57211.0   \n",
       "1      27.90     -26.52  -28.56  ...       14.20  119.34       47000.0   \n",
       "2       2.42      22.48   14.79  ...       15.09  131.52       47000.0   \n",
       "3      -0.91      10.95   -1.54  ...       15.86  133.50       48000.0   \n",
       "4     -13.64     -50.36  -20.32  ...       16.44  140.62       44000.0   \n",
       "...      ...        ...     ...  ...         ...     ...           ...   \n",
       "2518   -0.83     -17.84  -14.32  ...       19.91   67.06       49231.0   \n",
       "2519   -7.48     -43.76   -1.04  ...       21.49   72.25       49107.0   \n",
       "2520   -9.23     -98.81  -49.93  ...        8.94   94.93       45028.0   \n",
       "2521  -13.47     -48.06  -57.72  ...       13.35  158.72       32443.0   \n",
       "2522  -21.66     -79.21  -39.42  ...       25.92  123.93       68065.0   \n",
       "\n",
       "           토빈Q      WW지수       RDS  산업평균_총자산증가율차분  보통주식비율  외국인_주식분포비율    업력  \n",
       "0     0.918080 -1.285584  0.000000      -8.536740   51.79        1.64  38.0  \n",
       "1     0.838334 -0.339797  0.000000       6.505384   41.20       17.56  41.0  \n",
       "2     0.854249 -0.998541  0.000000      10.499253   40.89       17.99  42.0  \n",
       "3     0.752419 -1.283361  0.000000      -1.276740   40.88       18.71  43.0  \n",
       "4     0.683091 -0.444794  0.000000      -8.941091   40.88       14.43  44.0  \n",
       "...        ...       ...       ...            ...     ...         ...   ...  \n",
       "2518  0.825162 -0.947866  0.000000      -0.972711   38.47        6.00  22.0  \n",
       "2519  0.889257  0.963709  0.000000       5.525704   38.47        5.11  23.0  \n",
       "2520  0.838478 -1.248199  0.000000       4.757289   36.69        1.27  24.0  \n",
       "2521  0.858263 -1.318499  0.012781       5.817289   46.70        1.29  33.0  \n",
       "2522  0.407227 -1.726016  0.000330       0.797289   48.78        7.63  43.0  \n",
       "\n",
       "[2523 rows x 36 columns]"
      ]
     },
     "execution_count": 464,
     "metadata": {},
     "output_type": "execute_result"
    }
   ],
   "source": [
    "for i in col_int:\n",
    "    oulier = EDS_outlier(df=df_수치,col= i,weight=2)\n",
    "    df_수치.drop(index= oulier, axis=0, inplace=True)\n",
    "    df_수치.reset_index(drop=True, inplace=True)\n",
    "    \n",
    "\n",
    "df_수치"
   ]
  },
  {
   "cell_type": "code",
   "execution_count": 465,
   "metadata": {},
   "outputs": [
    {
     "data": {
      "image/png": "[encoded data removed]",
      "text/plain": [
       "<Figure size 2000x2000 with 26 Axes>"
      ]
     },
     "metadata": {},
     "output_type": "display_data"
    }
   ],
   "source": [
    "#  숫자현 컬럼만 있는 데이터프레임 생성 \n",
    "df_수치 = df_수치[df_수치.select_dtypes(float).columns]\n",
    "\n",
    "# 숫자형 데이터프레임 컬럼 추출\n",
    "col_int=df_수치.columns\n",
    "\n",
    "# eds방식을 이용해서 평균에서 2표준편차 이상 벗어난 이상치를 제거한 데이터를 박스플롯으로 시각화\n",
    "\n",
    "plt.figure(figsize=(20,20))\n",
    "\n",
    "for i in range(1,27,1):\n",
    "    plt.subplot(5,7,i)\n",
    "    a = df_수치.iloc[:,i]\n",
    "    plt.boxplot(a)\n",
    "    b = col_int.str[:7][i-1]\n",
    "    plt.title(b)\n",
    "plt.show()"
   ]
  },
  {
   "cell_type": "code",
   "execution_count": 466,
   "metadata": {},
   "outputs": [],
   "source": [
    "# 수치형 데이터와 수치형 데이터를 제외한 데이터 합병\n",
    "df_esd = pd.concat([df_명목,df_수치], axis=1)"
   ]
  },
  {
   "cell_type": "code",
   "execution_count": 467,
   "metadata": {},
   "outputs": [],
   "source": [
    "# 단순 합병으로 인한 결측치 삭제\n",
    "df_esd.dropna(axis=0, inplace=True)"
   ]
  },
  {
   "cell_type": "code",
   "execution_count": 468,
   "metadata": {},
   "outputs": [],
   "source": [
    "# esd 이상치 제거한 데이터프레임 csv파일로 저장\n",
    "df_esd.to_csv(\"./datasets/이상치제거csv/ESD이상치.csv\", encoding=\"UTF-8-sig\")"
   ]
  },
  {
   "attachments": {},
   "cell_type": "markdown",
   "metadata": {},
   "source": [
    "## isolation forest 클러스터"
   ]
  },
  {
   "cell_type": "code",
   "execution_count": 469,
   "metadata": {},
   "outputs": [],
   "source": [
    "# 숫자 컬럼만 있는 데이터프레임 생성 \n",
    "df_수치 = df[df.select_dtypes(float).columns]\n",
    "col_int = df_수치.columns\n",
    "col_all = df.columns\n",
    "col_obj = col_all.difference(col_int)\n",
    "df_명목 = df[col_obj]"
   ]
  },
  {
   "cell_type": "code",
   "execution_count": 470,
   "metadata": {},
   "outputs": [],
   "source": [
    "# 라이브러리 로그\n",
    "from sklearn.ensemble import IsolationForest"
   ]
  },
  {
   "cell_type": "code",
   "execution_count": 471,
   "metadata": {},
   "outputs": [
    {
     "name": "stderr",
     "output_type": "stream",
     "text": [
      "c:\\Users\\msi\\anaconda3\\lib\\site-packages\\sklearn\\base.py:420: UserWarning: X does not have valid feature names, but IsolationForest was fitted with feature names\n",
      "  warnings.warn(\n"
     ]
    },
    {
     "data": {
      "text/html": [
       "<style>#sk-container-id-4 {color: black;background-color: white;}#sk-container-id-4 pre{padding: 0;}#sk-container-id-4 div.sk-toggleable {background-color: white;}#sk-container-id-4 label.sk-toggleable__label {cursor: pointer;display: block;width: 100%;margin-bottom: 0;padding: 0.3em;box-sizing: border-box;text-align: center;}#sk-container-id-4 label.sk-toggleable__label-arrow:before {content: \"▸\";float: left;margin-right: 0.25em;color: #696969;}#sk-container-id-4 label.sk-toggleable__label-arrow:hover:before {color: black;}#sk-container-id-4 div.sk-estimator:hover label.sk-toggleable__label-arrow:before {color: black;}#sk-container-id-4 div.sk-toggleable__content {max-height: 0;max-width: 0;overflow: hidden;text-align: left;background-color: #f0f8ff;}#sk-container-id-4 div.sk-toggleable__content pre {margin: 0.2em;color: black;border-radius: 0.25em;background-color: #f0f8ff;}#sk-container-id-4 input.sk-toggleable__control:checked~div.sk-toggleable__content {max-height: 200px;max-width: 100%;overflow: auto;}#sk-container-id-4 input.sk-toggleable__control:checked~label.sk-toggleable__label-arrow:before {content: \"▾\";}#sk-container-id-4 div.sk-estimator input.sk-toggleable__control:checked~label.sk-toggleable__label {background-color: #d4ebff;}#sk-container-id-4 div.sk-label input.sk-toggleable__control:checked~label.sk-toggleable__label {background-color: #d4ebff;}#sk-container-id-4 input.sk-hidden--visually {border: 0;clip: rect(1px 1px 1px 1px);clip: rect(1px, 1px, 1px, 1px);height: 1px;margin: -1px;overflow: hidden;padding: 0;position: absolute;width: 1px;}#sk-container-id-4 div.sk-estimator {font-family: monospace;background-color: #f0f8ff;border: 1px dotted black;border-radius: 0.25em;box-sizing: border-box;margin-bottom: 0.5em;}#sk-container-id-4 div.sk-estimator:hover {background-color: #d4ebff;}#sk-container-id-4 div.sk-parallel-item::after {content: \"\";width: 100%;border-bottom: 1px solid gray;flex-grow: 1;}#sk-container-id-4 div.sk-label:hover label.sk-toggleable__label {background-color: #d4ebff;}#sk-container-id-4 div.sk-serial::before {content: \"\";position: absolute;border-left: 1px solid gray;box-sizing: border-box;top: 0;bottom: 0;left: 50%;z-index: 0;}#sk-container-id-4 div.sk-serial {display: flex;flex-direction: column;align-items: center;background-color: white;padding-right: 0.2em;padding-left: 0.2em;position: relative;}#sk-container-id-4 div.sk-item {position: relative;z-index: 1;}#sk-container-id-4 div.sk-parallel {display: flex;align-items: stretch;justify-content: center;background-color: white;position: relative;}#sk-container-id-4 div.sk-item::before, #sk-container-id-4 div.sk-parallel-item::before {content: \"\";position: absolute;border-left: 1px solid gray;box-sizing: border-box;top: 0;bottom: 0;left: 50%;z-index: -1;}#sk-container-id-4 div.sk-parallel-item {display: flex;flex-direction: column;z-index: 1;position: relative;background-color: white;}#sk-container-id-4 div.sk-parallel-item:first-child::after {align-self: flex-end;width: 50%;}#sk-container-id-4 div.sk-parallel-item:last-child::after {align-self: flex-start;width: 50%;}#sk-container-id-4 div.sk-parallel-item:only-child::after {width: 0;}#sk-container-id-4 div.sk-dashed-wrapped {border: 1px dashed gray;margin: 0 0.4em 0.5em 0.4em;box-sizing: border-box;padding-bottom: 0.4em;background-color: white;}#sk-container-id-4 div.sk-label label {font-family: monospace;font-weight: bold;display: inline-block;line-height: 1.2em;}#sk-container-id-4 div.sk-label-container {text-align: center;}#sk-container-id-4 div.sk-container {/* jupyter's `normalize.less` sets `[hidden] { display: none; }` but bootstrap.min.css set `[hidden] { display: none !important; }` so we also need the `!important` here to be able to override the default hidden behavior on the sphinx rendered scikit-learn.org. See: https://github.com/scikit-learn/scikit-learn/issues/21755 */display: inline-block !important;position: relative;}#sk-container-id-4 div.sk-text-repr-fallback {display: none;}</style><div id=\"sk-container-id-4\" class=\"sk-top-container\"><div class=\"sk-text-repr-fallback\"><pre>IsolationForest(contamination=0.1, max_samples=100, random_state=42)</pre><b>In a Jupyter environment, please rerun this cell to show the HTML representation or trust the notebook. <br />On GitHub, the HTML representation is unable to render, please try loading this page with nbviewer.org.</b></div><div class=\"sk-container\" hidden><div class=\"sk-item\"><div class=\"sk-estimator sk-toggleable\"><input class=\"sk-toggleable__control sk-hidden--visually\" id=\"sk-estimator-id-4\" type=\"checkbox\" checked><label for=\"sk-estimator-id-4\" class=\"sk-toggleable__label sk-toggleable__label-arrow\">IsolationForest</label><div class=\"sk-toggleable__content\"><pre>IsolationForest(contamination=0.1, max_samples=100, random_state=42)</pre></div></div></div></div></div>"
      ],
      "text/plain": [
       "IsolationForest(contamination=0.1, max_samples=100, random_state=42)"
      ]
     },
     "execution_count": 471,
     "metadata": {},
     "output_type": "execute_result"
    }
   ],
   "source": [
    "clf = IsolationForest(max_samples=100, contamination = 0.1, random_state=42)\n",
    "clf.fit(df_수치)"
   ]
  },
  {
   "cell_type": "code",
   "execution_count": 472,
   "metadata": {},
   "outputs": [],
   "source": [
    "# 이상치가 아닌 값 추출해서 데이터프레임 화\n",
    "isol_df = df_수치[clf.predict(df_수치) != -1]"
   ]
  },
  {
   "cell_type": "code",
   "execution_count": 473,
   "metadata": {},
   "outputs": [],
   "source": [
    "# 데이터 합볍\n",
    "df_isol = pd.concat([df_명목, isol_df], axis=1)"
   ]
  },
  {
   "cell_type": "code",
   "execution_count": 474,
   "metadata": {},
   "outputs": [],
   "source": [
    "# 데이터 단순 합병으로 인한 결측치 제거 \n",
    "df_isol.dropna(axis=0,inplace=True)"
   ]
  },
  {
   "cell_type": "code",
   "execution_count": 475,
   "metadata": {},
   "outputs": [],
   "source": [
    "# 데이터 csv로 저장\n",
    "df_isol.to_csv(\"./datasets/이상치제거csv/Isol이상치.csv\", encoding= \"UTF-8-sig\")"
   ]
  },
  {
   "attachments": {},
   "cell_type": "markdown",
   "metadata": {},
   "source": [
    "## k-means clustering"
   ]
  },
  {
   "cell_type": "code",
   "execution_count": 476,
   "metadata": {},
   "outputs": [],
   "source": [
    "# 숫자 컬럼만 있는 데이터프레임 생성 \n",
    "df_수치 = df[df.select_dtypes(float).columns]\n",
    "col_int = df_수치.columns\n",
    "col_all = df.columns\n",
    "col_obj = col_all.difference(col_int)\n",
    "df_명목 = df[col_obj]"
   ]
  },
  {
   "cell_type": "code",
   "execution_count": 477,
   "metadata": {},
   "outputs": [],
   "source": [
    "# 라이브러리 로그\n",
    "from sklearn.cluster import KMeans"
   ]
  },
  {
   "cell_type": "code",
   "execution_count": 478,
   "metadata": {},
   "outputs": [
    {
     "name": "stderr",
     "output_type": "stream",
     "text": [
      "c:\\Users\\msi\\anaconda3\\lib\\site-packages\\sklearn\\cluster\\_kmeans.py:870: FutureWarning: The default value of `n_init` will change from 10 to 'auto' in 1.4. Set the value of `n_init` explicitly to suppress the warning\n",
      "  warnings.warn(\n"
     ]
    },
    {
     "data": {
      "text/html": [
       "<div>\n",
       "<style scoped>\n",
       "    .dataframe tbody tr th:only-of-type {\n",
       "        vertical-align: middle;\n",
       "    }\n",
       "\n",
       "    .dataframe tbody tr th {\n",
       "        vertical-align: top;\n",
       "    }\n",
       "\n",
       "    .dataframe thead th {\n",
       "        text-align: right;\n",
       "    }\n",
       "</style>\n",
       "<table border=\"1\" class=\"dataframe\">\n",
       "  <thead>\n",
       "    <tr style=\"text-align: right;\">\n",
       "      <th></th>\n",
       "      <th>대주주지분변화분</th>\n",
       "      <th>외국인지분분변화</th>\n",
       "      <th>자산</th>\n",
       "      <th>당기순이익(손실)</th>\n",
       "      <th>비유동자산증가율</th>\n",
       "      <th>유동자산증가율</th>\n",
       "      <th>자기자본증가율</th>\n",
       "      <th>매출액증가율</th>\n",
       "      <th>정상영업이익증가율</th>\n",
       "      <th>순이익증가율</th>\n",
       "      <th>...</th>\n",
       "      <th>유보액대납입자본배율</th>\n",
       "      <th>투자집중도</th>\n",
       "      <th>1인년간평균급여(직원)</th>\n",
       "      <th>토빈Q</th>\n",
       "      <th>WW지수</th>\n",
       "      <th>RDS</th>\n",
       "      <th>산업평균_총자산증가율차분</th>\n",
       "      <th>보통주식비율</th>\n",
       "      <th>외국인_주식분포비율</th>\n",
       "      <th>업력</th>\n",
       "    </tr>\n",
       "  </thead>\n",
       "  <tbody>\n",
       "    <tr>\n",
       "      <th>0</th>\n",
       "      <td>-25.96</td>\n",
       "      <td>3.41</td>\n",
       "      <td>9.867886e+08</td>\n",
       "      <td>88002359.0</td>\n",
       "      <td>-4.49</td>\n",
       "      <td>9.23</td>\n",
       "      <td>34.58</td>\n",
       "      <td>15.98</td>\n",
       "      <td>37.98</td>\n",
       "      <td>-30.29</td>\n",
       "      <td>...</td>\n",
       "      <td>0.64</td>\n",
       "      <td>116.48</td>\n",
       "      <td>53000.0</td>\n",
       "      <td>1.367004</td>\n",
       "      <td>-0.677243</td>\n",
       "      <td>0.069506</td>\n",
       "      <td>0.113260</td>\n",
       "      <td>19.06</td>\n",
       "      <td>13.46</td>\n",
       "      <td>63.0</td>\n",
       "    </tr>\n",
       "    <tr>\n",
       "      <th>1</th>\n",
       "      <td>25.96</td>\n",
       "      <td>6.69</td>\n",
       "      <td>9.939507e+08</td>\n",
       "      <td>74401732.0</td>\n",
       "      <td>3.63</td>\n",
       "      <td>-4.14</td>\n",
       "      <td>33.31</td>\n",
       "      <td>-12.08</td>\n",
       "      <td>-16.95</td>\n",
       "      <td>24.71</td>\n",
       "      <td>...</td>\n",
       "      <td>1.15</td>\n",
       "      <td>133.86</td>\n",
       "      <td>55000.0</td>\n",
       "      <td>1.090340</td>\n",
       "      <td>-0.444753</td>\n",
       "      <td>0.080072</td>\n",
       "      <td>0.568909</td>\n",
       "      <td>19.63</td>\n",
       "      <td>20.15</td>\n",
       "      <td>64.0</td>\n",
       "    </tr>\n",
       "    <tr>\n",
       "      <th>2</th>\n",
       "      <td>0.00</td>\n",
       "      <td>8.16</td>\n",
       "      <td>1.066534e+09</td>\n",
       "      <td>95087399.0</td>\n",
       "      <td>6.69</td>\n",
       "      <td>8.40</td>\n",
       "      <td>22.51</td>\n",
       "      <td>-1.54</td>\n",
       "      <td>-21.09</td>\n",
       "      <td>-21.19</td>\n",
       "      <td>...</td>\n",
       "      <td>1.60</td>\n",
       "      <td>138.53</td>\n",
       "      <td>56000.0</td>\n",
       "      <td>0.939272</td>\n",
       "      <td>-0.671716</td>\n",
       "      <td>0.078906</td>\n",
       "      <td>7.272435</td>\n",
       "      <td>19.77</td>\n",
       "      <td>28.31</td>\n",
       "      <td>65.0</td>\n",
       "    </tr>\n",
       "    <tr>\n",
       "      <th>3</th>\n",
       "      <td>-0.14</td>\n",
       "      <td>11.29</td>\n",
       "      <td>1.088890e+09</td>\n",
       "      <td>121159865.0</td>\n",
       "      <td>-3.00</td>\n",
       "      <td>11.19</td>\n",
       "      <td>15.45</td>\n",
       "      <td>20.64</td>\n",
       "      <td>60.45</td>\n",
       "      <td>20.51</td>\n",
       "      <td>...</td>\n",
       "      <td>1.99</td>\n",
       "      <td>125.81</td>\n",
       "      <td>66000.0</td>\n",
       "      <td>1.360663</td>\n",
       "      <td>-0.485689</td>\n",
       "      <td>0.068485</td>\n",
       "      <td>1.991705</td>\n",
       "      <td>19.46</td>\n",
       "      <td>39.60</td>\n",
       "      <td>66.0</td>\n",
       "    </tr>\n",
       "    <tr>\n",
       "      <th>4</th>\n",
       "      <td>7.79</td>\n",
       "      <td>-0.11</td>\n",
       "      <td>1.296979e+08</td>\n",
       "      <td>-11627211.0</td>\n",
       "      <td>2.54</td>\n",
       "      <td>-13.66</td>\n",
       "      <td>17.05</td>\n",
       "      <td>4.07</td>\n",
       "      <td>-44.79</td>\n",
       "      <td>1640.29</td>\n",
       "      <td>...</td>\n",
       "      <td>9.41</td>\n",
       "      <td>190.53</td>\n",
       "      <td>49954.0</td>\n",
       "      <td>0.806346</td>\n",
       "      <td>-0.566668</td>\n",
       "      <td>0.000000</td>\n",
       "      <td>-3.530169</td>\n",
       "      <td>54.60</td>\n",
       "      <td>0.02</td>\n",
       "      <td>35.0</td>\n",
       "    </tr>\n",
       "    <tr>\n",
       "      <th>...</th>\n",
       "      <td>...</td>\n",
       "      <td>...</td>\n",
       "      <td>...</td>\n",
       "      <td>...</td>\n",
       "      <td>...</td>\n",
       "      <td>...</td>\n",
       "      <td>...</td>\n",
       "      <td>...</td>\n",
       "      <td>...</td>\n",
       "      <td>...</td>\n",
       "      <td>...</td>\n",
       "      <td>...</td>\n",
       "      <td>...</td>\n",
       "      <td>...</td>\n",
       "      <td>...</td>\n",
       "      <td>...</td>\n",
       "      <td>...</td>\n",
       "      <td>...</td>\n",
       "      <td>...</td>\n",
       "      <td>...</td>\n",
       "      <td>...</td>\n",
       "    </tr>\n",
       "    <tr>\n",
       "      <th>9902</th>\n",
       "      <td>0.02</td>\n",
       "      <td>-1.64</td>\n",
       "      <td>7.230676e+07</td>\n",
       "      <td>1483555.0</td>\n",
       "      <td>-1.66</td>\n",
       "      <td>7.22</td>\n",
       "      <td>-2.39</td>\n",
       "      <td>3.23</td>\n",
       "      <td>36.98</td>\n",
       "      <td>-13.13</td>\n",
       "      <td>...</td>\n",
       "      <td>15.66</td>\n",
       "      <td>227.43</td>\n",
       "      <td>39313.0</td>\n",
       "      <td>0.911910</td>\n",
       "      <td>-0.792831</td>\n",
       "      <td>0.013094</td>\n",
       "      <td>2.877289</td>\n",
       "      <td>46.32</td>\n",
       "      <td>0.99</td>\n",
       "      <td>36.0</td>\n",
       "    </tr>\n",
       "    <tr>\n",
       "      <th>9903</th>\n",
       "      <td>-15.17</td>\n",
       "      <td>-0.11</td>\n",
       "      <td>8.499057e+07</td>\n",
       "      <td>2187408.0</td>\n",
       "      <td>25.37</td>\n",
       "      <td>11.03</td>\n",
       "      <td>19.63</td>\n",
       "      <td>2.90</td>\n",
       "      <td>-22.12</td>\n",
       "      <td>49.20</td>\n",
       "      <td>...</td>\n",
       "      <td>16.37</td>\n",
       "      <td>235.88</td>\n",
       "      <td>42262.0</td>\n",
       "      <td>1.300222</td>\n",
       "      <td>1.393741</td>\n",
       "      <td>0.015452</td>\n",
       "      <td>17.435704</td>\n",
       "      <td>46.02</td>\n",
       "      <td>0.88</td>\n",
       "      <td>37.0</td>\n",
       "    </tr>\n",
       "    <tr>\n",
       "      <th>9904</th>\n",
       "      <td>7.26</td>\n",
       "      <td>5.25</td>\n",
       "      <td>2.824128e+09</td>\n",
       "      <td>62352267.0</td>\n",
       "      <td>-11.45</td>\n",
       "      <td>-13.55</td>\n",
       "      <td>22.91</td>\n",
       "      <td>-13.73</td>\n",
       "      <td>-17.45</td>\n",
       "      <td>46.96</td>\n",
       "      <td>...</td>\n",
       "      <td>32.20</td>\n",
       "      <td>50.36</td>\n",
       "      <td>63000.0</td>\n",
       "      <td>1.048070</td>\n",
       "      <td>-1.550213</td>\n",
       "      <td>0.004735</td>\n",
       "      <td>-12.532711</td>\n",
       "      <td>43.93</td>\n",
       "      <td>17.61</td>\n",
       "      <td>2.0</td>\n",
       "    </tr>\n",
       "    <tr>\n",
       "      <th>9905</th>\n",
       "      <td>-22.28</td>\n",
       "      <td>0.23</td>\n",
       "      <td>4.526469e+09</td>\n",
       "      <td>275987686.0</td>\n",
       "      <td>23.68</td>\n",
       "      <td>105.02</td>\n",
       "      <td>136.37</td>\n",
       "      <td>66.54</td>\n",
       "      <td>434.08</td>\n",
       "      <td>463.14</td>\n",
       "      <td>...</td>\n",
       "      <td>80.64</td>\n",
       "      <td>49.21</td>\n",
       "      <td>53000.0</td>\n",
       "      <td>1.152611</td>\n",
       "      <td>3.375684</td>\n",
       "      <td>0.003959</td>\n",
       "      <td>60.175704</td>\n",
       "      <td>43.96</td>\n",
       "      <td>17.84</td>\n",
       "      <td>3.0</td>\n",
       "    </tr>\n",
       "    <tr>\n",
       "      <th>9906</th>\n",
       "      <td>0.65</td>\n",
       "      <td>3.44</td>\n",
       "      <td>3.407145e+08</td>\n",
       "      <td>145003113.0</td>\n",
       "      <td>79.88</td>\n",
       "      <td>592.18</td>\n",
       "      <td>314.93</td>\n",
       "      <td>603.96</td>\n",
       "      <td>663.43</td>\n",
       "      <td>622.18</td>\n",
       "      <td>...</td>\n",
       "      <td>58.04</td>\n",
       "      <td>103.74</td>\n",
       "      <td>39000.0</td>\n",
       "      <td>2.161019</td>\n",
       "      <td>22.255821</td>\n",
       "      <td>0.010970</td>\n",
       "      <td>399.425704</td>\n",
       "      <td>7.58</td>\n",
       "      <td>4.81</td>\n",
       "      <td>7.0</td>\n",
       "    </tr>\n",
       "  </tbody>\n",
       "</table>\n",
       "<p>9871 rows × 36 columns</p>\n",
       "</div>"
      ],
      "text/plain": [
       "      대주주지분변화분  외국인지분분변화            자산    당기순이익(손실)  비유동자산증가율  유동자산증가율  \\\n",
       "0       -25.96      3.41  9.867886e+08   88002359.0     -4.49     9.23   \n",
       "1        25.96      6.69  9.939507e+08   74401732.0      3.63    -4.14   \n",
       "2         0.00      8.16  1.066534e+09   95087399.0      6.69     8.40   \n",
       "3        -0.14     11.29  1.088890e+09  121159865.0     -3.00    11.19   \n",
       "4         7.79     -0.11  1.296979e+08  -11627211.0      2.54   -13.66   \n",
       "...        ...       ...           ...          ...       ...      ...   \n",
       "9902      0.02     -1.64  7.230676e+07    1483555.0     -1.66     7.22   \n",
       "9903    -15.17     -0.11  8.499057e+07    2187408.0     25.37    11.03   \n",
       "9904      7.26      5.25  2.824128e+09   62352267.0    -11.45   -13.55   \n",
       "9905    -22.28      0.23  4.526469e+09  275987686.0     23.68   105.02   \n",
       "9906      0.65      3.44  3.407145e+08  145003113.0     79.88   592.18   \n",
       "\n",
       "      자기자본증가율  매출액증가율  정상영업이익증가율   순이익증가율  ...  유보액대납입자본배율   투자집중도  \\\n",
       "0       34.58   15.98      37.98   -30.29  ...        0.64  116.48   \n",
       "1       33.31  -12.08     -16.95    24.71  ...        1.15  133.86   \n",
       "2       22.51   -1.54     -21.09   -21.19  ...        1.60  138.53   \n",
       "3       15.45   20.64      60.45    20.51  ...        1.99  125.81   \n",
       "4       17.05    4.07     -44.79  1640.29  ...        9.41  190.53   \n",
       "...       ...     ...        ...      ...  ...         ...     ...   \n",
       "9902    -2.39    3.23      36.98   -13.13  ...       15.66  227.43   \n",
       "9903    19.63    2.90     -22.12    49.20  ...       16.37  235.88   \n",
       "9904    22.91  -13.73     -17.45    46.96  ...       32.20   50.36   \n",
       "9905   136.37   66.54     434.08   463.14  ...       80.64   49.21   \n",
       "9906   314.93  603.96     663.43   622.18  ...       58.04  103.74   \n",
       "\n",
       "      1인년간평균급여(직원)       토빈Q       WW지수       RDS  산업평균_총자산증가율차분  보통주식비율  \\\n",
       "0          53000.0  1.367004  -0.677243  0.069506       0.113260   19.06   \n",
       "1          55000.0  1.090340  -0.444753  0.080072       0.568909   19.63   \n",
       "2          56000.0  0.939272  -0.671716  0.078906       7.272435   19.77   \n",
       "3          66000.0  1.360663  -0.485689  0.068485       1.991705   19.46   \n",
       "4          49954.0  0.806346  -0.566668  0.000000      -3.530169   54.60   \n",
       "...            ...       ...        ...       ...            ...     ...   \n",
       "9902       39313.0  0.911910  -0.792831  0.013094       2.877289   46.32   \n",
       "9903       42262.0  1.300222   1.393741  0.015452      17.435704   46.02   \n",
       "9904       63000.0  1.048070  -1.550213  0.004735     -12.532711   43.93   \n",
       "9905       53000.0  1.152611   3.375684  0.003959      60.175704   43.96   \n",
       "9906       39000.0  2.161019  22.255821  0.010970     399.425704    7.58   \n",
       "\n",
       "      외국인_주식분포비율    업력  \n",
       "0          13.46  63.0  \n",
       "1          20.15  64.0  \n",
       "2          28.31  65.0  \n",
       "3          39.60  66.0  \n",
       "4           0.02  35.0  \n",
       "...          ...   ...  \n",
       "9902        0.99  36.0  \n",
       "9903        0.88  37.0  \n",
       "9904       17.61   2.0  \n",
       "9905       17.84   3.0  \n",
       "9906        4.81   7.0  \n",
       "\n",
       "[9871 rows x 36 columns]"
      ]
     },
     "execution_count": 478,
     "metadata": {},
     "output_type": "execute_result"
    }
   ],
   "source": [
    "# KMeans 클러스터링을 이용해서 이상치 제거 (for문을 통해 n_clusters=13 도출)\n",
    "clf = KMeans(n_clusters=2, random_state=156)\n",
    "clf.fit(df_수치)\n",
    "df_km = df_수치[clf.predict(df_수치)==0]\n",
    "\n",
    "df_km"
   ]
  },
  {
   "cell_type": "code",
   "execution_count": 479,
   "metadata": {},
   "outputs": [
    {
     "name": "stderr",
     "output_type": "stream",
     "text": [
      "c:\\Users\\msi\\anaconda3\\lib\\site-packages\\sklearn\\cluster\\_kmeans.py:870: FutureWarning: The default value of `n_init` will change from 10 to 'auto' in 1.4. Set the value of `n_init` explicitly to suppress the warning\n",
      "  warnings.warn(\n"
     ]
    },
    {
     "name": "stdout",
     "output_type": "stream",
     "text": [
      "silhouette: 0.9858339047422067\n"
     ]
    }
   ],
   "source": [
    "# KMeans 클러스터링을 이용해서 이상치 제거\n",
    "from sklearn.metrics import silhouette_score\n",
    "clf = KMeans(n_clusters=2, random_state=156)\n",
    "clf.fit(df_수치)\n",
    "df_km = df_수치[clf.predict(df_수치)==0]\n",
    "label = clf.labels_\n",
    "score_samples = silhouette_score(df_수치,label)\n",
    "print('silhouette:',score_samples)"
   ]
  },
  {
   "cell_type": "code",
   "execution_count": 480,
   "metadata": {},
   "outputs": [],
   "source": [
    "# 데이터 합병\n",
    "df_km = pd.concat([df_명목,df_km], axis=1) "
   ]
  },
  {
   "cell_type": "code",
   "execution_count": 481,
   "metadata": {},
   "outputs": [],
   "source": [
    "# 데이터 합병으로 인한 결측치 제거\n",
    "df_km.dropna(axis = 0, inplace = True)"
   ]
  },
  {
   "cell_type": "code",
   "execution_count": 482,
   "metadata": {},
   "outputs": [],
   "source": [
    "df_km.to_csv(\"./datasets/이상치제거csv/Kmeans이상치.csv\", encoding = \"UTF-8-sig\")"
   ]
  },
  {
   "cell_type": "code",
   "execution_count": null,
   "metadata": {},
   "outputs": [],
   "source": []
  }
 ],
 "metadata": {
  "kernelspec": {
   "display_name": "Python 3",
   "language": "python",
   "name": "python3"
  },
  "language_info": {
   "codemirror_mode": {
    "name": "ipython",
    "version": 3
   },
   "file_extension": ".py",
   "mimetype": "text/x-python",
   "name": "python",
   "nbconvert_exporter": "python",
   "pygments_lexer": "ipython3",
   "version": "3.9.13"
  },
  "orig_nbformat": 4
 },
 "nbformat": 4,
 "nbformat_minor": 2
}
