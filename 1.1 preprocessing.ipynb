{
 "cells": [
  {
   "cell_type": "code",
   "execution_count": 1,
   "metadata": {},
   "outputs": [],
   "source": [
    "import pandas as pd\n",
    "import numpy as np\n",
    "\n",
    "# pd.set_option('display.max_rows', None)\n",
    "# pd.set_option('display.max_rows', None)"
   ]
  },
  {
   "cell_type": "code",
   "execution_count": 2,
   "metadata": {},
   "outputs": [],
   "source": [
    "# func 모음\n",
    "\n",
    "# 1. 종목코드를 6자리로 통일. ex) 990 -> 000990\n",
    "def padding(x):\n",
    "    x = str(x)\n",
    "    return x.rjust(6, \"0\")\n",
    "\n",
    "# 2. 결산월 12월인 것만 선택\n",
    "# : 전체 데이터 4963개 중에서 12월 결산인 데이터가 4836개이다. 나머지 결산월의 데이터가 전체의 2.5%로 데이터량이 작기도하고 결측치가 많아 제거\n",
    "def func_yearin(x):\n",
    "    if x[5:7] == '12':\n",
    "        return True\n",
    "    else:\n",
    "        return False\n",
    "\n",
    "# 3. 회계년도컬럼, 년도만 뽑아서 int화\n",
    "def change_year(x):\n",
    "    return int(x[:4])\n",
    "\n",
    "# 4. 연결, 개별재무제표 통합을 위해 연결재무 데이터 컬럼명 통일화 : \"(IFRS연결)\"제거\n",
    "def func_replace_col1(x):\n",
    "    x = x.replace(\" \",\"\")\n",
    "    x = x.replace(\",\",\"\")\n",
    "    x = x.replace(\"(비교)\",\"\")\n",
    "    x = x.replace(\"(IFRS)\",\"\")\n",
    "    x = x.replace(\"(*)\",\"\")\n",
    "    x = x.replace(\"[제조]\",\"\")\n",
    "    return x.replace(\"(IFRS연결)\",\"\")\n",
    "\n",
    "# 5. 연결, 개별재무제표 통합을 위해 개별재무 데이터 컬럼명 통일화 : \"(IFRS)\"제거\n",
    "def func_replace_col2(x):\n",
    "    x = x.replace(\" \",\"\")\n",
    "    x = x.replace(\",\",\"\")\n",
    "    x = x.replace(\"(비교)\",\"\")\n",
    "    x = x.replace(\"(IFRS)\",\"\")\n",
    "    x = x.replace(\"(*)\",\"\")\n",
    "    x = x.replace(\"[제조]\",\"\")\n",
    "    return x.replace(\"(IFRS)\",\"\")\n",
    "\n",
    "# 6. 2020년 raw data 제외\n",
    "def func_rm_2020(x):\n",
    "    if x[:4] == \"2020\":\n",
    "        return False\n",
    "    else:\n",
    "        return True\n",
    "\n",
    "# 7. True, False 반전\n",
    "def func_not(x):\n",
    "    return not x"
   ]
  },
  {
   "attachments": {},
   "cell_type": "markdown",
   "metadata": {},
   "source": [
    "# 연결재무재표 merge"
   ]
  },
  {
   "cell_type": "code",
   "execution_count": 3,
   "metadata": {},
   "outputs": [
    {
     "data": {
      "text/plain": [
       "(20953, 32)"
      ]
     },
     "execution_count": 3,
     "metadata": {},
     "output_type": "execute_result"
    }
   ],
   "source": [
    "df_연결_일반성 = pd.read_csv(\"./datasets/raw/연결일반.csv\",encoding='cp949')\n",
    "df_연결_성장성 = pd.read_csv(\"./datasets/raw/연결성장.csv\",encoding='cp949')\n",
    "df_연결_수익성 = pd.read_csv(\"./datasets/raw/연결수익.csv\",encoding=\"cp949\")\n",
    "df_연결_안정성 = pd.read_csv(\"./datasets/raw/연결안정.csv\",encoding='cp949')\n",
    "\n",
    "df_재무_연결 = pd.merge(df_연결_일반성, df_연결_성장성, on=[\"회사명\",\"거래소코드\",\"회계년도\"], how = 'inner')\n",
    "df_재무_연결 = pd.merge(df_재무_연결, df_연결_수익성, on=[\"회사명\",\"거래소코드\",\"회계년도\"], how = 'inner')\n",
    "df_재무_연결 = pd.merge(df_재무_연결, df_연결_안정성, on=[\"회사명\",\"거래소코드\",\"회계년도\"], how = 'inner')\n",
    "df_재무_연결[\"거래소코드\"] = df_재무_연결[\"거래소코드\"].map(padding) # 거래소코드 padding\n",
    "df_재무_연결[\"회계년도\"] = df_재무_연결[\"회계년도\"].map(change_year) # 년도만 표시\n",
    "\n",
    "list_col = list() # 컬럼명에서 \"IFRS연결\", \" \", \",\" 제거\n",
    "for i in list(df_재무_연결.columns):\n",
    "    list_col.append(func_replace_col1(i))\n",
    "df_재무_연결.columns = list_col\n",
    "\n",
    "## 중복되는 데이터 제거\n",
    "df_재무_연결.drop_duplicates(['거래소코드',\"회계년도\"], keep='last', inplace=True)\n",
    "df_재무_연결.reset_index(drop=True, inplace=True)\n",
    "\n",
    "df_재무_연결.to_csv(\"./datasets/재무_연결.csv\")\n",
    "df_재무_연결.shape"
   ]
  },
  {
   "cell_type": "code",
   "execution_count": 4,
   "metadata": {},
   "outputs": [
    {
     "name": "stdout",
     "output_type": "stream",
     "text": [
      "<class 'pandas.core.frame.DataFrame'>\n",
      "RangeIndex: 20953 entries, 0 to 20952\n",
      "Data columns (total 32 columns):\n",
      " #   Column         Non-Null Count  Dtype  \n",
      "---  ------         --------------  -----  \n",
      " 0   회사명            20953 non-null  object \n",
      " 1   거래소코드          20953 non-null  object \n",
      " 2   회계년도           20953 non-null  int64  \n",
      " 3   상장일            20953 non-null  object \n",
      " 4   자산             16140 non-null  float64\n",
      " 5   당기순이익(손실)      20404 non-null  float64\n",
      " 6   미처분이익잉여금(결손금)  20404 non-null  float64\n",
      " 7   총자본증가율         16085 non-null  float64\n",
      " 8   비유동자산증가율       16085 non-null  float64\n",
      " 9   유동자산증가율        16085 non-null  float64\n",
      " 10  자기자본증가율        16085 non-null  float64\n",
      " 11  매출액증가율         16085 non-null  float64\n",
      " 12  정상영업이익증가율      16085 non-null  float64\n",
      " 13  순이익증가율         16085 non-null  float64\n",
      " 14  총포괄이익증가율       16085 non-null  float64\n",
      " 15  매출액순이익률        16085 non-null  float64\n",
      " 16  총자본순이익률        16085 non-null  float64\n",
      " 17  자기자본순이익률       16085 non-null  float64\n",
      " 18  매출원가대매출액비율     16085 non-null  float64\n",
      " 19  광고선전비대매출액비율    16085 non-null  float64\n",
      " 20  유보율            16085 non-null  float64\n",
      " 21  비유동비율          16085 non-null  float64\n",
      " 22  유동비율           16085 non-null  float64\n",
      " 23  당좌비율           16085 non-null  float64\n",
      " 24  현금비율           16085 non-null  float64\n",
      " 25  부채비율           16085 non-null  float64\n",
      " 26  유동부채비율         16085 non-null  float64\n",
      " 27  차입금비율          16085 non-null  float64\n",
      " 28  이자보상배율(이자비용)   16085 non-null  float64\n",
      " 29  유보액대비율         16085 non-null  float64\n",
      " 30  유보액대납입자본배율     16085 non-null  float64\n",
      " 31  투자집중도          16085 non-null  float64\n",
      "dtypes: float64(28), int64(1), object(3)\n",
      "memory usage: 5.1+ MB\n"
     ]
    }
   ],
   "source": [
    "df_재무_연결.info()"
   ]
  },
  {
   "attachments": {},
   "cell_type": "markdown",
   "metadata": {},
   "source": [
    "# 개별재무제표 merge"
   ]
  },
  {
   "cell_type": "code",
   "execution_count": 5,
   "metadata": {},
   "outputs": [
    {
     "data": {
      "text/plain": [
       "(20953, 32)"
      ]
     },
     "execution_count": 5,
     "metadata": {},
     "output_type": "execute_result"
    }
   ],
   "source": [
    "df_개별_일반성 = pd.read_csv(\"./datasets/raw/개별일반.csv\",encoding='cp949')\n",
    "df_개별_성장성 = pd.read_csv(\"./datasets/raw/개별성장.csv\",encoding='cp949')\n",
    "df_개별_수익성 = pd.read_csv(\"./datasets/raw/개별수익.csv\",encoding=\"cp949\")\n",
    "df_개별_안정성 = pd.read_csv(\"./datasets/raw/개별안정.csv\",encoding='cp949')\n",
    "\n",
    "\n",
    "\n",
    "df_재무_개별 = pd.merge(df_개별_일반성, df_개별_성장성, on=[\"회사명\",\"거래소코드\",\"회계년도\"], how = 'inner')\n",
    "df_재무_개별 = pd.merge(df_재무_개별, df_개별_수익성, on=[\"회사명\",\"거래소코드\",\"회계년도\"], how = 'inner')\n",
    "df_재무_개별 = pd.merge(df_재무_개별, df_개별_안정성, on=[\"회사명\",\"거래소코드\",\"회계년도\"], how = 'inner')\n",
    "df_재무_개별[\"거래소코드\"] = df_재무_개별[\"거래소코드\"].map(padding) # 거래소코드 padding\n",
    "df_재무_개별[\"회계년도\"] = df_재무_개별[\"회계년도\"].map(change_year) # 년도만 표시\n",
    "\n",
    "list_col = list() # 컬럼명에서 \"IFRS개별\", \" \", \",\" 제거\n",
    "for i in list(df_재무_개별.columns):\n",
    "    list_col.append(func_replace_col1(i))\n",
    "df_재무_개별.columns = list_col\n",
    "\n",
    "# 중복되는 데이터 제거\n",
    "df_재무_개별.drop_duplicates(['거래소코드',\"회계년도\"], keep='last', inplace=True)\n",
    "df_재무_개별.reset_index(drop=True, inplace=True)\n",
    "\n",
    "df_재무_개별.to_csv(\"./datasets/재무_개별.csv\")\n",
    "df_재무_개별.shape\n"
   ]
  },
  {
   "cell_type": "code",
   "execution_count": 6,
   "metadata": {},
   "outputs": [
    {
     "name": "stdout",
     "output_type": "stream",
     "text": [
      "<class 'pandas.core.frame.DataFrame'>\n",
      "RangeIndex: 20953 entries, 0 to 20952\n",
      "Data columns (total 32 columns):\n",
      " #   Column         Non-Null Count  Dtype  \n",
      "---  ------         --------------  -----  \n",
      " 0   회사명            20953 non-null  object \n",
      " 1   거래소코드          20953 non-null  object \n",
      " 2   회계년도           20953 non-null  int64  \n",
      " 3   상장일            20953 non-null  object \n",
      " 4   자산             20404 non-null  float64\n",
      " 5   당기순이익(손실)      20404 non-null  float64\n",
      " 6   미처분이익잉여금(결손금)  20404 non-null  float64\n",
      " 7   총자본증가율         20330 non-null  float64\n",
      " 8   비유동자산증가율       20330 non-null  float64\n",
      " 9   유동자산증가율        20330 non-null  float64\n",
      " 10  자기자본증가율        20330 non-null  float64\n",
      " 11  매출액증가율         20330 non-null  float64\n",
      " 12  정상영업이익증가율      20330 non-null  float64\n",
      " 13  순이익증가율         20330 non-null  float64\n",
      " 14  총포괄이익증가율       20330 non-null  float64\n",
      " 15  매출액순이익률        20330 non-null  float64\n",
      " 16  총자본순이익률        20330 non-null  float64\n",
      " 17  자기자본순이익률       20330 non-null  float64\n",
      " 18  매출원가대매출액비율     20330 non-null  float64\n",
      " 19  광고선전비대매출액비율    20330 non-null  float64\n",
      " 20  유보율            20330 non-null  float64\n",
      " 21  비유동비율          20330 non-null  float64\n",
      " 22  유동비율           20330 non-null  float64\n",
      " 23  당좌비율           20330 non-null  float64\n",
      " 24  현금비율           20330 non-null  float64\n",
      " 25  부채비율           20330 non-null  float64\n",
      " 26  유동부채비율         20330 non-null  float64\n",
      " 27  차입금비율          20330 non-null  float64\n",
      " 28  이자보상배율(이자비용)   20330 non-null  float64\n",
      " 29  유보액대비율         20330 non-null  float64\n",
      " 30  유보액대납입자본배율     20330 non-null  float64\n",
      " 31  투자집중도          20330 non-null  float64\n",
      "dtypes: float64(28), int64(1), object(3)\n",
      "memory usage: 5.1+ MB\n"
     ]
    }
   ],
   "source": [
    "df_재무_개별.info()"
   ]
  },
  {
   "attachments": {},
   "cell_type": "markdown",
   "metadata": {},
   "source": [
    "## 연결재무 데이터 결측치"
   ]
  },
  {
   "cell_type": "code",
   "execution_count": 7,
   "metadata": {},
   "outputs": [
    {
     "data": {
      "text/plain": [
       "회사명                 0\n",
       "거래소코드               0\n",
       "회계년도                0\n",
       "상장일                 0\n",
       "자산               4813\n",
       "당기순이익(손실)         549\n",
       "미처분이익잉여금(결손금)     549\n",
       "총자본증가율           4868\n",
       "비유동자산증가율         4868\n",
       "유동자산증가율          4868\n",
       "자기자본증가율          4868\n",
       "매출액증가율           4868\n",
       "정상영업이익증가율        4868\n",
       "순이익증가율           4868\n",
       "총포괄이익증가율         4868\n",
       "매출액순이익률          4868\n",
       "총자본순이익률          4868\n",
       "자기자본순이익률         4868\n",
       "매출원가대매출액비율       4868\n",
       "광고선전비대매출액비율      4868\n",
       "유보율              4868\n",
       "비유동비율            4868\n",
       "유동비율             4868\n",
       "당좌비율             4868\n",
       "현금비율             4868\n",
       "부채비율             4868\n",
       "유동부채비율           4868\n",
       "차입금비율            4868\n",
       "이자보상배율(이자비용)     4868\n",
       "유보액대비율           4868\n",
       "유보액대납입자본배율       4868\n",
       "투자집중도            4868\n",
       "dtype: int64"
      ]
     },
     "execution_count": 7,
     "metadata": {},
     "output_type": "execute_result"
    }
   ],
   "source": [
    "df_재무_연결.isna().sum()"
   ]
  },
  {
   "cell_type": "code",
   "execution_count": 7,
   "metadata": {},
   "outputs": [
    {
     "name": "stdout",
     "output_type": "stream",
     "text": [
      "제거할 외국계기업 데이터 수 :  204\n"
     ]
    },
    {
     "data": {
      "text/plain": [
       "(20749, 32)"
      ]
     },
     "execution_count": 7,
     "metadata": {},
     "output_type": "execute_result"
    }
   ],
   "source": [
    "## 외국계 기업 제거\n",
    "\n",
    "def func_isnt_fcompany(x):\n",
    "    if x[:1] == '9':\n",
    "        return False\n",
    "    else:\n",
    "        return True\n",
    "\n",
    "print(\"제거할 외국계기업 데이터 수 : \", len(df_재무_연결[df_재무_연결[\"거래소코드\"].map(func_isnt_fcompany).map(func_not)]))\n",
    "df_재무_연결 = df_재무_연결[df_재무_연결[\"거래소코드\"].map(func_isnt_fcompany)]\n",
    "df_재무_연결.shape # 외국계기업 데이터 204개 제거"
   ]
  },
  {
   "cell_type": "code",
   "execution_count": 8,
   "metadata": {},
   "outputs": [
    {
     "name": "stdout",
     "output_type": "stream",
     "text": [
      "회사수 :  2487\n",
      "거래소코드수 :  2515\n"
     ]
    }
   ],
   "source": [
    "## 회사수와 거래소코드수 차이가나는것 확인\n",
    "print(\"회사수 : \", len(df_재무_연결[\"회사명\"].unique()))\n",
    "print(\"거래소코드수 : \", len(df_재무_연결[\"거래소코드\"].unique()))"
   ]
  },
  {
   "cell_type": "code",
   "execution_count": 9,
   "metadata": {},
   "outputs": [
    {
     "name": "stdout",
     "output_type": "stream",
     "text": [
      "거래소코드가 2개인 기업 수 29 개\n"
     ]
    }
   ],
   "source": [
    "## 거래소 코드 중복기업 전처리\n",
    "list_overlap_code = list()\n",
    "for i in list(df_재무_연결[\"회사명\"].unique()):\n",
    "    if len(df_재무_연결[df_재무_연결[\"회사명\"]==i][\"거래소코드\"].unique()) > 1:\n",
    "        list_overlap_code.append(i)\n",
    "print(\"거래소코드가 2개인 기업 수\", len(list_overlap_code), \"개\")\n",
    "# list_overlap_code"
   ]
  },
  {
   "cell_type": "code",
   "execution_count": 11,
   "metadata": {},
   "outputs": [
    {
     "data": {
      "text/plain": [
       "['(주)본느',\n",
       " '(주)세화피앤씨',\n",
       " '(주)신성이엔지',\n",
       " '(주)아이엘사이언스',\n",
       " '(주)알로이스',\n",
       " '(주)에스에이티',\n",
       " '(주)엔케이맥스',\n",
       " '(주)원바이오젠',\n",
       " '(주)원익피앤이',\n",
       " '(주)인산가',\n",
       " '(주)자비스',\n",
       " '(주)정다운',\n",
       " '(주)카이노스메드',\n",
       " '(주)티에스트릴리온',\n",
       " '(주)판타지오',\n",
       " '(주)포인트엔지니어링',\n",
       " '(주)한국비엔씨',\n",
       " '(주)휴럼',\n",
       " '나무기술(주)',\n",
       " '삼성물산(주)',\n",
       " '소프트캠프(주)',\n",
       " '씨아이에스(주)',\n",
       " '에스케이(주)',\n",
       " '에스케이오션플랜트(주)',\n",
       " '엠에프엠코리아(주)',\n",
       " '원텍(주)',\n",
       " '줌인터넷(주)',\n",
       " '케이엠제약(주)',\n",
       " '패션플랫폼(주)']"
      ]
     },
     "execution_count": 11,
     "metadata": {},
     "output_type": "execute_result"
    }
   ],
   "source": [
    "# 거래소코드 2개인 기업 리스트\n",
    "list_overlap_code"
   ]
  },
  {
   "cell_type": "code",
   "execution_count": 10,
   "metadata": {},
   "outputs": [],
   "source": [
    "# 중복 거래소코드 제거\n",
    "def func_overlap_code(x):\n",
    "    if x == (df_재무_연결[df_재무_연결[\"회사명\"]==company_name][\"거래소코드\"].iloc[-1]) :\n",
    "        return True\n",
    "    else:\n",
    "        return False\n",
    "\n",
    "list_companyname = list(df_재무_연결[\"회사명\"].unique())\n",
    "\n",
    "\n",
    "dfs = list()\n",
    "\n",
    "\n",
    "for i in list_companyname:\n",
    "    company_name = i\n",
    "    #각 기업별로 데이터프레임 생성\n",
    "    df_concat = df_재무_연결[df_재무_연결[\"회사명\"]==i]\n",
    "    df_concat = df_concat[df_concat[\"거래소코드\"].map(func_overlap_code)] # 거래소코드 바뀌기 전의 거래소코드의 데이터는 삭제\n",
    "    dfs.append(df_concat)\n",
    "df_재무_연결 = pd.concat(dfs)\n",
    "df_재무_연결.reset_index(drop=True, inplace=True)"
   ]
  },
  {
   "cell_type": "code",
   "execution_count": 13,
   "metadata": {},
   "outputs": [
    {
     "data": {
      "text/plain": [
       "['036420']"
      ]
     },
     "execution_count": 13,
     "metadata": {},
     "output_type": "execute_result"
    }
   ],
   "source": [
    "# 회사명이 2개인 거래소코드 존재 확인 \n",
    "list_overlap_code = list()\n",
    "for i in list(df_재무_연결[\"거래소코드\"].unique()):\n",
    "    if len(df_재무_연결[df_재무_연결[\"거래소코드\"]==i][\"회사명\"].unique()) > 1:\n",
    "        list_overlap_code.append(i)\n",
    "list_overlap_code"
   ]
  },
  {
   "cell_type": "code",
   "execution_count": 11,
   "metadata": {},
   "outputs": [],
   "source": [
    "## 기업명 변경\n",
    "df_재무_연결[df_재무_연결['거래소코드']=='036420']\n",
    "df_재무_연결.loc[df_재무_연결['회사명']=='(주)제이콘텐트리',['회사명']] = '(주)콘텐트리중앙'"
   ]
  },
  {
   "cell_type": "code",
   "execution_count": 12,
   "metadata": {},
   "outputs": [
    {
     "data": {
      "text/plain": [
       "회사명                 0\n",
       "거래소코드               0\n",
       "회계년도                0\n",
       "상장일                 0\n",
       "자산               4754\n",
       "당기순이익(손실)         375\n",
       "미처분이익잉여금(결손금)     375\n",
       "총자본증가율           4800\n",
       "비유동자산증가율         4800\n",
       "유동자산증가율          4800\n",
       "자기자본증가율          4800\n",
       "매출액증가율           4800\n",
       "정상영업이익증가율        4800\n",
       "순이익증가율           4800\n",
       "총포괄이익증가율         4800\n",
       "매출액순이익률          4800\n",
       "총자본순이익률          4800\n",
       "자기자본순이익률         4800\n",
       "매출원가대매출액비율       4800\n",
       "광고선전비대매출액비율      4800\n",
       "유보율              4800\n",
       "비유동비율            4800\n",
       "유동비율             4800\n",
       "당좌비율             4800\n",
       "현금비율             4800\n",
       "부채비율             4800\n",
       "유동부채비율           4800\n",
       "차입금비율            4800\n",
       "이자보상배율(이자비용)     4800\n",
       "유보액대비율           4800\n",
       "유보액대납입자본배율       4800\n",
       "투자집중도            4800\n",
       "dtype: int64"
      ]
     },
     "execution_count": 12,
     "metadata": {},
     "output_type": "execute_result"
    }
   ],
   "source": [
    "df_재무_연결.isna().sum()"
   ]
  },
  {
   "cell_type": "code",
   "execution_count": 15,
   "metadata": {},
   "outputs": [
    {
     "name": "stdout",
     "output_type": "stream",
     "text": [
      "전체컬럼수 : 32\n",
      "1) 인덱스컬럼수 :  4\n",
      "2) 데이터 하나도 없는 컬럼수 :  25\n",
      "3) 데이터 하나도 없는 행의 컬럼수에서 위 2)번 컬럼수 제외 :  2\n",
      " -> 인덱스컬럼을 제외한 모든 컬럼에 결측치 존재\n"
     ]
    }
   ],
   "source": [
    "# df_재무_연결.isna().sum().to_dict()\n",
    "na_1 = int(list(df_재무_연결.isna().sum().to_dict().values()).count(0))\n",
    "na_2 = int(list(df_재무_연결.isna().sum().to_dict().values()).count(4800)) # 데이터 하나도 없는 컬럼!\n",
    "na_3 = int(list(df_재무_연결.isna().sum().to_dict().values()).count(375)) # 데이터 하나도 없는 기업&회계년도 데이터\n",
    "print(\"전체컬럼수 :\", len(list(df_재무_연결.isna().sum().to_dict().values())))\n",
    "print(\"1) 인덱스컬럼수 : \", na_1)\n",
    "print(\"2) 데이터 하나도 없는 컬럼수 : \", na_2)\n",
    "print(\"3) 데이터 하나도 없는 행의 컬럼수에서 위 2)번 컬럼수 제외 : \", na_3)\n",
    "print(\" -> 인덱스컬럼을 제외한 모든 컬럼에 결측치 존재\")\n",
    "\n",
    "\n",
    "# df_재무_연결.isna().sum().to_dict()\n",
    "\n",
    "# 대표적으로 \"배당성향\" 컬럼이 재무df_재무_연결재무제표 데이터에 없다.\n",
    "# 그 이유는 ts2000이 \"한국거래소 배당성향 계산 기준\"인 별도 재무제표 기준으로 계산하기 떄문.\n",
    "\n",
    "# ts2000의 배당성향과 naver 기준 배당성향이 다른데 ts2000은 한국거래소 기준으로 별도 재무제표 기준으로 계산하고있어 그에 따른 수치이고 \n",
    "# Naver는 금감원기준으로 재무df_재무_연결 재무제표 기준으로 계산하고 있어 두 곳의 값이 다른걸 확인했다. 따라서 우리는 한국거래소기준으로 배당성향을 사용함을 확인.\n",
    "# 나머지 7개 컬럼도 이와 같은 이유로 개별재무제표에서만 계산되기에 재무df_재무_연결재무제표 데이터에서 누락됐을 것이라 예"
   ]
  },
  {
   "attachments": {},
   "cell_type": "markdown",
   "metadata": {},
   "source": [
    "## 개별재무 데이터결측"
   ]
  },
  {
   "cell_type": "code",
   "execution_count": 16,
   "metadata": {},
   "outputs": [
    {
     "name": "stdout",
     "output_type": "stream",
     "text": [
      "회사명                0\n",
      "거래소코드              0\n",
      "회계년도               0\n",
      "상장일                0\n",
      "자산               549\n",
      "당기순이익(손실)        549\n",
      "미처분이익잉여금(결손금)    549\n",
      "총자본증가율           623\n",
      "비유동자산증가율         623\n",
      "유동자산증가율          623\n",
      "자기자본증가율          623\n",
      "매출액증가율           623\n",
      "정상영업이익증가율        623\n",
      "순이익증가율           623\n",
      "총포괄이익증가율         623\n",
      "매출액순이익률          623\n",
      "총자본순이익률          623\n",
      "자기자본순이익률         623\n",
      "매출원가대매출액비율       623\n",
      "광고선전비대매출액비율      623\n",
      "유보율              623\n",
      "비유동비율            623\n",
      "유동비율             623\n",
      "당좌비율             623\n",
      "현금비율             623\n",
      "부채비율             623\n",
      "유동부채비율           623\n",
      "차입금비율            623\n",
      "이자보상배율(이자비용)     623\n",
      "유보액대비율           623\n",
      "유보액대납입자본배율       623\n",
      "투자집중도            623\n",
      "dtype: int64\n"
     ]
    }
   ],
   "source": [
    "print(df_재무_개별.isna().sum())"
   ]
  },
  {
   "cell_type": "code",
   "execution_count": 17,
   "metadata": {},
   "outputs": [
    {
     "name": "stdout",
     "output_type": "stream",
     "text": [
      "제거할 외국계기업 데이터 수 :  204\n"
     ]
    },
    {
     "data": {
      "text/plain": [
       "(20749, 32)"
      ]
     },
     "execution_count": 17,
     "metadata": {},
     "output_type": "execute_result"
    }
   ],
   "source": [
    "def func_isnt_fcompany(x):\n",
    "    if x[:1] == '9':\n",
    "        return False\n",
    "    else:\n",
    "        return True\n",
    "\n",
    "print(\"제거할 외국계기업 데이터 수 : \", len(df_재무_개별[df_재무_개별[\"거래소코드\"].map(func_isnt_fcompany).map(func_not)]))\n",
    "df_재무_개별 = df_재무_개별[df_재무_개별[\"거래소코드\"].map(func_isnt_fcompany)]\n",
    "df_재무_개별.shape # 외국계기업 데이터 204개 제거"
   ]
  },
  {
   "cell_type": "code",
   "execution_count": 18,
   "metadata": {},
   "outputs": [
    {
     "name": "stdout",
     "output_type": "stream",
     "text": [
      "회사수 :  2487\n",
      "거래소코드수 :  2515\n"
     ]
    }
   ],
   "source": [
    "## 회사수와 거래소코드수 차이가나는것 확인\n",
    "print(\"회사수 : \", len(df_재무_개별[\"회사명\"].unique()))\n",
    "print(\"거래소코드수 : \", len(df_재무_개별[\"거래소코드\"].unique()))"
   ]
  },
  {
   "cell_type": "code",
   "execution_count": 19,
   "metadata": {},
   "outputs": [
    {
     "name": "stdout",
     "output_type": "stream",
     "text": [
      "거래소코드가 2개인 기업 수 29 개\n"
     ]
    }
   ],
   "source": [
    "## 거래소 코드 중복기업 전처리\n",
    "list_overlap_code = list()\n",
    "for i in list(df_재무_개별[\"회사명\"].unique()):\n",
    "    if len(df_재무_개별[df_재무_개별[\"회사명\"]==i][\"거래소코드\"].unique()) > 1:\n",
    "        list_overlap_code.append(i)\n",
    "print(\"거래소코드가 2개인 기업 수\", len(list_overlap_code), \"개\")\n",
    "# list_overlap_code"
   ]
  },
  {
   "cell_type": "code",
   "execution_count": 20,
   "metadata": {},
   "outputs": [
    {
     "name": "stdout",
     "output_type": "stream",
     "text": [
      "['(주)본느', '(주)세화피앤씨', '(주)신성이엔지', '(주)아이엘사이언스', '(주)알로이스', '(주)에스에이티', '(주)엔케이맥스', '(주)원바이오젠', '(주)원익피앤이', '(주)인산가', '(주)자비스', '(주)정다운', '(주)카이노스메드', '(주)티에스트릴리온', '(주)판타지오', '(주)포인트엔지니어링', '(주)한국비엔씨', '(주)휴럼', '나무기술(주)', '삼성물산(주)', '소프트캠프(주)', '씨아이에스(주)', '에스케이(주)', '에스케이오션플랜트(주)', '엠에프엠코리아(주)', '원텍(주)', '줌인터넷(주)', '케이엠제약(주)', '패션플랫폼(주)']\n"
     ]
    }
   ],
   "source": [
    "\n",
    "# 거래소코드 2개인 기업 리스트\n",
    "print(list_overlap_code)\n"
   ]
  },
  {
   "cell_type": "code",
   "execution_count": 21,
   "metadata": {},
   "outputs": [],
   "source": [
    "# 중복 거래소코드 제거\n",
    "def func_overlap_code(x):\n",
    "    if x == (df_재무_개별[df_재무_개별[\"회사명\"]==company_name][\"거래소코드\"].iloc[-1]) :\n",
    "        return True\n",
    "    else:\n",
    "        return False\n",
    "\n",
    "list_companyname = list(df_재무_개별[\"회사명\"].unique())\n",
    "\n",
    "\n",
    "dfs = list()\n",
    "\n",
    "\n",
    "for i in list_companyname:\n",
    "    company_name = i\n",
    "    #각 기업별로 데이터프레임 생성\n",
    "    df_concat = df_재무_개별[df_재무_개별[\"회사명\"]==i]\n",
    "    df_concat = df_concat[df_concat[\"거래소코드\"].map(func_overlap_code)] # 거래소코드 바뀌기 전의 거래소코드의 데이터는 삭제\n",
    "    dfs.append(df_concat)\n",
    "df_재무_개별 = pd.concat(dfs)\n",
    "df_재무_개별.reset_index(drop=True, inplace=True)\n",
    "\n",
    "\n",
    "\n"
   ]
  },
  {
   "cell_type": "code",
   "execution_count": 23,
   "metadata": {},
   "outputs": [
    {
     "data": {
      "text/plain": [
       "['036420']"
      ]
     },
     "execution_count": 23,
     "metadata": {},
     "output_type": "execute_result"
    }
   ],
   "source": [
    "# 회사명이 2개인 거래소코드 존재 확인 - 엄슴\n",
    "list_overlap_code = list()\n",
    "for i in list(df_재무_개별[\"거래소코드\"].unique()):\n",
    "    if len(df_재무_개별[df_재무_개별[\"거래소코드\"]==i][\"회사명\"].unique()) > 1:\n",
    "        list_overlap_code.append(i)\n",
    "list_overlap_code"
   ]
  },
  {
   "cell_type": "code",
   "execution_count": 24,
   "metadata": {},
   "outputs": [],
   "source": [
    "# 기업명 변경\n",
    "df_재무_개별[df_재무_개별['거래소코드']=='036420']\n",
    "df_재무_개별.loc[df_재무_개별['회사명']=='(주)제이콘텐트리',['회사명']] = '(주)콘텐트리중앙'"
   ]
  },
  {
   "cell_type": "code",
   "execution_count": 25,
   "metadata": {},
   "outputs": [
    {
     "name": "stdout",
     "output_type": "stream",
     "text": [
      "<class 'pandas.core.frame.DataFrame'>\n",
      "RangeIndex: 20649 entries, 0 to 20648\n",
      "Data columns (total 32 columns):\n",
      " #   Column         Non-Null Count  Dtype  \n",
      "---  ------         --------------  -----  \n",
      " 0   회사명            20649 non-null  object \n",
      " 1   거래소코드          20649 non-null  object \n",
      " 2   회계년도           20649 non-null  int64  \n",
      " 3   상장일            20649 non-null  object \n",
      " 4   자산             20274 non-null  float64\n",
      " 5   당기순이익(손실)      20274 non-null  float64\n",
      " 6   미처분이익잉여금(결손금)  20274 non-null  float64\n",
      " 7   총자본증가율         20201 non-null  float64\n",
      " 8   비유동자산증가율       20201 non-null  float64\n",
      " 9   유동자산증가율        20201 non-null  float64\n",
      " 10  자기자본증가율        20201 non-null  float64\n",
      " 11  매출액증가율         20201 non-null  float64\n",
      " 12  정상영업이익증가율      20201 non-null  float64\n",
      " 13  순이익증가율         20201 non-null  float64\n",
      " 14  총포괄이익증가율       20201 non-null  float64\n",
      " 15  매출액순이익률        20201 non-null  float64\n",
      " 16  총자본순이익률        20201 non-null  float64\n",
      " 17  자기자본순이익률       20201 non-null  float64\n",
      " 18  매출원가대매출액비율     20201 non-null  float64\n",
      " 19  광고선전비대매출액비율    20201 non-null  float64\n",
      " 20  유보율            20201 non-null  float64\n",
      " 21  비유동비율          20201 non-null  float64\n",
      " 22  유동비율           20201 non-null  float64\n",
      " 23  당좌비율           20201 non-null  float64\n",
      " 24  현금비율           20201 non-null  float64\n",
      " 25  부채비율           20201 non-null  float64\n",
      " 26  유동부채비율         20201 non-null  float64\n",
      " 27  차입금비율          20201 non-null  float64\n",
      " 28  이자보상배율(이자비용)   20201 non-null  float64\n",
      " 29  유보액대비율         20201 non-null  float64\n",
      " 30  유보액대납입자본배율     20201 non-null  float64\n",
      " 31  투자집중도          20201 non-null  float64\n",
      "dtypes: float64(28), int64(1), object(3)\n",
      "memory usage: 5.0+ MB\n"
     ]
    }
   ],
   "source": [
    "df_재무_개별.info()"
   ]
  },
  {
   "attachments": {},
   "cell_type": "markdown",
   "metadata": {},
   "source": [
    "## 개별 연결  merger\n",
    "### 연결재무데이터의 결측치를 개별재무데이터로 결측치 대체"
   ]
  },
  {
   "cell_type": "code",
   "execution_count": 26,
   "metadata": {},
   "outputs": [],
   "source": [
    "# df_재무를 완전데이터와 결측데이터로 나눈 뒤 결측데이터를 개별재무데이터로 대체시키고, df_재무로 다시 통합하면 끝!\n",
    "df_재무_완전 =df_재무_연결[df_재무_연결[\"총자본순이익률\"].isna().map(func_not)]\n",
    "# df_재무_완전\n",
    "\n",
    "df_재무_결측 =df_재무_연결[df_재무_연결[\"총자본순이익률\"].isna()]\n",
    "# df_재무_결측"
   ]
  },
  {
   "cell_type": "code",
   "execution_count": 27,
   "metadata": {},
   "outputs": [
    {
     "name": "stdout",
     "output_type": "stream",
     "text": [
      "<class 'pandas.core.frame.DataFrame'>\n",
      "RangeIndex: 20649 entries, 0 to 20648\n",
      "Data columns (total 32 columns):\n",
      " #   Column         Non-Null Count  Dtype  \n",
      "---  ------         --------------  -----  \n",
      " 0   회사명            20649 non-null  object \n",
      " 1   거래소코드          20649 non-null  object \n",
      " 2   회계년도           20649 non-null  int64  \n",
      " 3   상장일            20649 non-null  object \n",
      " 4   자산             20274 non-null  float64\n",
      " 5   당기순이익(손실)      20274 non-null  float64\n",
      " 6   미처분이익잉여금(결손금)  20274 non-null  float64\n",
      " 7   총자본증가율         20201 non-null  float64\n",
      " 8   비유동자산증가율       20201 non-null  float64\n",
      " 9   유동자산증가율        20201 non-null  float64\n",
      " 10  자기자본증가율        20201 non-null  float64\n",
      " 11  매출액증가율         20201 non-null  float64\n",
      " 12  정상영업이익증가율      20201 non-null  float64\n",
      " 13  순이익증가율         20201 non-null  float64\n",
      " 14  총포괄이익증가율       20201 non-null  float64\n",
      " 15  매출액순이익률        20201 non-null  float64\n",
      " 16  총자본순이익률        20201 non-null  float64\n",
      " 17  자기자본순이익률       20201 non-null  float64\n",
      " 18  매출원가대매출액비율     20201 non-null  float64\n",
      " 19  광고선전비대매출액비율    20201 non-null  float64\n",
      " 20  유보율            20201 non-null  float64\n",
      " 21  비유동비율          20201 non-null  float64\n",
      " 22  유동비율           20201 non-null  float64\n",
      " 23  당좌비율           20201 non-null  float64\n",
      " 24  현금비율           20201 non-null  float64\n",
      " 25  부채비율           20201 non-null  float64\n",
      " 26  유동부채비율         20201 non-null  float64\n",
      " 27  차입금비율          20201 non-null  float64\n",
      " 28  이자보상배율(이자비용)   20201 non-null  float64\n",
      " 29  유보액대비율         20201 non-null  float64\n",
      " 30  유보액대납입자본배율     20201 non-null  float64\n",
      " 31  투자집중도          20201 non-null  float64\n",
      "dtypes: float64(28), int64(1), object(3)\n",
      "memory usage: 5.0+ MB\n"
     ]
    }
   ],
   "source": [
    "df_재무_개별.info()"
   ]
  },
  {
   "cell_type": "code",
   "execution_count": 28,
   "metadata": {},
   "outputs": [],
   "source": [
    "# 행전체가 결측치인 것 중 개별재무 데이터로 대체한 컬럼 말고 나머지 결측치 컬럼 리스트(58개))\n",
    "list_na_col = ['자산','총자본증가율','비유동자산증가율','유동자산증가율','자기자본증가율',          \n",
    "'매출액증가율','정상영업이익증가율','순이익증가율','총포괄이익증가율',         \n",
    "'매출액순이익률','총자본순이익률','자기자본순이익률',         \n",
    "'매출원가대매출액비율','광고선전비대매출액비율','유보율',              \n",
    "'비유동비율','유동비율','당좌비율','현금비율','부채비율','유동부채비율',           \n",
    "'차입금비율','이자보상배율(이자비용)','유보액대비율','유보액대납입자본배율','투자집중도'   ]\n",
    "\n",
    "\n",
    "df_재무_결측 = df_재무_결측.drop(list_na_col, axis=1)\n",
    "df_재무_결측 = pd.merge(df_재무_결측, df_재무_개별[[\"거래소코드\",\"회계년도\"]+list_na_col], on=[\"거래소코드\",\"회계년도\"], how = 'left')\n",
    "# df_재무_결측\n",
    "\n",
    "df_재무 = pd.concat([df_재무_완전,df_재무_결측], axis=0)"
   ]
  },
  {
   "cell_type": "code",
   "execution_count": 29,
   "metadata": {},
   "outputs": [
    {
     "data": {
      "text/plain": [
       "{'회사명': 0,\n",
       " '거래소코드': 0,\n",
       " '회계년도': 0,\n",
       " '상장일': 0,\n",
       " '자산': 376,\n",
       " '당기순이익(손실)': 375,\n",
       " '미처분이익잉여금(결손금)': 375,\n",
       " '총자본증가율': 448,\n",
       " '비유동자산증가율': 448,\n",
       " '유동자산증가율': 448,\n",
       " '자기자본증가율': 448,\n",
       " '매출액증가율': 448,\n",
       " '정상영업이익증가율': 448,\n",
       " '순이익증가율': 448,\n",
       " '총포괄이익증가율': 448,\n",
       " '매출액순이익률': 448,\n",
       " '총자본순이익률': 448,\n",
       " '자기자본순이익률': 448,\n",
       " '매출원가대매출액비율': 448,\n",
       " '광고선전비대매출액비율': 448,\n",
       " '유보율': 448,\n",
       " '비유동비율': 448,\n",
       " '유동비율': 448,\n",
       " '당좌비율': 448,\n",
       " '현금비율': 448,\n",
       " '부채비율': 448,\n",
       " '유동부채비율': 448,\n",
       " '차입금비율': 448,\n",
       " '이자보상배율(이자비용)': 448,\n",
       " '유보액대비율': 448,\n",
       " '유보액대납입자본배율': 448,\n",
       " '투자집중도': 448}"
      ]
     },
     "execution_count": 29,
     "metadata": {},
     "output_type": "execute_result"
    }
   ],
   "source": [
    "df_재무.isna().sum().to_dict()"
   ]
  },
  {
   "cell_type": "code",
   "execution_count": 30,
   "metadata": {},
   "outputs": [
    {
     "name": "stdout",
     "output_type": "stream",
     "text": [
      "제거행 갯수 :  448\n",
      "제거기업 갯수 :  249\n"
     ]
    }
   ],
   "source": [
    "print(\"제거행 갯수 : \", len(df_재무[df_재무[\"유보율\"].isna()]))\n",
    "print(\"제거기업 갯수 : \", len(list(df_재무[df_재무[\"유보율\"].isna()][\"거래소코드\"].unique())))\n",
    "# 약 개 기업의 어떤 년도에는 재무,별도 데이터 둘 다 없는 컬럼이 존재하기에 해당 연도 데이터 제거!(448행)\n",
    "# 데이터 누락된 사유 : \"필수 공시 지표가 아닌 지표는 누락되어 데이터 존재x\" 또는 \"비상장기업(이었던 기업) "
   ]
  },
  {
   "cell_type": "code",
   "execution_count": 31,
   "metadata": {},
   "outputs": [
    {
     "data": {
      "text/plain": [
       "{'회사명': 0,\n",
       " '거래소코드': 0,\n",
       " '회계년도': 0,\n",
       " '상장일': 0,\n",
       " '자산': 0,\n",
       " '당기순이익(손실)': 0,\n",
       " '미처분이익잉여금(결손금)': 0,\n",
       " '총자본증가율': 0,\n",
       " '비유동자산증가율': 0,\n",
       " '유동자산증가율': 0,\n",
       " '자기자본증가율': 0,\n",
       " '매출액증가율': 0,\n",
       " '정상영업이익증가율': 0,\n",
       " '순이익증가율': 0,\n",
       " '총포괄이익증가율': 0,\n",
       " '매출액순이익률': 0,\n",
       " '총자본순이익률': 0,\n",
       " '자기자본순이익률': 0,\n",
       " '매출원가대매출액비율': 0,\n",
       " '광고선전비대매출액비율': 0,\n",
       " '유보율': 0,\n",
       " '비유동비율': 0,\n",
       " '유동비율': 0,\n",
       " '당좌비율': 0,\n",
       " '현금비율': 0,\n",
       " '부채비율': 0,\n",
       " '유동부채비율': 0,\n",
       " '차입금비율': 0,\n",
       " '이자보상배율(이자비용)': 0,\n",
       " '유보액대비율': 0,\n",
       " '유보액대납입자본배율': 0,\n",
       " '투자집중도': 0}"
      ]
     },
     "execution_count": 31,
     "metadata": {},
     "output_type": "execute_result"
    }
   ],
   "source": [
    "df_재무 = df_재무[df_재무[\"유보율\"].isna().map(func_not)] # 위 결측치 없는 데이터로 필터링\n",
    "df_재무\n",
    "\n",
    "df_재무.isna().sum().to_dict()"
   ]
  },
  {
   "cell_type": "code",
   "execution_count": 32,
   "metadata": {},
   "outputs": [],
   "source": [
    "df_재무.to_csv('재무완성.csv',encoding='UTF-8-sig')"
   ]
  },
  {
   "cell_type": "code",
   "execution_count": null,
   "metadata": {},
   "outputs": [],
   "source": []
  }
 ],
 "metadata": {
  "kernelspec": {
   "display_name": "base",
   "language": "python",
   "name": "python3"
  },
  "language_info": {
   "codemirror_mode": {
    "name": "ipython",
    "version": 3
   },
   "file_extension": ".py",
   "mimetype": "text/x-python",
   "name": "python",
   "nbconvert_exporter": "python",
   "pygments_lexer": "ipython3",
   "version": "3.9.13"
  },
  "orig_nbformat": 4
 },
 "nbformat": 4,
 "nbformat_minor": 2
}
