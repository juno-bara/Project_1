{
 "cells": [
  {
   "cell_type": "code",
   "execution_count": 1,
   "metadata": {},
   "outputs": [],
   "source": [
    "import pandas as pd\n",
    "import numpy as np\n",
    "\n",
    "from sklearn.preprocessing import StandardScaler, MaxAbsScaler, MinMaxScaler , RobustScaler "
   ]
  },
  {
   "cell_type": "code",
   "execution_count": 2,
   "metadata": {},
   "outputs": [],
   "source": [
    "#  수명주기 -> 숫자로 인코딩\n",
    "# 직급명 , 회사명제거, 거래소코드 , 상장일 , 대분류 삭제컬럼\n",
    "\n",
    "# 회계년도 기준으로 train , test split \n",
    "#                   1) 2013~2019  ,  2020~2021 : 년도 기준으로나눈거고"
   ]
  },
  {
   "cell_type": "code",
   "execution_count": 3,
   "metadata": {},
   "outputs": [
    {
     "data": {
      "text/plain": [
       "Index(['target', '거래소코드', '상장일', '수명주기', '통계청 한국표준산업분류 10차(대분류)', '회계년도',\n",
       "       '회사명', '대주주지분변화분', '외국인지분분변화', '자산', '당기순이익(손실)', '비유동자산증가율', '유동자산증가율',\n",
       "       '자기자본증가율', '매출액증가율', '정상영업이익증가율', '순이익증가율', '총포괄이익증가율', '매출액순이익률',\n",
       "       '자기자본순이익률', '광고선전비대매출액비율', '비유동비율', '당좌비율', '현금비율', '부채비율',\n",
       "       '이자보상배율(이자비용)', '유보액대납입자본배율', '투자집중도', '1인년간평균급여(직원)', '토빈Q', 'WW지수',\n",
       "       'RDS', '산업평균_총자산증가율차분', '보통주식비율', '외국인_주식분포비율', '업력'],\n",
       "      dtype='object')"
      ]
     },
     "execution_count": 3,
     "metadata": {},
     "output_type": "execute_result"
    }
   ],
   "source": [
    "df = pd.read_csv('datasets\\이상치제거후vif공선성제거\\윈저_vif.csv',index_col=0)\n",
    "df.columns"
   ]
  },
  {
   "cell_type": "code",
   "execution_count": 4,
   "metadata": {},
   "outputs": [
    {
     "data": {
      "text/plain": [
       "0    6877\n",
       "1    3030\n",
       "Name: target, dtype: int64"
      ]
     },
     "execution_count": 4,
     "metadata": {},
     "output_type": "execute_result"
    }
   ],
   "source": [
    "df.target.value_counts()"
   ]
  },
  {
   "cell_type": "code",
   "execution_count": 7,
   "metadata": {},
   "outputs": [
    {
     "name": "stdout",
     "output_type": "stream",
     "text": [
      "<class 'pandas.core.frame.DataFrame'>\n",
      "Int64Index: 9907 entries, 0 to 9906\n",
      "Data columns (total 36 columns):\n",
      " #   Column                 Non-Null Count  Dtype  \n",
      "---  ------                 --------------  -----  \n",
      " 0   target                 9907 non-null   int64  \n",
      " 1   거래소코드                  9907 non-null   int64  \n",
      " 2   상장일                    9907 non-null   object \n",
      " 3   수명주기                   9907 non-null   object \n",
      " 4   통계청 한국표준산업분류 10차(대분류)  9907 non-null   object \n",
      " 5   회계년도                   9907 non-null   int64  \n",
      " 6   회사명                    9907 non-null   object \n",
      " 7   대주주지분변화분               9907 non-null   float64\n",
      " 8   외국인지분분변화               9907 non-null   float64\n",
      " 9   자산                     9907 non-null   float64\n",
      " 10  당기순이익(손실)              9907 non-null   float64\n",
      " 11  비유동자산증가율               9907 non-null   float64\n",
      " 12  유동자산증가율                9907 non-null   float64\n",
      " 13  자기자본증가율                9907 non-null   float64\n",
      " 14  매출액증가율                 9907 non-null   float64\n",
      " 15  정상영업이익증가율              9907 non-null   float64\n",
      " 16  순이익증가율                 9907 non-null   float64\n",
      " 17  총포괄이익증가율               9907 non-null   float64\n",
      " 18  매출액순이익률                9907 non-null   float64\n",
      " 19  자기자본순이익률               9907 non-null   float64\n",
      " 20  광고선전비대매출액비율            9907 non-null   float64\n",
      " 21  비유동비율                  9907 non-null   float64\n",
      " 22  당좌비율                   9907 non-null   float64\n",
      " 23  현금비율                   9907 non-null   float64\n",
      " 24  부채비율                   9907 non-null   float64\n",
      " 25  이자보상배율(이자비용)           9907 non-null   float64\n",
      " 26  유보액대납입자본배율             9907 non-null   float64\n",
      " 27  투자집중도                  9907 non-null   float64\n",
      " 28  1인년간평균급여(직원)           9907 non-null   float64\n",
      " 29  토빈Q                    9907 non-null   float64\n",
      " 30  WW지수                   9907 non-null   float64\n",
      " 31  RDS                    9907 non-null   float64\n",
      " 32  산업평균_총자산증가율차분          9907 non-null   float64\n",
      " 33  보통주식비율                 9907 non-null   float64\n",
      " 34  외국인_주식분포비율             9907 non-null   float64\n",
      " 35  업력                     9907 non-null   float64\n",
      "dtypes: float64(29), int64(3), object(4)\n",
      "memory usage: 2.8+ MB\n"
     ]
    }
   ],
   "source": [
    "df.info()"
   ]
  },
  {
   "cell_type": "code",
   "execution_count": 8,
   "metadata": {},
   "outputs": [],
   "source": [
    "## 11~12년도는 y taget 설정조건으로 인하여 제거\n",
    "\n",
    "bef_df = df[~(df['회계년도'].isin([2011,2012]))].reset_index(drop=True)"
   ]
  },
  {
   "cell_type": "code",
   "execution_count": 9,
   "metadata": {},
   "outputs": [],
   "source": [
    "id_col = bef_df[['회사명','회계년도','상장일','통계청 한국표준산업분류 10차(대분류)','거래소코드']]\n",
    "bef_df.drop(['회사명','거래소코드','상장일','통계청 한국표준산업분류 10차(대분류)'],axis=1,inplace=True)"
   ]
  },
  {
   "cell_type": "code",
   "execution_count": 10,
   "metadata": {},
   "outputs": [],
   "source": [
    "### 성장주기 변수 onehot인코딩 get_dummy()\n",
    "dummy = pd.get_dummies(bef_df['수명주기'])\n",
    "bef_df.drop(['수명주기'],axis=1,inplace=True)\n",
    "bef_df = pd.concat([bef_df,dummy],axis=1)"
   ]
  },
  {
   "cell_type": "code",
   "execution_count": 11,
   "metadata": {},
   "outputs": [
    {
     "data": {
      "text/plain": [
       "Index(['target', '회계년도', '대주주지분변화분', '외국인지분분변화', '자산', '당기순이익(손실)', '비유동자산증가율',\n",
       "       '유동자산증가율', '자기자본증가율', '매출액증가율', '정상영업이익증가율', '순이익증가율', '총포괄이익증가율',\n",
       "       '매출액순이익률', '자기자본순이익률', '광고선전비대매출액비율', '비유동비율', '당좌비율', '현금비율', '부채비율',\n",
       "       '이자보상배율(이자비용)', '유보액대납입자본배율', '투자집중도', '1인년간평균급여(직원)', '토빈Q', 'WW지수',\n",
       "       'RDS', '산업평균_총자산증가율차분', '보통주식비율', '외국인_주식분포비율', '업력', '도입기', '성숙기',\n",
       "       '성장기', '쇠퇴기'],\n",
       "      dtype='object')"
      ]
     },
     "execution_count": 11,
     "metadata": {},
     "output_type": "execute_result"
    }
   ],
   "source": [
    "bef_df.columns"
   ]
  },
  {
   "cell_type": "code",
   "execution_count": 12,
   "metadata": {},
   "outputs": [],
   "source": [
    "### 회계년도 기준 split\n",
    "\n",
    "train = bef_df[bef_df['회계년도']<=2019].reset_index(drop=True)\n",
    "test = bef_df[bef_df['회계년도']>=2020].reset_index(drop=True)\n",
    "\n",
    "\n",
    "train_y = train[['target']]\n",
    "train_x = train[[ '대주주지분변화분', '외국인지분분변화', '자산', '당기순이익(손실)', '비유동자산증가율',\n",
    "       '유동자산증가율', '자기자본증가율', '매출액증가율', '정상영업이익증가율', '순이익증가율', '총포괄이익증가율',\n",
    "       '매출액순이익률', '자기자본순이익률', '광고선전비대매출액비율', '비유동비율', '당좌비율', '현금비율', '부채비율',\n",
    "       '이자보상배율(이자비용)', '유보액대납입자본배율', '투자집중도', '1인년간평균급여(직원)', '토빈Q', 'WW지수',\n",
    "       'RDS', '산업평균_총자산증가율차분', '보통주식비율', '외국인_주식분포비율', '업력', '도입기', '성숙기',\n",
    "       '성장기', '쇠퇴기']]\n",
    "\n",
    "\n",
    "\n",
    "\n",
    "\n",
    "\n",
    "test_y = test[['target']]\n",
    "test_x = test[[ '대주주지분변화분', '외국인지분분변화', '자산', '당기순이익(손실)', '비유동자산증가율',\n",
    "       '유동자산증가율', '자기자본증가율', '매출액증가율', '정상영업이익증가율', '순이익증가율', '총포괄이익증가율',\n",
    "       '매출액순이익률', '자기자본순이익률', '광고선전비대매출액비율', '비유동비율', '당좌비율', '현금비율', '부채비율',\n",
    "       '이자보상배율(이자비용)', '유보액대납입자본배율', '투자집중도', '1인년간평균급여(직원)', '토빈Q', 'WW지수',\n",
    "       'RDS', '산업평균_총자산증가율차분', '보통주식비율', '외국인_주식분포비율', '업력', '도입기', '성숙기',\n",
    "       '성장기', '쇠퇴기']]\n",
    "\n",
    "scale_list = [ '대주주지분변화분', '외국인지분분변화', '자산', '당기순이익(손실)', '비유동자산증가율',\n",
    "       '유동자산증가율', '자기자본증가율', '매출액증가율', '정상영업이익증가율', '순이익증가율', '총포괄이익증가율',\n",
    "       '매출액순이익률', '자기자본순이익률', '광고선전비대매출액비율', '비유동비율', '당좌비율', '현금비율', '부채비율',\n",
    "       '이자보상배율(이자비용)', '유보액대납입자본배율', '투자집중도', '1인년간평균급여(직원)', '토빈Q', 'WW지수',\n",
    "       'RDS', '산업평균_총자산증가율차분', '보통주식비율', '외국인_주식분포비율', '업력']"
   ]
  },
  {
   "attachments": {},
   "cell_type": "markdown",
   "metadata": {},
   "source": [
    "## 범주형변수 잠시 분리"
   ]
  },
  {
   "cell_type": "code",
   "execution_count": 13,
   "metadata": {},
   "outputs": [],
   "source": [
    "train_수명주기 = train_x[[ '도입기','성숙기', '성장기', '쇠퇴기']] \n",
    "test_수명주기 = test_x[[ '도입기','성숙기', '성장기', '쇠퇴기']]\n",
    "# id_col\n",
    "# 3개의 데이터프레임을 마지막에 다시 합쳐준다"
   ]
  },
  {
   "attachments": {},
   "cell_type": "markdown",
   "metadata": {},
   "source": [
    "# 윈저"
   ]
  },
  {
   "attachments": {},
   "cell_type": "markdown",
   "metadata": {},
   "source": [
    "## Standarscaler"
   ]
  },
  {
   "cell_type": "code",
   "execution_count": 14,
   "metadata": {},
   "outputs": [],
   "source": [
    "scaler = StandardScaler()\n",
    "### train\n",
    "standar_train = scaler.fit_transform(train_x[scale_list])\n",
    "\n",
    "임시_df= pd.DataFrame(standar_train, columns=scale_list)\n",
    "standar_train_x = pd.concat([임시_df,train_수명주기],axis=1)\n",
    "\n",
    "### test\n",
    "standar_test = scaler.transform(test_x[scale_list])\n",
    "\n",
    "임시_df= pd.DataFrame(standar_test, columns=scale_list)\n",
    "standar_test_x = pd.concat([임시_df,test_수명주기],axis=1)\n"
   ]
  },
  {
   "cell_type": "code",
   "execution_count": 15,
   "metadata": {},
   "outputs": [],
   "source": [
    "stand_train = pd.concat([standar_train_x, train_y],axis=1)\n",
    "stand_test = pd.concat([standar_test_x, test_y],axis=1)\n",
    "\n",
    "standar_df = pd.concat([stand_train,stand_test],axis=0).reset_index(drop=True)\n",
    "standar_df = pd.concat([id_col,standar_df],axis=1)\n",
    "standar_df.to_csv('./datasets/스케일링완료/윈저_standar.csv',encoding='utf-8-sig')\n",
    "\n",
    "## 다시 csv로 저장"
   ]
  },
  {
   "attachments": {},
   "cell_type": "markdown",
   "metadata": {},
   "source": [
    "## MINMAXscaler"
   ]
  },
  {
   "cell_type": "code",
   "execution_count": 16,
   "metadata": {},
   "outputs": [],
   "source": [
    "scaler = MinMaxScaler()\n",
    "### train\n",
    "minmax_train = scaler.fit_transform(train_x[scale_list])\n",
    "\n",
    "임시_df= pd.DataFrame(minmax_train, columns=scale_list)\n",
    "minmax_train_x = pd.concat([임시_df,train_수명주기],axis=1)\n",
    "\n",
    "### test\n",
    "minmax_test = scaler.transform(test_x[scale_list])\n",
    "\n",
    "임시_df= pd.DataFrame(minmax_test, columns=scale_list)\n",
    "minmax_test_x = pd.concat([임시_df,test_수명주기],axis=1)\n"
   ]
  },
  {
   "cell_type": "code",
   "execution_count": 18,
   "metadata": {},
   "outputs": [],
   "source": [
    "mm_train = pd.concat([minmax_train_x, train_y],axis=1)\n",
    "mm_test = pd.concat([minmax_test_x, test_y],axis=1)\n",
    "\n",
    "minmax_df = pd.concat([mm_train,mm_test],axis=0).reset_index(drop=True)\n",
    "minmax_df = pd.concat([id_col,minmax_df],axis=1)\n",
    "minmax_df.to_csv('./datasets/스케일링완료/윈저_minmax.csv',encoding='utf-8-sig')\n",
    "\n",
    "## 다시 csv로 저장\n",
    "## 근데 이거 돌려보니까 엄청크면 1 엄청작으면 0으로 과대해석하는 경향이 보임\n",
    "## 하드코딩으로 (x-min)/(max-min)으로 하거나\n",
    "## log취하고 하는게 맞아보임"
   ]
  },
  {
   "attachments": {},
   "cell_type": "markdown",
   "metadata": {},
   "source": [
    "## MAXABSscaler"
   ]
  },
  {
   "cell_type": "code",
   "execution_count": 19,
   "metadata": {},
   "outputs": [],
   "source": [
    "scaler = MaxAbsScaler()\n",
    "### train\n",
    "maxabs_train = scaler.fit_transform(train_x[scale_list])\n",
    "\n",
    "임시_df= pd.DataFrame(maxabs_train, columns=scale_list)\n",
    "maxabs_train_x = pd.concat([임시_df,train_수명주기],axis=1)\n",
    "\n",
    "### test\n",
    "maxabs_test = scaler.transform(test_x[scale_list])\n",
    "\n",
    "임시_df= pd.DataFrame(maxabs_test, columns=scale_list)\n",
    "maxabs_test_x = pd.concat([임시_df,test_수명주기],axis=1)\n"
   ]
  },
  {
   "cell_type": "code",
   "execution_count": 20,
   "metadata": {},
   "outputs": [],
   "source": [
    "ma_train = pd.concat([maxabs_train_x, train_y],axis=1)\n",
    "ma_test = pd.concat([maxabs_test_x, test_y],axis=1)\n",
    "\n",
    "maxabs_df = pd.concat([ma_train,ma_test],axis=0).reset_index(drop=True)\n",
    "maxabs_df = pd.concat([id_col,maxabs_df],axis=1)\n",
    "maxabs_df.to_csv('./datasets/스케일링완료/윈저_maxabs.csv',encoding='utf-8-sig')\n"
   ]
  },
  {
   "attachments": {},
   "cell_type": "markdown",
   "metadata": {},
   "source": [
    "## robustScaler"
   ]
  },
  {
   "cell_type": "code",
   "execution_count": 21,
   "metadata": {},
   "outputs": [],
   "source": [
    "scaler = RobustScaler()\n",
    "### train\n",
    "robust_train = scaler.fit_transform(train_x[scale_list])\n",
    "\n",
    "임시_df= pd.DataFrame(robust_train, columns=scale_list)\n",
    "robust_train_x = pd.concat([임시_df,train_수명주기],axis=1)\n",
    "\n",
    "### test\n",
    "robust_test = scaler.transform(test_x[scale_list])\n",
    "\n",
    "임시_df= pd.DataFrame(robust_test, columns=scale_list)\n",
    "robust_test_x = pd.concat([임시_df,test_수명주기],axis=1)\n"
   ]
  },
  {
   "cell_type": "code",
   "execution_count": 22,
   "metadata": {},
   "outputs": [],
   "source": [
    "robust_train = pd.concat([robust_train_x, train_y],axis=1)\n",
    "robust_test = pd.concat([robust_test_x, test_y],axis=1)\n",
    "\n",
    "robust_df = pd.concat([robust_train,robust_test],axis=0).reset_index(drop=True)\n",
    "robust_df = pd.concat([id_col,robust_df],axis=1)\n",
    "robust_df.to_csv('./datasets/스케일링완료/윈저_robust.csv',encoding='utf-8-sig')\n"
   ]
  },
  {
   "attachments": {},
   "cell_type": "markdown",
   "metadata": {},
   "source": [
    "# isol"
   ]
  },
  {
   "cell_type": "code",
   "execution_count": 23,
   "metadata": {},
   "outputs": [
    {
     "data": {
      "text/plain": [
       "Index(['target', '거래소코드', '상장일', '수명주기', '통계청 한국표준산업분류 10차(대분류)', '회계년도',\n",
       "       '회사명', '대주주지분변화분', '외국인지분분변화', '자산', '당기순이익(손실)', '비유동자산증가율', '유동자산증가율',\n",
       "       '자기자본증가율', '매출액증가율', '정상영업이익증가율', '순이익증가율', '총포괄이익증가율', '매출액순이익률',\n",
       "       '자기자본순이익률', '광고선전비대매출액비율', '비유동비율', '당좌비율', '현금비율', '부채비율',\n",
       "       '이자보상배율(이자비용)', '유보액대납입자본배율', '투자집중도', '1인년간평균급여(직원)', '토빈Q', 'WW지수',\n",
       "       'RDS', '산업평균_총자산증가율차분', '보통주식비율', '외국인_주식분포비율', '업력'],\n",
       "      dtype='object')"
      ]
     },
     "execution_count": 23,
     "metadata": {},
     "output_type": "execute_result"
    }
   ],
   "source": [
    "df = pd.read_csv('datasets\\이상치제거후vif공선성제거\\isol_vif.csv',index_col=0)\n",
    "df.columns"
   ]
  },
  {
   "cell_type": "code",
   "execution_count": 24,
   "metadata": {},
   "outputs": [
    {
     "name": "stdout",
     "output_type": "stream",
     "text": [
      "<class 'pandas.core.frame.DataFrame'>\n",
      "Int64Index: 8916 entries, 0 to 9904\n",
      "Data columns (total 36 columns):\n",
      " #   Column                 Non-Null Count  Dtype  \n",
      "---  ------                 --------------  -----  \n",
      " 0   target                 8916 non-null   int64  \n",
      " 1   거래소코드                  8916 non-null   int64  \n",
      " 2   상장일                    8916 non-null   object \n",
      " 3   수명주기                   8916 non-null   object \n",
      " 4   통계청 한국표준산업분류 10차(대분류)  8916 non-null   object \n",
      " 5   회계년도                   8916 non-null   int64  \n",
      " 6   회사명                    8916 non-null   object \n",
      " 7   대주주지분변화분               8916 non-null   float64\n",
      " 8   외국인지분분변화               8916 non-null   float64\n",
      " 9   자산                     8916 non-null   float64\n",
      " 10  당기순이익(손실)              8916 non-null   float64\n",
      " 11  비유동자산증가율               8916 non-null   float64\n",
      " 12  유동자산증가율                8916 non-null   float64\n",
      " 13  자기자본증가율                8916 non-null   float64\n",
      " 14  매출액증가율                 8916 non-null   float64\n",
      " 15  정상영업이익증가율              8916 non-null   float64\n",
      " 16  순이익증가율                 8916 non-null   float64\n",
      " 17  총포괄이익증가율               8916 non-null   float64\n",
      " 18  매출액순이익률                8916 non-null   float64\n",
      " 19  자기자본순이익률               8916 non-null   float64\n",
      " 20  광고선전비대매출액비율            8916 non-null   float64\n",
      " 21  비유동비율                  8916 non-null   float64\n",
      " 22  당좌비율                   8916 non-null   float64\n",
      " 23  현금비율                   8916 non-null   float64\n",
      " 24  부채비율                   8916 non-null   float64\n",
      " 25  이자보상배율(이자비용)           8916 non-null   float64\n",
      " 26  유보액대납입자본배율             8916 non-null   float64\n",
      " 27  투자집중도                  8916 non-null   float64\n",
      " 28  1인년간평균급여(직원)           8916 non-null   float64\n",
      " 29  토빈Q                    8916 non-null   float64\n",
      " 30  WW지수                   8916 non-null   float64\n",
      " 31  RDS                    8916 non-null   float64\n",
      " 32  산업평균_총자산증가율차분          8916 non-null   float64\n",
      " 33  보통주식비율                 8916 non-null   float64\n",
      " 34  외국인_주식분포비율             8916 non-null   float64\n",
      " 35  업력                     8916 non-null   float64\n",
      "dtypes: float64(29), int64(3), object(4)\n",
      "memory usage: 2.5+ MB\n"
     ]
    }
   ],
   "source": [
    "df.info()"
   ]
  },
  {
   "cell_type": "code",
   "execution_count": 25,
   "metadata": {},
   "outputs": [],
   "source": [
    "## 11~12년도는 y taget 설정조건으로 인하여 제거\n",
    "\n",
    "bef_df = df[~(df['회계년도'].isin([2011,2012]))].reset_index(drop=True)"
   ]
  },
  {
   "cell_type": "code",
   "execution_count": 26,
   "metadata": {},
   "outputs": [],
   "source": [
    "id_col = bef_df[['회사명','회계년도','상장일','통계청 한국표준산업분류 10차(대분류)','거래소코드']]\n",
    "bef_df.drop(['회사명','거래소코드','상장일','통계청 한국표준산업분류 10차(대분류)'],axis=1,inplace=True)"
   ]
  },
  {
   "cell_type": "code",
   "execution_count": 27,
   "metadata": {},
   "outputs": [],
   "source": [
    "### 성장주기 변수 onehot인코딩 get_dummy()\n",
    "dummy = pd.get_dummies(bef_df['수명주기'])\n",
    "bef_df.drop(['수명주기'],axis=1,inplace=True)\n",
    "bef_df = pd.concat([bef_df,dummy],axis=1)"
   ]
  },
  {
   "cell_type": "code",
   "execution_count": 28,
   "metadata": {},
   "outputs": [],
   "source": [
    "### 회계년도 기준 split\n",
    "\n",
    "train = bef_df[bef_df['회계년도']<=2019].reset_index(drop=True)\n",
    "test = bef_df[bef_df['회계년도']>=2020].reset_index(drop=True)\n",
    "\n",
    "\n",
    "train_y = train[['target']]\n",
    "train_x = train[[ '대주주지분변화분', '외국인지분분변화', '자산', '당기순이익(손실)', '비유동자산증가율',\n",
    "       '유동자산증가율', '자기자본증가율', '매출액증가율', '정상영업이익증가율', '순이익증가율', '총포괄이익증가율',\n",
    "       '매출액순이익률', '자기자본순이익률', '광고선전비대매출액비율', '비유동비율', '당좌비율', '현금비율', '부채비율',\n",
    "       '이자보상배율(이자비용)', '유보액대납입자본배율', '투자집중도', '1인년간평균급여(직원)', '토빈Q', 'WW지수',\n",
    "       'RDS', '산업평균_총자산증가율차분', '보통주식비율', '외국인_주식분포비율', '업력', '도입기', '성숙기',\n",
    "       '성장기', '쇠퇴기']]\n",
    "\n",
    "\n",
    "\n",
    "\n",
    "\n",
    "\n",
    "test_y = test[['target']]\n",
    "test_x = test[[ '대주주지분변화분', '외국인지분분변화', '자산', '당기순이익(손실)', '비유동자산증가율',\n",
    "       '유동자산증가율', '자기자본증가율', '매출액증가율', '정상영업이익증가율', '순이익증가율', '총포괄이익증가율',\n",
    "       '매출액순이익률', '자기자본순이익률', '광고선전비대매출액비율', '비유동비율', '당좌비율', '현금비율', '부채비율',\n",
    "       '이자보상배율(이자비용)', '유보액대납입자본배율', '투자집중도', '1인년간평균급여(직원)', '토빈Q', 'WW지수',\n",
    "       'RDS', '산업평균_총자산증가율차분', '보통주식비율', '외국인_주식분포비율', '업력', '도입기', '성숙기',\n",
    "       '성장기', '쇠퇴기']]\n",
    "\n",
    "scale_list = [ '대주주지분변화분', '외국인지분분변화', '자산', '당기순이익(손실)', '비유동자산증가율',\n",
    "       '유동자산증가율', '자기자본증가율', '매출액증가율', '정상영업이익증가율', '순이익증가율', '총포괄이익증가율',\n",
    "       '매출액순이익률', '자기자본순이익률', '광고선전비대매출액비율', '비유동비율', '당좌비율', '현금비율', '부채비율',\n",
    "       '이자보상배율(이자비용)', '유보액대납입자본배율', '투자집중도', '1인년간평균급여(직원)', '토빈Q', 'WW지수',\n",
    "       'RDS', '산업평균_총자산증가율차분', '보통주식비율', '외국인_주식분포비율', '업력']"
   ]
  },
  {
   "attachments": {},
   "cell_type": "markdown",
   "metadata": {},
   "source": [
    "# 범주형 변수 분리"
   ]
  },
  {
   "cell_type": "code",
   "execution_count": 29,
   "metadata": {},
   "outputs": [],
   "source": [
    "train_수명주기 = train_x[[ '도입기','성숙기', '성장기', '쇠퇴기']] \n",
    "test_수명주기 = test_x[[ '도입기','성숙기', '성장기', '쇠퇴기']]\n",
    "# id_col\n",
    "# 3개의 데이터프레임을 마지막에 다시 합쳐준다"
   ]
  },
  {
   "attachments": {},
   "cell_type": "markdown",
   "metadata": {},
   "source": [
    "## Standarscaler"
   ]
  },
  {
   "cell_type": "code",
   "execution_count": 30,
   "metadata": {},
   "outputs": [],
   "source": [
    "scaler = StandardScaler()\n",
    "### train\n",
    "standar_train = scaler.fit_transform(train_x[scale_list])\n",
    "\n",
    "임시_df= pd.DataFrame(standar_train, columns=scale_list)\n",
    "standar_train_x = pd.concat([임시_df,train_수명주기],axis=1)\n",
    "\n",
    "### test\n",
    "standar_test = scaler.transform(test_x[scale_list])\n",
    "\n",
    "임시_df= pd.DataFrame(standar_test, columns=scale_list)\n",
    "standar_test_x = pd.concat([임시_df,test_수명주기],axis=1)\n"
   ]
  },
  {
   "cell_type": "code",
   "execution_count": 31,
   "metadata": {},
   "outputs": [],
   "source": [
    "stand_train = pd.concat([standar_train_x, train_y],axis=1)\n",
    "stand_test = pd.concat([standar_test_x, test_y],axis=1)\n",
    "\n",
    "standar_df = pd.concat([stand_train,stand_test],axis=0).reset_index(drop=True)\n",
    "standar_df = pd.concat([id_col,standar_df],axis=1)\n",
    "standar_df.to_csv('./datasets/스케일링완료/isol_standar.csv',encoding='utf-8-sig')\n",
    "\n",
    "## 다시 csv로 저장"
   ]
  },
  {
   "attachments": {},
   "cell_type": "markdown",
   "metadata": {},
   "source": [
    "# MinMAxscaler"
   ]
  },
  {
   "cell_type": "code",
   "execution_count": 32,
   "metadata": {},
   "outputs": [],
   "source": [
    "scaler = MinMaxScaler()\n",
    "### train\n",
    "minmax_train = scaler.fit_transform(train_x[scale_list])\n",
    "\n",
    "임시_df= pd.DataFrame(minmax_train, columns=scale_list)\n",
    "minmax_train_x = pd.concat([임시_df,train_수명주기],axis=1)\n",
    "\n",
    "### test\n",
    "minmax_test = scaler.transform(test_x[scale_list])\n",
    "\n",
    "임시_df= pd.DataFrame(minmax_test, columns=scale_list)\n",
    "minmax_test_x = pd.concat([임시_df,test_수명주기],axis=1)\n"
   ]
  },
  {
   "cell_type": "code",
   "execution_count": 33,
   "metadata": {},
   "outputs": [],
   "source": [
    "mm_train = pd.concat([minmax_train_x, train_y],axis=1)\n",
    "mm_test = pd.concat([minmax_test_x, test_y],axis=1)\n",
    "\n",
    "minmax_df = pd.concat([mm_train,mm_test],axis=0).reset_index(drop=True)\n",
    "minmax_df = pd.concat([id_col,minmax_df],axis=1)\n",
    "minmax_df.to_csv('./datasets/스케일링완료/isol_minmax.csv',encoding='utf-8-sig')\n",
    "\n",
    "## 다시 csv로 저장\n",
    "## 근데 이거 돌려보니까 엄청크면 1 엄청작으면 0으로 과대해석하는 경향이 보임\n",
    "## 하드코딩으로 (x-min)/(max-min)으로 하거나\n",
    "## log취하고 하는게 맞아보임"
   ]
  },
  {
   "attachments": {},
   "cell_type": "markdown",
   "metadata": {},
   "source": [
    "# maxabsscaler\n"
   ]
  },
  {
   "cell_type": "code",
   "execution_count": 34,
   "metadata": {},
   "outputs": [],
   "source": [
    "scaler = MaxAbsScaler()\n",
    "### train\n",
    "maxabs_train = scaler.fit_transform(train_x[scale_list])\n",
    "\n",
    "임시_df= pd.DataFrame(maxabs_train, columns=scale_list)\n",
    "maxabs_train_x = pd.concat([임시_df,train_수명주기],axis=1)\n",
    "\n",
    "### test\n",
    "maxabs_test = scaler.transform(test_x[scale_list])\n",
    "\n",
    "임시_df= pd.DataFrame(maxabs_test, columns=scale_list)\n",
    "maxabs_test_x = pd.concat([임시_df,test_수명주기],axis=1)\n"
   ]
  },
  {
   "cell_type": "code",
   "execution_count": 35,
   "metadata": {},
   "outputs": [],
   "source": [
    "ma_train = pd.concat([maxabs_train_x, train_y],axis=1)\n",
    "ma_test = pd.concat([maxabs_test_x, test_y],axis=1)\n",
    "\n",
    "maxabs_df = pd.concat([ma_train,ma_test],axis=0).reset_index(drop=True)\n",
    "maxabs_df = pd.concat([id_col,maxabs_df],axis=1)\n",
    "maxabs_df.to_csv('./datasets/스케일링완료/isol_maxabs.csv',encoding='utf-8-sig')\n"
   ]
  },
  {
   "attachments": {},
   "cell_type": "markdown",
   "metadata": {},
   "source": [
    "# robust"
   ]
  },
  {
   "cell_type": "code",
   "execution_count": 36,
   "metadata": {},
   "outputs": [],
   "source": [
    "scaler = RobustScaler()\n",
    "### train\n",
    "robust_train = scaler.fit_transform(train_x[scale_list])\n",
    "\n",
    "임시_df= pd.DataFrame(robust_train, columns=scale_list)\n",
    "robust_train_x = pd.concat([임시_df,train_수명주기],axis=1)\n",
    "\n",
    "### test\n",
    "robust_test = scaler.transform(test_x[scale_list])\n",
    "\n",
    "임시_df= pd.DataFrame(robust_test, columns=scale_list)\n",
    "robust_test_x = pd.concat([임시_df,test_수명주기],axis=1)\n"
   ]
  },
  {
   "cell_type": "code",
   "execution_count": 37,
   "metadata": {},
   "outputs": [],
   "source": [
    "robust_train = pd.concat([robust_train_x, train_y],axis=1)\n",
    "robust_test = pd.concat([robust_test_x, test_y],axis=1)\n",
    "\n",
    "robust_df = pd.concat([robust_train,robust_test],axis=0).reset_index(drop=True)\n",
    "robust_df = pd.concat([id_col,robust_df],axis=1)\n",
    "robust_df.to_csv('./datasets/스케일링완료/isol_robust.csv',encoding='utf-8-sig')\n"
   ]
  },
  {
   "cell_type": "code",
   "execution_count": null,
   "metadata": {},
   "outputs": [],
   "source": []
  }
 ],
 "metadata": {
  "kernelspec": {
   "display_name": "base",
   "language": "python",
   "name": "python3"
  },
  "language_info": {
   "codemirror_mode": {
    "name": "ipython",
    "version": 3
   },
   "file_extension": ".py",
   "mimetype": "text/x-python",
   "name": "python",
   "nbconvert_exporter": "python",
   "pygments_lexer": "ipython3",
   "version": "3.9.13"
  },
  "orig_nbformat": 4
 },
 "nbformat": 4,
 "nbformat_minor": 2
}
