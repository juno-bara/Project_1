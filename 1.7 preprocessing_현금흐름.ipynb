{
 "cells": [
  {
   "cell_type": "code",
   "execution_count": 23,
   "metadata": {},
   "outputs": [],
   "source": [
    "import pandas as pd\n",
    "import numpy as np\n",
    "\n",
    "# pd.set_option('display.max_rows', None)\n",
    "# pd.set_option('display.max_rows', None)"
   ]
  },
  {
   "cell_type": "code",
   "execution_count": 24,
   "metadata": {},
   "outputs": [],
   "source": [
    "# func 모음\n",
    "\n",
    "# 1. 종목코드를 6자리로 통일. ex) 990 -> 000990\n",
    "def padding(x):\n",
    "    x = str(x)\n",
    "    return x.rjust(6, \"0\")\n",
    "\n",
    "# 2. 결산월 12월인 것만 선택\n",
    "# : 전체 데이터 4963개 중에서 12월 결산인 데이터가 4836개이다. 나머지 결산월의 데이터가 전체의 2.5%로 데이터량이 작기도하고 결측치가 많아 제거\n",
    "def func_yearin(x):\n",
    "    if x[5:7] == '12':\n",
    "        return True\n",
    "    else:\n",
    "        return False\n",
    "\n",
    "# 3. 회계년도컬럼, 년도만 뽑아서 int화\n",
    "def change_year(x):\n",
    "    return int(x[:4])\n",
    "\n",
    "# 4. 연결, 개별재무제표 통합을 위해 연결재무 데이터 컬럼명 통일화 : \"(IFRS연결)\"제거\n",
    "def func_replace_col1(x):\n",
    "    x = x.replace(\" \",\"\")\n",
    "    x = x.replace(\",\",\"\")\n",
    "    x = x.replace(\"(비교)\",\"\")\n",
    "    x = x.replace(\"(IFRS)\",\"\")\n",
    "    x = x.replace(\"(*)\",\"\")\n",
    "    x = x.replace(\"[제조]\",\"\")\n",
    "    return x.replace(\"(IFRS연결)\",\"\")\n",
    "\n",
    "# 5. 연결, 개별재무제표 통합을 위해 개별재무 데이터 컬럼명 통일화 : \"(IFRS)\"제거\n",
    "def func_replace_col2(x):\n",
    "    x = x.replace(\" \",\"\")\n",
    "    x = x.replace(\",\",\"\")\n",
    "    x = x.replace(\"(비교)\",\"\")\n",
    "    x = x.replace(\"(IFRS)\",\"\")\n",
    "    x = x.replace(\"(*)\",\"\")\n",
    "    x = x.replace(\"[제조]\",\"\")\n",
    "    return x.replace(\"(IFRS)\",\"\")\n",
    "\n",
    "# 6. 2020년 raw data 제외\n",
    "def func_rm_2020(x):\n",
    "    if x[:4] == \"2020\":\n",
    "        return False\n",
    "    else:\n",
    "        return True\n",
    "\n",
    "# 7. True, False 반전\n",
    "def func_not(x):\n",
    "    return not x"
   ]
  },
  {
   "cell_type": "code",
   "execution_count": 25,
   "metadata": {},
   "outputs": [],
   "source": [
    "df_연결현금흐름 = pd.read_csv(\"./datasets/raw/연결현금흐름.csv\",encoding='cp949')\n",
    "df_개별현금흐름 = pd.read_csv(\"./datasets/raw/개별현금흐름.csv\",encoding='cp949')"
   ]
  },
  {
   "cell_type": "code",
   "execution_count": 26,
   "metadata": {},
   "outputs": [
    {
     "data": {
      "text/plain": [
       "(21017, 6)"
      ]
     },
     "execution_count": 26,
     "metadata": {},
     "output_type": "execute_result"
    }
   ],
   "source": [
    "# 연결 거래소코드패딩, 회계년도만표시, 컬럼에서 'IFRS연결', ' ', ''제거\n",
    "df_연결현금흐름[\"거래소코드\"] = df_연결현금흐름[\"거래소코드\"].map(padding) # 거래소코드 padding\n",
    "df_연결현금흐름[\"회계년도\"] = df_연결현금흐름[\"회계년도\"].map(change_year) # 년도만 표시\n",
    "\n",
    "list_col = list() # 컬럼명에서 \"IFRS연결\", \" \", \",\" 제거\n",
    "for i in list(df_연결현금흐름.columns):\n",
    "    list_col.append(func_replace_col1(i))\n",
    "df_연결현금흐름.columns = list_col\n",
    "\n",
    "df_연결현금흐름.drop_duplicates(['거래소코드',\"회계년도\"], keep='last', inplace=True)\n",
    "df_연결현금흐름.reset_index(drop=True, inplace=True)\n",
    "\n",
    "df_연결현금흐름.to_csv(\"./연결현금흐름1.csv\")\n",
    "df_연결현금흐름.shape"
   ]
  },
  {
   "cell_type": "code",
   "execution_count": 27,
   "metadata": {},
   "outputs": [
    {
     "data": {
      "text/plain": [
       "(21017, 6)"
      ]
     },
     "execution_count": 27,
     "metadata": {},
     "output_type": "execute_result"
    }
   ],
   "source": [
    "# 개별 거래소코드패딩, 회계년도만표시, 컬럼에서 'IFRS연결', ' ', ''제거\n",
    "df_개별현금흐름[\"거래소코드\"] = df_개별현금흐름[\"거래소코드\"].map(padding) # 거래소코드 padding\n",
    "df_개별현금흐름[\"회계년도\"] = df_개별현금흐름[\"회계년도\"].map(change_year) # 년도만 표시\n",
    "\n",
    "list_col = list() # 컬럼명에서 \"IFRS연결\", \" \", \",\" 제거\n",
    "for i in list(df_개별현금흐름.columns):\n",
    "    list_col.append(func_replace_col1(i))\n",
    "df_개별현금흐름.columns = list_col\n",
    "\n",
    "df_개별현금흐름.drop_duplicates(['거래소코드',\"회계년도\"], keep='last', inplace=True)\n",
    "df_개별현금흐름.reset_index(drop=True, inplace=True)\n",
    "\n",
    "df_개별현금흐름.to_csv(\"./개별현금흐름1.csv\")\n",
    "df_개별현금흐름.shape"
   ]
  },
  {
   "cell_type": "code",
   "execution_count": 28,
   "metadata": {},
   "outputs": [
    {
     "name": "stdout",
     "output_type": "stream",
     "text": [
      "제거할 외국계기업 데이터 수 :  204\n"
     ]
    },
    {
     "data": {
      "text/plain": [
       "(20813, 6)"
      ]
     },
     "execution_count": 28,
     "metadata": {},
     "output_type": "execute_result"
    }
   ],
   "source": [
    "# 연결현금흐름 외국계기업 제거\n",
    "\n",
    "def func_isnt_fcompany(x):\n",
    "    if x[:1] == '9':\n",
    "        return False\n",
    "    else:\n",
    "        return True\n",
    "\n",
    "print(\"제거할 외국계기업 데이터 수 : \", len(df_연결현금흐름[df_연결현금흐름[\"거래소코드\"].map(func_isnt_fcompany).map(func_not)]))\n",
    "df_연결현금흐름 = df_연결현금흐름[df_연결현금흐름[\"거래소코드\"].map(func_isnt_fcompany)]\n",
    "df_연결현금흐름.shape # 외국계기업 데이터 204개 제거"
   ]
  },
  {
   "cell_type": "code",
   "execution_count": 29,
   "metadata": {},
   "outputs": [
    {
     "name": "stdout",
     "output_type": "stream",
     "text": [
      "제거할 외국계기업 데이터 수 :  204\n"
     ]
    },
    {
     "data": {
      "text/plain": [
       "(20813, 6)"
      ]
     },
     "execution_count": 29,
     "metadata": {},
     "output_type": "execute_result"
    }
   ],
   "source": [
    "# 개별현금흐름 외국계기업 제거\n",
    "\n",
    "def func_isnt_fcompany(x):\n",
    "    if x[:1] == '9':\n",
    "        return False\n",
    "    else:\n",
    "        return True\n",
    "\n",
    "print(\"제거할 외국계기업 데이터 수 : \", len(df_개별현금흐름[df_개별현금흐름[\"거래소코드\"].map(func_isnt_fcompany).map(func_not)]))\n",
    "df_개별현금흐름 = df_개별현금흐름[df_개별현금흐름[\"거래소코드\"].map(func_isnt_fcompany)]\n",
    "df_개별현금흐름.shape # 외국계기업 데이터 204개 제거"
   ]
  },
  {
   "cell_type": "code",
   "execution_count": 30,
   "metadata": {},
   "outputs": [
    {
     "name": "stdout",
     "output_type": "stream",
     "text": [
      "회사수 :  2490\n",
      "거래소코드수 :  2518\n"
     ]
    }
   ],
   "source": [
    "## 회사수와 거래소코드수 차이가나는것 확인\n",
    "print(\"회사수 : \", len(df_연결현금흐름[\"회사명\"].unique()))\n",
    "print(\"거래소코드수 : \", len(df_연결현금흐름[\"거래소코드\"].unique()))"
   ]
  },
  {
   "cell_type": "code",
   "execution_count": 31,
   "metadata": {},
   "outputs": [
    {
     "name": "stdout",
     "output_type": "stream",
     "text": [
      "회사수 :  2490\n",
      "거래소코드수 :  2518\n"
     ]
    }
   ],
   "source": [
    "## 회사수와 거래소코드수 차이가나는것 확인\n",
    "print(\"회사수 : \", len(df_개별현금흐름[\"회사명\"].unique()))\n",
    "print(\"거래소코드수 : \", len(df_개별현금흐름[\"거래소코드\"].unique()))"
   ]
  },
  {
   "cell_type": "code",
   "execution_count": 32,
   "metadata": {},
   "outputs": [
    {
     "name": "stdout",
     "output_type": "stream",
     "text": [
      "거래소코드가 2개인 기업 수 29 개\n"
     ]
    }
   ],
   "source": [
    "## 거래소 코드 중복기업 전처리\n",
    "list_overlap_code = list()\n",
    "for i in list(df_연결현금흐름[\"회사명\"].unique()):\n",
    "    if len(df_연결현금흐름[df_연결현금흐름[\"회사명\"]==i][\"거래소코드\"].unique()) > 1:\n",
    "        list_overlap_code.append(i)\n",
    "print(\"거래소코드가 2개인 기업 수\", len(list_overlap_code), \"개\")\n",
    "# list_overlap_code"
   ]
  },
  {
   "cell_type": "code",
   "execution_count": 33,
   "metadata": {},
   "outputs": [
    {
     "data": {
      "text/plain": [
       "['(주)본느',\n",
       " '(주)세화피앤씨',\n",
       " '(주)신성이엔지',\n",
       " '(주)아이엘사이언스',\n",
       " '(주)알로이스',\n",
       " '(주)에스에이티',\n",
       " '(주)엔케이맥스',\n",
       " '(주)원바이오젠',\n",
       " '(주)원익피앤이',\n",
       " '(주)인산가',\n",
       " '(주)자비스',\n",
       " '(주)정다운',\n",
       " '(주)카이노스메드',\n",
       " '(주)티에스트릴리온',\n",
       " '(주)판타지오',\n",
       " '(주)포인트엔지니어링',\n",
       " '(주)한국비엔씨',\n",
       " '(주)휴럼',\n",
       " '나무기술(주)',\n",
       " '삼성물산(주)',\n",
       " '소프트캠프(주)',\n",
       " '씨아이에스(주)',\n",
       " '에스케이(주)',\n",
       " '에스케이오션플랜트(주)',\n",
       " '엠에프엠코리아(주)',\n",
       " '원텍(주)',\n",
       " '줌인터넷(주)',\n",
       " '케이엠제약(주)',\n",
       " '패션플랫폼(주)']"
      ]
     },
     "execution_count": 33,
     "metadata": {},
     "output_type": "execute_result"
    }
   ],
   "source": [
    "# 거래소코드 2개인 기업 리스트\n",
    "list_overlap_code"
   ]
  },
  {
   "cell_type": "code",
   "execution_count": 34,
   "metadata": {},
   "outputs": [],
   "source": [
    "# 연결 중복 거래소코드 제거\n",
    "def func_overlap_code(x):\n",
    "    if x == (df_연결현금흐름[df_연결현금흐름[\"회사명\"]==company_name][\"거래소코드\"].iloc[-1]) :\n",
    "        return True\n",
    "    else:\n",
    "        return False\n",
    "\n",
    "list_companyname = list(df_연결현금흐름[\"회사명\"].unique())\n",
    "\n",
    "\n",
    "dfs = list()\n",
    "\n",
    "\n",
    "for i in list_companyname:\n",
    "    company_name = i\n",
    "    #각 기업별로 데이터프레임 생성\n",
    "    df_concat = df_연결현금흐름[df_연결현금흐름[\"회사명\"]==i]\n",
    "    df_concat = df_concat[df_concat[\"거래소코드\"].map(func_overlap_code)] # 거래소코드 바뀌기 전의 거래소코드의 데이터는 삭제\n",
    "    dfs.append(df_concat)\n",
    "df_연결현금흐름 = pd.concat(dfs)\n",
    "df_연결현금흐름.reset_index(drop=True, inplace=True)"
   ]
  },
  {
   "cell_type": "code",
   "execution_count": 35,
   "metadata": {},
   "outputs": [],
   "source": [
    "# 개별 중복 거래소코드 제거\n",
    "def func_overlap_code(x):\n",
    "    if x == (df_개별현금흐름[df_개별현금흐름[\"회사명\"]==company_name][\"거래소코드\"].iloc[-1]) :\n",
    "        return True\n",
    "    else:\n",
    "        return False\n",
    "\n",
    "list_companyname = list(df_개별현금흐름[\"회사명\"].unique())\n",
    "\n",
    "\n",
    "dfs = list()\n",
    "\n",
    "\n",
    "for i in list_companyname:\n",
    "    company_name = i\n",
    "    #각 기업별로 데이터프레임 생성\n",
    "    df_concat = df_개별현금흐름[df_개별현금흐름[\"회사명\"]==i]\n",
    "    df_concat = df_concat[df_concat[\"거래소코드\"].map(func_overlap_code)] # 거래소코드 바뀌기 전의 거래소코드의 데이터는 삭제\n",
    "    dfs.append(df_concat)\n",
    "df_개별현금흐름 = pd.concat(dfs)\n",
    "df_개별현금흐름.reset_index(drop=True, inplace=True)"
   ]
  },
  {
   "cell_type": "code",
   "execution_count": 36,
   "metadata": {},
   "outputs": [
    {
     "data": {
      "text/plain": [
       "['036420']"
      ]
     },
     "execution_count": 36,
     "metadata": {},
     "output_type": "execute_result"
    }
   ],
   "source": [
    "# 회사명이 2개인 거래소코드 존재 확인\n",
    "list_overlap_code = list()\n",
    "for i in list(df_연결현금흐름[\"거래소코드\"].unique()):\n",
    "    if len(df_연결현금흐름[df_연결현금흐름[\"거래소코드\"]==i][\"회사명\"].unique()) > 1:\n",
    "        list_overlap_code.append(i)\n",
    "list_overlap_code"
   ]
  },
  {
   "cell_type": "code",
   "execution_count": 37,
   "metadata": {},
   "outputs": [],
   "source": [
    "## 기업명 변경\n",
    "df_연결현금흐름[df_연결현금흐름['거래소코드']=='036420']\n",
    "df_연결현금흐름.loc[df_연결현금흐름['회사명']=='(주)제이콘텐트리',['회사명']] = '(주)콘텐트리중앙'"
   ]
  },
  {
   "cell_type": "code",
   "execution_count": 38,
   "metadata": {},
   "outputs": [],
   "source": [
    "## 기업명 변경\n",
    "df_개별현금흐름[df_개별현금흐름['거래소코드']=='036420']\n",
    "df_개별현금흐름.loc[df_개별현금흐름['회사명']=='(주)제이콘텐트리',['회사명']] = '(주)콘텐트리중앙'"
   ]
  },
  {
   "cell_type": "code",
   "execution_count": 39,
   "metadata": {},
   "outputs": [
    {
     "data": {
      "text/plain": [
       "회사명                         0\n",
       "거래소코드                       0\n",
       "회계년도                        0\n",
       "영업활동으로인한현금흐름(간접법)(천원)    4750\n",
       "투자활동으로인한현금흐름(천원)         4750\n",
       "재무활동으로인한현금흐름(천원)         4750\n",
       "dtype: int64"
      ]
     },
     "execution_count": 39,
     "metadata": {},
     "output_type": "execute_result"
    }
   ],
   "source": [
    "df_연결현금흐름.isna().sum()"
   ]
  },
  {
   "cell_type": "code",
   "execution_count": 40,
   "metadata": {},
   "outputs": [
    {
     "data": {
      "text/plain": [
       "회사명                        0\n",
       "거래소코드                      0\n",
       "회계년도                       0\n",
       "영업활동으로인한현금흐름(간접법)(천원)    379\n",
       "투자활동으로인한현금흐름(천원)         379\n",
       "재무활동으로인한현금흐름(천원)         379\n",
       "dtype: int64"
      ]
     },
     "execution_count": 40,
     "metadata": {},
     "output_type": "execute_result"
    }
   ],
   "source": [
    "df_개별현금흐름.isna().sum()"
   ]
  },
  {
   "cell_type": "code",
   "execution_count": 44,
   "metadata": {},
   "outputs": [],
   "source": [
    "# df_연결현금흐름 완전데이터와 결측데이터로 나눈 뒤 결측데이터를 개별로 대체시키고, 다시 통합하면 끝!\n",
    "df_현금흐름_완전 =df_연결현금흐름[df_연결현금흐름[\"재무활동으로인한현금흐름(천원)\"].isna().map(func_not)]\n",
    "\n",
    "df_현금흐름_결측 =df_연결현금흐름[df_연결현금흐름[\"재무활동으로인한현금흐름(천원)\"].isna()]\n"
   ]
  },
  {
   "cell_type": "code",
   "execution_count": 51,
   "metadata": {},
   "outputs": [],
   "source": [
    "# 행전체가 결측치인 것 중 개별재무 데이터로 대체한 컬럼 말고 나머지 결측치 컬럼 리스트(58개))\n",
    "list_na_col = ['영업활동으로인한현금흐름(간접법)(천원)','투자활동으로인한현금흐름(천원)','재무활동으로인한현금흐름(천원)']\n",
    "\n",
    "\n",
    "df_현금흐름_결측 = df_현금흐름_결측.drop(list_na_col, axis=1)\n",
    "df_현금흐름_결측 = pd.merge(df_현금흐름_결측, df_개별현금흐름[[\"거래소코드\",\"회계년도\"]+list_na_col], on=[\"거래소코드\",\"회계년도\"], how = 'left')\n",
    "# df_현금흐름_결측\n",
    "\n",
    "df_현금흐름 = pd.concat([df_현금흐름_완전,df_현금흐름_결측], axis=0)"
   ]
  },
  {
   "cell_type": "code",
   "execution_count": 52,
   "metadata": {},
   "outputs": [
    {
     "data": {
      "text/plain": [
       "{'회사명': 0,\n",
       " '거래소코드': 0,\n",
       " '회계년도': 0,\n",
       " '영업활동으로인한현금흐름(간접법)(천원)': 379,\n",
       " '투자활동으로인한현금흐름(천원)': 379,\n",
       " '재무활동으로인한현금흐름(천원)': 379}"
      ]
     },
     "execution_count": 52,
     "metadata": {},
     "output_type": "execute_result"
    }
   ],
   "source": [
    "df_현금흐름.isna().sum().to_dict()"
   ]
  },
  {
   "cell_type": "code",
   "execution_count": 54,
   "metadata": {},
   "outputs": [
    {
     "name": "stdout",
     "output_type": "stream",
     "text": [
      "제거행 갯수 :  379\n",
      "제거기업 갯수 :  177\n"
     ]
    }
   ],
   "source": [
    "print(\"제거행 갯수 : \", len(df_현금흐름[df_현금흐름[\"영업활동으로인한현금흐름(간접법)(천원)\"].isna()]))\n",
    "print(\"제거기업 갯수 : \", len(list(df_현금흐름[df_현금흐름[\"영업활동으로인한현금흐름(간접법)(천원)\"].isna()][\"거래소코드\"].unique())))\n",
    "# 약 개 기업의 어떤 년도에는 재무,별도 데이터 둘 다 없는 컬럼이 존재하기에 해당 연도 데이터 제거!(1948행)\n",
    "# 데이터 누락된 사유 : \"필수 공시 지표가 아닌 지표는 누락되어 데이터 존재x\" 또는 \"비상장기업(이었던 기업) "
   ]
  },
  {
   "cell_type": "code",
   "execution_count": 55,
   "metadata": {},
   "outputs": [
    {
     "data": {
      "text/plain": [
       "{'회사명': 0,\n",
       " '거래소코드': 0,\n",
       " '회계년도': 0,\n",
       " '영업활동으로인한현금흐름(간접법)(천원)': 0,\n",
       " '투자활동으로인한현금흐름(천원)': 0,\n",
       " '재무활동으로인한현금흐름(천원)': 0}"
      ]
     },
     "execution_count": 55,
     "metadata": {},
     "output_type": "execute_result"
    }
   ],
   "source": [
    "df_현금흐름 = df_현금흐름[df_현금흐름[\"영업활동으로인한현금흐름(간접법)(천원)\"].isna().map(func_not)] # 위 결측치 없는 데이터로 필터링\n",
    "df_현금흐름\n",
    "\n",
    "df_현금흐름.isna().sum().to_dict()"
   ]
  },
  {
   "cell_type": "code",
   "execution_count": 56,
   "metadata": {},
   "outputs": [
    {
     "data": {
      "text/plain": [
       "(20326, 6)"
      ]
     },
     "execution_count": 56,
     "metadata": {},
     "output_type": "execute_result"
    }
   ],
   "source": [
    "df_현금흐름.shape"
   ]
  },
  {
   "cell_type": "code",
   "execution_count": 57,
   "metadata": {},
   "outputs": [],
   "source": [
    "df_현금흐름.to_csv('./현금흐름.csv', encoding= 'UTF-8-sig')"
   ]
  }
 ],
 "metadata": {
  "kernelspec": {
   "display_name": "base",
   "language": "python",
   "name": "python3"
  },
  "language_info": {
   "codemirror_mode": {
    "name": "ipython",
    "version": 3
   },
   "file_extension": ".py",
   "mimetype": "text/x-python",
   "name": "python",
   "nbconvert_exporter": "python",
   "pygments_lexer": "ipython3",
   "version": "3.9.13"
  },
  "orig_nbformat": 4
 },
 "nbformat": 4,
 "nbformat_minor": 2
}
