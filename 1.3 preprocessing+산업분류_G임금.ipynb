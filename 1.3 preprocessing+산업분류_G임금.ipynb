{
 "cells": [
  {
   "cell_type": "code",
   "execution_count": 1,
   "metadata": {},
   "outputs": [],
   "source": [
    "import pandas as pd\n",
    "import numpy as np\n",
    "import matplotlib as mpl\n",
    "from matplotlib.pyplot import imread\n",
    "import matplotlib.pyplot as plt\n",
    "import seaborn as sns\n",
    "\n",
    "import warnings\n",
    "warnings.filterwarnings('ignore')"
   ]
  },
  {
   "cell_type": "code",
   "execution_count": 2,
   "metadata": {},
   "outputs": [],
   "source": [
    "# 데이터 불러오기\n",
    "df_c = pd.read_csv(\"./datasets/raw/연결개별10대산업분류.csv\", encoding='cp949')\n",
    "df_f = pd.read_csv(\"./datasets/전처리후/재무완성.csv\",index_col=0)\n",
    "df_g = pd.read_csv(\"./datasets/raw/연결개별G-임금-pre.csv\", index_col=0)"
   ]
  },
  {
   "cell_type": "code",
   "execution_count": 3,
   "metadata": {},
   "outputs": [],
   "source": [
    "# 중복되는 값 삭제\n",
    "df_c.drop_duplicates(['거래소코드',\"회계년도\"], keep='last', inplace=True)\n",
    "df_c.reset_index(drop=True, inplace=True)\n",
    "\n",
    "df_g.drop_duplicates(['거래소코드',\"회계년도\"], keep='last', inplace=True)\n",
    "df_g.reset_index(drop=True, inplace=True)\n"
   ]
  },
  {
   "cell_type": "code",
   "execution_count": 4,
   "metadata": {},
   "outputs": [
    {
     "name": "stdout",
     "output_type": "stream",
     "text": [
      "회사수 :  2605\n",
      "거래소코드수 :  2634\n"
     ]
    }
   ],
   "source": [
    "## 회사수와 거래소코드수 차이가나는것 확인\n",
    "print(\"회사수 : \", len(df_c[\"회사명\"].unique()))\n",
    "print(\"거래소코드수 : \", len(df_c[\"거래소코드\"].unique()))"
   ]
  },
  {
   "cell_type": "code",
   "execution_count": 5,
   "metadata": {},
   "outputs": [
    {
     "name": "stdout",
     "output_type": "stream",
     "text": [
      "회사수 :  2509\n",
      "거래소코드수 :  2537\n"
     ]
    }
   ],
   "source": [
    "## 회사수와 거래소코드수 차이가나는것 확인\n",
    "print(\"회사수 : \", len(df_g[\"회사명\"].unique()))\n",
    "print(\"거래소코드수 : \", len(df_g[\"거래소코드\"].unique()))"
   ]
  },
  {
   "cell_type": "code",
   "execution_count": 6,
   "metadata": {},
   "outputs": [],
   "source": [
    "# 중복 거래소코드 제거\n",
    "def func_overlap_code(x):\n",
    "    if x == (df_c[df_c[\"회사명\"]==company_name][\"거래소코드\"].iloc[-1]) :\n",
    "        return True\n",
    "    else:\n",
    "        return False\n",
    "\n",
    "list_companyname = list(df_c[\"회사명\"].unique())\n",
    "dfs = list()\n",
    "\n",
    "\n",
    "for i in list_companyname:\n",
    "    company_name = i\n",
    "    #각 기업별로 데이터프레임 생성\n",
    "    df_concat = df_c[df_c[\"회사명\"]==i]\n",
    "    df_concat = df_concat[df_concat[\"거래소코드\"].map(func_overlap_code)] # 거래소코드 바뀌기 전의 거래소코드의 데이터는 삭제\n",
    "    dfs.append(df_concat)\n",
    "df_c = pd.concat(dfs)\n",
    "df_c.reset_index(drop=True, inplace=True)\n"
   ]
  },
  {
   "cell_type": "code",
   "execution_count": 7,
   "metadata": {},
   "outputs": [
    {
     "data": {
      "text/plain": [
       "[]"
      ]
     },
     "execution_count": 7,
     "metadata": {},
     "output_type": "execute_result"
    }
   ],
   "source": [
    "# 회사명이 2개인 거래소코드 존재 확인 - 엄슴\n",
    "list_overlap_code = list()\n",
    "for i in list(df_c[\"거래소코드\"].unique()):\n",
    "    if len(df_c[df_c[\"거래소코드\"]==i][\"회사명\"].unique()) > 1:\n",
    "        list_overlap_code.append(i)\n",
    "list_overlap_code"
   ]
  },
  {
   "cell_type": "code",
   "execution_count": 8,
   "metadata": {},
   "outputs": [],
   "source": [
    "## 기업명 변경\n",
    "df_c[df_c['거래소코드']=='036420']\n",
    "df_c.loc[df_c['회사명']=='(주)제이콘텐트리',['회사명']] = '(주)콘텐트리중앙'"
   ]
  },
  {
   "cell_type": "code",
   "execution_count": 9,
   "metadata": {},
   "outputs": [],
   "source": [
    "# 중복 거래소코드 제거\n",
    "def func_overlap_code(x):\n",
    "    if x == (df_g[df_g[\"회사명\"]==company_name][\"거래소코드\"].iloc[-1]) :\n",
    "        return True\n",
    "    else:\n",
    "        return False\n",
    "\n",
    "list_companyname = list(df_g[\"회사명\"].unique())\n",
    "dfs = list()\n",
    "\n",
    "\n",
    "for i in list_companyname:\n",
    "    company_name = i\n",
    "    #각 기업별로 데이터프레임 생성\n",
    "    df_goncat = df_g[df_g[\"회사명\"]==i]\n",
    "    df_goncat = df_goncat[df_goncat[\"거래소코드\"].map(func_overlap_code)] # 거래소코드 바뀌기 전의 거래소코드의 데이터는 삭제\n",
    "    dfs.append(df_goncat)\n",
    "df_g = pd.concat(dfs)\n",
    "df_g.reset_index(drop=True, inplace=True)\n"
   ]
  },
  {
   "cell_type": "code",
   "execution_count": 10,
   "metadata": {},
   "outputs": [
    {
     "data": {
      "text/plain": [
       "[36420]"
      ]
     },
     "execution_count": 10,
     "metadata": {},
     "output_type": "execute_result"
    }
   ],
   "source": [
    "# 회사명이 2개인 거래소코드 존재 확인 - 엄슴\n",
    "list_overlap_code = list()\n",
    "for i in list(df_g[\"거래소코드\"].unique()):\n",
    "    if len(df_g[df_g[\"거래소코드\"]==i][\"회사명\"].unique()) > 1:\n",
    "        list_overlap_code.append(i)\n",
    "list_overlap_code"
   ]
  },
  {
   "cell_type": "code",
   "execution_count": 11,
   "metadata": {},
   "outputs": [],
   "source": [
    "## 기업명 변경\n",
    "df_g[df_g['거래소코드']=='036420']\n",
    "df_g.loc[df_g['회사명']=='(주)제이콘텐트리',['회사명']] = '(주)콘텐트리중앙'"
   ]
  },
  {
   "cell_type": "code",
   "execution_count": 12,
   "metadata": {},
   "outputs": [],
   "source": [
    "# 회계년도 년도 추출 후 int화\n",
    "df_c[\"회계년도\"] = df_c[\"회계년도\"].astype(\"str\").str[:4]\n",
    "df_c[\"회계년도\"] = df_c[\"회계년도\"].astype(\"int64\")"
   ]
  },
  {
   "cell_type": "code",
   "execution_count": 13,
   "metadata": {},
   "outputs": [],
   "source": [
    "# 회계년도 년도 추출 후 int화\n",
    "df_g[\"회계년도\"] = df_g[\"회계년도\"].astype(\"str\").str[:4]\n",
    "df_g[\"회계년도\"] = df_g[\"회계년도\"].astype(\"int64\")"
   ]
  },
  {
   "cell_type": "code",
   "execution_count": 14,
   "metadata": {},
   "outputs": [],
   "source": [
    "df_cg= pd.merge(df_c,df_g, on=[\"회사명\", \"거래소코드\", \"회계년도\"],how=\"inner\")"
   ]
  },
  {
   "cell_type": "code",
   "execution_count": 15,
   "metadata": {},
   "outputs": [],
   "source": [
    "# 데이터 병합\n",
    "df_m=pd.merge(df_f,df_cg,  on=[\"회사명\", \"거래소코드\", \"회계년도\"], how=\"inner\")"
   ]
  },
  {
   "cell_type": "code",
   "execution_count": 16,
   "metadata": {},
   "outputs": [],
   "source": [
    "# 1. 종목코드를 6자리로 통일. ex) 990 -> 000990\n",
    "def padding(x):\n",
    "    x = str(x)\n",
    "    return x.rjust(6, \"0\")"
   ]
  },
  {
   "cell_type": "code",
   "execution_count": 17,
   "metadata": {},
   "outputs": [],
   "source": [
    "# 거래소 코드 패딩\n",
    "df_m[\"거래소코드\"] = df_m[\"거래소코드\"].map(padding)"
   ]
  },
  {
   "cell_type": "code",
   "execution_count": 18,
   "metadata": {},
   "outputs": [],
   "source": [
    "# 결측치 삭제\n",
    "df_m.dropna(axis=0, inplace=True)"
   ]
  },
  {
   "cell_type": "code",
   "execution_count": null,
   "metadata": {},
   "outputs": [],
   "source": [
    "df.to_csv('산업분류_G임금.csv',encoding='utf-8-sig')"
   ]
  }
 ],
 "metadata": {
  "kernelspec": {
   "display_name": "Python 3",
   "language": "python",
   "name": "python3"
  },
  "language_info": {
   "codemirror_mode": {
    "name": "ipython",
    "version": 3
   },
   "file_extension": ".py",
   "mimetype": "text/x-python",
   "name": "python",
   "nbconvert_exporter": "python",
   "pygments_lexer": "ipython3",
   "version": "3.11.1"
  },
  "orig_nbformat": 4
 },
 "nbformat": 4,
 "nbformat_minor": 2
}
