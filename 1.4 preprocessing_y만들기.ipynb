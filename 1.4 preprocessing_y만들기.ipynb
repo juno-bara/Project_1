{
 "cells": [
  {
   "cell_type": "code",
   "execution_count": 1,
   "metadata": {},
   "outputs": [],
   "source": [
    "import pandas as pd\n",
    "import numpy as np\n"
   ]
  },
  {
   "cell_type": "code",
   "execution_count": 2,
   "metadata": {},
   "outputs": [],
   "source": [
    "# func 모음\n",
    "\n",
    "# 1. 종목코드를 6자리로 통일. ex) 990 -> 000990\n",
    "def padding(x):\n",
    "    x = str(x)\n",
    "    return x.rjust(6, \"0\")\n",
    "\n",
    "# 2. 결산월 12월인 것만 선택\n",
    "# : 전체 데이터 4963개 중에서 12월 결산인 데이터가 4836개이다. 나머지 결산월의 데이터가 전체의 2.5%로 데이터량이 작기도하고 결측치가 많아 제거\n",
    "def func_yearin(x):\n",
    "    if x[5:7] == '12':\n",
    "        return True\n",
    "    else:\n",
    "        return False\n",
    "\n",
    "# 3. 회계년도컬럼, 년도만 뽑아서 int화\n",
    "def change_year(x):\n",
    "    return int(x[:4])\n",
    "\n",
    "# 4. 연결, 개별재무제표 통합을 위해 연결재무 데이터 컬럼명 통일화 : \"(IFRS연결)\"제거\n",
    "def func_replace_col1(x):\n",
    "    x = x.replace(\" \",\"\")\n",
    "    x = x.replace(\",\",\"\")\n",
    "    x = x.replace(\"(비교)\",\"\")\n",
    "    x = x.replace(\"(IFRS)\",\"\")\n",
    "    x = x.replace(\"(*)\",\"\")\n",
    "    x = x.replace(\"[제조]\",\"\")\n",
    "    return x.replace(\"(IFRS연결)\",\"\")\n",
    "\n",
    "# 5. 연결, 개별재무제표 통합을 위해 개별재무 데이터 컬럼명 통일화 : \"(IFRS)\"제거\n",
    "def func_replace_col2(x):\n",
    "    x = x.replace(\" \",\"\")\n",
    "    x = x.replace(\",\",\"\")\n",
    "    x = x.replace(\"(비교)\",\"\")\n",
    "    x = x.replace(\"(IFRS)\",\"\")\n",
    "    x = x.replace(\"(*)\",\"\")\n",
    "    x = x.replace(\"[제조]\",\"\")\n",
    "    return x.replace(\"(IFRS)\",\"\")\n",
    "\n",
    "# 6. 2020년 raw data 제외\n",
    "def func_rm_2020(x):\n",
    "    if x[:4] == \"2020\":\n",
    "        return False\n",
    "    else:\n",
    "        return True\n",
    "\n",
    "# 7. True, False 반전\n",
    "def func_not(x):\n",
    "    return not x"
   ]
  },
  {
   "cell_type": "code",
   "execution_count": 3,
   "metadata": {},
   "outputs": [
    {
     "data": {
      "text/html": [
       "<div>\n",
       "<style scoped>\n",
       "    .dataframe tbody tr th:only-of-type {\n",
       "        vertical-align: middle;\n",
       "    }\n",
       "\n",
       "    .dataframe tbody tr th {\n",
       "        vertical-align: top;\n",
       "    }\n",
       "\n",
       "    .dataframe thead th {\n",
       "        text-align: right;\n",
       "    }\n",
       "</style>\n",
       "<table border=\"1\" class=\"dataframe\">\n",
       "  <thead>\n",
       "    <tr style=\"text-align: right;\">\n",
       "      <th></th>\n",
       "      <th>회사명</th>\n",
       "      <th>거래소코드</th>\n",
       "      <th>회계년도</th>\n",
       "      <th>배당금_현금</th>\n",
       "    </tr>\n",
       "  </thead>\n",
       "  <tbody>\n",
       "    <tr>\n",
       "      <th>0</th>\n",
       "      <td>(주)CMG제약</td>\n",
       "      <td>58820</td>\n",
       "      <td>2011/12</td>\n",
       "      <td>NaN</td>\n",
       "    </tr>\n",
       "    <tr>\n",
       "      <th>1</th>\n",
       "      <td>(주)CMG제약</td>\n",
       "      <td>58820</td>\n",
       "      <td>2012/12</td>\n",
       "      <td>NaN</td>\n",
       "    </tr>\n",
       "    <tr>\n",
       "      <th>2</th>\n",
       "      <td>(주)CMG제약</td>\n",
       "      <td>58820</td>\n",
       "      <td>2013/12</td>\n",
       "      <td>NaN</td>\n",
       "    </tr>\n",
       "    <tr>\n",
       "      <th>3</th>\n",
       "      <td>(주)CMG제약</td>\n",
       "      <td>58820</td>\n",
       "      <td>2014/12</td>\n",
       "      <td>NaN</td>\n",
       "    </tr>\n",
       "    <tr>\n",
       "      <th>4</th>\n",
       "      <td>(주)CMG제약</td>\n",
       "      <td>58820</td>\n",
       "      <td>2015/12</td>\n",
       "      <td>NaN</td>\n",
       "    </tr>\n",
       "    <tr>\n",
       "      <th>...</th>\n",
       "      <td>...</td>\n",
       "      <td>...</td>\n",
       "      <td>...</td>\n",
       "      <td>...</td>\n",
       "    </tr>\n",
       "    <tr>\n",
       "      <th>22151</th>\n",
       "      <td>흥아해운(주)</td>\n",
       "      <td>3280</td>\n",
       "      <td>2016/12</td>\n",
       "      <td>632567.0</td>\n",
       "    </tr>\n",
       "    <tr>\n",
       "      <th>22152</th>\n",
       "      <td>흥아해운(주)</td>\n",
       "      <td>3280</td>\n",
       "      <td>2017/12</td>\n",
       "      <td>NaN</td>\n",
       "    </tr>\n",
       "    <tr>\n",
       "      <th>22153</th>\n",
       "      <td>흥아해운(주)</td>\n",
       "      <td>3280</td>\n",
       "      <td>2018/12</td>\n",
       "      <td>NaN</td>\n",
       "    </tr>\n",
       "    <tr>\n",
       "      <th>22154</th>\n",
       "      <td>흥아해운(주)</td>\n",
       "      <td>3280</td>\n",
       "      <td>2019/12</td>\n",
       "      <td>NaN</td>\n",
       "    </tr>\n",
       "    <tr>\n",
       "      <th>22155</th>\n",
       "      <td>흥아해운(주)</td>\n",
       "      <td>3280</td>\n",
       "      <td>2021/12</td>\n",
       "      <td>NaN</td>\n",
       "    </tr>\n",
       "  </tbody>\n",
       "</table>\n",
       "<p>22156 rows × 4 columns</p>\n",
       "</div>"
      ],
      "text/plain": [
       "            회사명  거래소코드     회계년도    배당금_현금\n",
       "0      (주)CMG제약  58820  2011/12       NaN\n",
       "1      (주)CMG제약  58820  2012/12       NaN\n",
       "2      (주)CMG제약  58820  2013/12       NaN\n",
       "3      (주)CMG제약  58820  2014/12       NaN\n",
       "4      (주)CMG제약  58820  2015/12       NaN\n",
       "...         ...    ...      ...       ...\n",
       "22151   흥아해운(주)   3280  2016/12  632567.0\n",
       "22152   흥아해운(주)   3280  2017/12       NaN\n",
       "22153   흥아해운(주)   3280  2018/12       NaN\n",
       "22154   흥아해운(주)   3280  2019/12       NaN\n",
       "22155   흥아해운(주)   3280  2021/12       NaN\n",
       "\n",
       "[22156 rows x 4 columns]"
      ]
     },
     "execution_count": 3,
     "metadata": {},
     "output_type": "execute_result"
    }
   ],
   "source": [
    "배당_df = pd.read_csv('./datasets/raw/연결개별현금배당금.csv',encoding='cp949')\n",
    "배당_df"
   ]
  },
  {
   "cell_type": "code",
   "execution_count": 4,
   "metadata": {},
   "outputs": [
    {
     "data": {
      "text/html": [
       "<div>\n",
       "<style scoped>\n",
       "    .dataframe tbody tr th:only-of-type {\n",
       "        vertical-align: middle;\n",
       "    }\n",
       "\n",
       "    .dataframe tbody tr th {\n",
       "        vertical-align: top;\n",
       "    }\n",
       "\n",
       "    .dataframe thead th {\n",
       "        text-align: right;\n",
       "    }\n",
       "</style>\n",
       "<table border=\"1\" class=\"dataframe\">\n",
       "  <thead>\n",
       "    <tr style=\"text-align: right;\">\n",
       "      <th></th>\n",
       "      <th>회사명</th>\n",
       "      <th>거래소코드</th>\n",
       "      <th>회계년도</th>\n",
       "      <th>배당금_현금</th>\n",
       "    </tr>\n",
       "  </thead>\n",
       "  <tbody>\n",
       "    <tr>\n",
       "      <th>0</th>\n",
       "      <td>(주)CMG제약</td>\n",
       "      <td>058820</td>\n",
       "      <td>2011</td>\n",
       "      <td>NaN</td>\n",
       "    </tr>\n",
       "    <tr>\n",
       "      <th>1</th>\n",
       "      <td>(주)CMG제약</td>\n",
       "      <td>058820</td>\n",
       "      <td>2012</td>\n",
       "      <td>NaN</td>\n",
       "    </tr>\n",
       "    <tr>\n",
       "      <th>2</th>\n",
       "      <td>(주)CMG제약</td>\n",
       "      <td>058820</td>\n",
       "      <td>2013</td>\n",
       "      <td>NaN</td>\n",
       "    </tr>\n",
       "    <tr>\n",
       "      <th>3</th>\n",
       "      <td>(주)CMG제약</td>\n",
       "      <td>058820</td>\n",
       "      <td>2014</td>\n",
       "      <td>NaN</td>\n",
       "    </tr>\n",
       "    <tr>\n",
       "      <th>4</th>\n",
       "      <td>(주)CMG제약</td>\n",
       "      <td>058820</td>\n",
       "      <td>2015</td>\n",
       "      <td>NaN</td>\n",
       "    </tr>\n",
       "    <tr>\n",
       "      <th>...</th>\n",
       "      <td>...</td>\n",
       "      <td>...</td>\n",
       "      <td>...</td>\n",
       "      <td>...</td>\n",
       "    </tr>\n",
       "    <tr>\n",
       "      <th>22151</th>\n",
       "      <td>흥아해운(주)</td>\n",
       "      <td>003280</td>\n",
       "      <td>2016</td>\n",
       "      <td>632567.0</td>\n",
       "    </tr>\n",
       "    <tr>\n",
       "      <th>22152</th>\n",
       "      <td>흥아해운(주)</td>\n",
       "      <td>003280</td>\n",
       "      <td>2017</td>\n",
       "      <td>NaN</td>\n",
       "    </tr>\n",
       "    <tr>\n",
       "      <th>22153</th>\n",
       "      <td>흥아해운(주)</td>\n",
       "      <td>003280</td>\n",
       "      <td>2018</td>\n",
       "      <td>NaN</td>\n",
       "    </tr>\n",
       "    <tr>\n",
       "      <th>22154</th>\n",
       "      <td>흥아해운(주)</td>\n",
       "      <td>003280</td>\n",
       "      <td>2019</td>\n",
       "      <td>NaN</td>\n",
       "    </tr>\n",
       "    <tr>\n",
       "      <th>22155</th>\n",
       "      <td>흥아해운(주)</td>\n",
       "      <td>003280</td>\n",
       "      <td>2021</td>\n",
       "      <td>NaN</td>\n",
       "    </tr>\n",
       "  </tbody>\n",
       "</table>\n",
       "<p>22156 rows × 4 columns</p>\n",
       "</div>"
      ],
      "text/plain": [
       "            회사명   거래소코드  회계년도    배당금_현금\n",
       "0      (주)CMG제약  058820  2011       NaN\n",
       "1      (주)CMG제약  058820  2012       NaN\n",
       "2      (주)CMG제약  058820  2013       NaN\n",
       "3      (주)CMG제약  058820  2014       NaN\n",
       "4      (주)CMG제약  058820  2015       NaN\n",
       "...         ...     ...   ...       ...\n",
       "22151   흥아해운(주)  003280  2016  632567.0\n",
       "22152   흥아해운(주)  003280  2017       NaN\n",
       "22153   흥아해운(주)  003280  2018       NaN\n",
       "22154   흥아해운(주)  003280  2019       NaN\n",
       "22155   흥아해운(주)  003280  2021       NaN\n",
       "\n",
       "[22156 rows x 4 columns]"
      ]
     },
     "execution_count": 4,
     "metadata": {},
     "output_type": "execute_result"
    }
   ],
   "source": [
    "배당_df[\"거래소코드\"] = 배당_df[\"거래소코드\"].map(padding) # 거래소코드 padding\n",
    "배당_df[\"회계년도\"] = 배당_df[\"회계년도\"].map(change_year) # 년도만 표시\n",
    "배당_df"
   ]
  },
  {
   "cell_type": "code",
   "execution_count": 5,
   "metadata": {},
   "outputs": [
    {
     "name": "stdout",
     "output_type": "stream",
     "text": [
      "<class 'pandas.core.frame.DataFrame'>\n",
      "RangeIndex: 22156 entries, 0 to 22155\n",
      "Data columns (total 4 columns):\n",
      " #   Column  Non-Null Count  Dtype  \n",
      "---  ------  --------------  -----  \n",
      " 0   회사명     22156 non-null  object \n",
      " 1   거래소코드   22156 non-null  object \n",
      " 2   회계년도    22156 non-null  int64  \n",
      " 3   배당금_현금  12168 non-null  float64\n",
      "dtypes: float64(1), int64(1), object(2)\n",
      "memory usage: 692.5+ KB\n"
     ]
    }
   ],
   "source": [
    "배당_df.info()"
   ]
  },
  {
   "cell_type": "code",
   "execution_count": 6,
   "metadata": {},
   "outputs": [
    {
     "data": {
      "text/plain": [
       "회사명          0\n",
       "거래소코드        0\n",
       "회계년도         0\n",
       "배당금_현금    9988\n",
       "dtype: int64"
      ]
     },
     "execution_count": 6,
     "metadata": {},
     "output_type": "execute_result"
    }
   ],
   "source": [
    "배당_df.isna().sum()"
   ]
  },
  {
   "cell_type": "code",
   "execution_count": 7,
   "metadata": {},
   "outputs": [],
   "source": [
    "배당_df.fillna(0,inplace=True)"
   ]
  },
  {
   "cell_type": "code",
   "execution_count": 8,
   "metadata": {},
   "outputs": [],
   "source": [
    "## 1년에 배당을 여러번 하는 기업이 존재 \n",
    "## 1년에 한 배당금을 더해준다\n",
    "\n",
    "배당_df = 배당_df.groupby(['회사명','회계년도','거래소코드'])[['배당금_현금']].sum().reset_index()\n"
   ]
  },
  {
   "cell_type": "code",
   "execution_count": 9,
   "metadata": {},
   "outputs": [],
   "source": [
    "# 외국계 기업 제거\n",
    "def func_isnt_fcompany(x):\n",
    "    if x[:1] == '9':\n",
    "        return False\n",
    "    else:\n",
    "        return True\n",
    "\n",
    "배당_df = 배당_df[배당_df[\"거래소코드\"].map(func_isnt_fcompany)]"
   ]
  },
  {
   "cell_type": "code",
   "execution_count": 10,
   "metadata": {},
   "outputs": [
    {
     "name": "stdout",
     "output_type": "stream",
     "text": [
      "회사수 :  2487\n",
      "거래소코드수 :  2515\n"
     ]
    }
   ],
   "source": [
    "## 회사수와 거래소코드수 차이가나는것 확인\n",
    "print(\"회사수 : \", len(배당_df[\"회사명\"].unique()))\n",
    "print(\"거래소코드수 : \", len(배당_df[\"거래소코드\"].unique()))"
   ]
  },
  {
   "cell_type": "code",
   "execution_count": 11,
   "metadata": {},
   "outputs": [],
   "source": [
    "# 중복 거래소코드 제거\n",
    "def func_overlap_code(x):\n",
    "    if x == (배당_df[배당_df[\"회사명\"]==company_name][\"거래소코드\"].iloc[-1]) :\n",
    "        return True\n",
    "    else:\n",
    "        return False\n",
    "\n",
    "list_companyname = list(배당_df[\"회사명\"].unique())\n",
    "\n",
    "\n",
    "dfs = list()\n",
    "\n",
    "\n",
    "for i in list_companyname:\n",
    "    company_name = i\n",
    "    #각 기업별로 데이터프레임 생성\n",
    "    df_concat = 배당_df[배당_df[\"회사명\"]==i]\n",
    "    df_concat = df_concat[df_concat[\"거래소코드\"].map(func_overlap_code)] # 거래소코드 바뀌기 전의 거래소코드의 데이터는 삭제\n",
    "    dfs.append(df_concat)\n",
    "배당_df = pd.concat(dfs)\n",
    "배당_df.reset_index(drop=True, inplace=True)"
   ]
  },
  {
   "cell_type": "code",
   "execution_count": 12,
   "metadata": {},
   "outputs": [
    {
     "data": {
      "text/plain": [
       "['036420']"
      ]
     },
     "execution_count": 12,
     "metadata": {},
     "output_type": "execute_result"
    }
   ],
   "source": [
    "# 회사명이 2개인 거래소코드 존재 확인 - 엄슴\n",
    "list_overlap_code = list()\n",
    "for i in list(배당_df[\"거래소코드\"].unique()):\n",
    "    if len(배당_df[배당_df[\"거래소코드\"]==i][\"회사명\"].unique()) > 1:\n",
    "        list_overlap_code.append(i)\n",
    "list_overlap_code"
   ]
  },
  {
   "cell_type": "code",
   "execution_count": 13,
   "metadata": {},
   "outputs": [],
   "source": [
    "# 기업명 변경\n",
    "배당_df[배당_df['거래소코드']=='036420']\n",
    "배당_df.loc[배당_df['회사명']=='(주)제이콘텐트리',['회사명']] = '(주)콘텐트리중앙'"
   ]
  },
  {
   "cell_type": "code",
   "execution_count": 14,
   "metadata": {},
   "outputs": [
    {
     "name": "stdout",
     "output_type": "stream",
     "text": [
      "<class 'pandas.core.frame.DataFrame'>\n",
      "RangeIndex: 20642 entries, 0 to 20641\n",
      "Data columns (total 4 columns):\n",
      " #   Column  Non-Null Count  Dtype  \n",
      "---  ------  --------------  -----  \n",
      " 0   회사명     20642 non-null  object \n",
      " 1   회계년도    20642 non-null  int64  \n",
      " 2   거래소코드   20642 non-null  object \n",
      " 3   배당금_현금  20642 non-null  float64\n",
      "dtypes: float64(1), int64(1), object(2)\n",
      "memory usage: 645.2+ KB\n"
     ]
    }
   ],
   "source": [
    "배당_df.info()"
   ]
  },
  {
   "cell_type": "code",
   "execution_count": 15,
   "metadata": {},
   "outputs": [
    {
     "data": {
      "text/html": [
       "<div>\n",
       "<style scoped>\n",
       "    .dataframe tbody tr th:only-of-type {\n",
       "        vertical-align: middle;\n",
       "    }\n",
       "\n",
       "    .dataframe tbody tr th {\n",
       "        vertical-align: top;\n",
       "    }\n",
       "\n",
       "    .dataframe thead th {\n",
       "        text-align: right;\n",
       "    }\n",
       "</style>\n",
       "<table border=\"1\" class=\"dataframe\">\n",
       "  <thead>\n",
       "    <tr style=\"text-align: right;\">\n",
       "      <th></th>\n",
       "      <th>회사명</th>\n",
       "      <th>회계년도</th>\n",
       "      <th>거래소코드</th>\n",
       "      <th>배당금_현금</th>\n",
       "    </tr>\n",
       "  </thead>\n",
       "  <tbody>\n",
       "    <tr>\n",
       "      <th>0</th>\n",
       "      <td>(주)CMG제약</td>\n",
       "      <td>2011</td>\n",
       "      <td>058820</td>\n",
       "      <td>0.0</td>\n",
       "    </tr>\n",
       "    <tr>\n",
       "      <th>1</th>\n",
       "      <td>(주)CMG제약</td>\n",
       "      <td>2012</td>\n",
       "      <td>058820</td>\n",
       "      <td>0.0</td>\n",
       "    </tr>\n",
       "    <tr>\n",
       "      <th>2</th>\n",
       "      <td>(주)CMG제약</td>\n",
       "      <td>2013</td>\n",
       "      <td>058820</td>\n",
       "      <td>0.0</td>\n",
       "    </tr>\n",
       "    <tr>\n",
       "      <th>3</th>\n",
       "      <td>(주)CMG제약</td>\n",
       "      <td>2014</td>\n",
       "      <td>058820</td>\n",
       "      <td>0.0</td>\n",
       "    </tr>\n",
       "    <tr>\n",
       "      <th>4</th>\n",
       "      <td>(주)CMG제약</td>\n",
       "      <td>2015</td>\n",
       "      <td>058820</td>\n",
       "      <td>0.0</td>\n",
       "    </tr>\n",
       "    <tr>\n",
       "      <th>...</th>\n",
       "      <td>...</td>\n",
       "      <td>...</td>\n",
       "      <td>...</td>\n",
       "      <td>...</td>\n",
       "    </tr>\n",
       "    <tr>\n",
       "      <th>20637</th>\n",
       "      <td>흥아해운(주)</td>\n",
       "      <td>2016</td>\n",
       "      <td>003280</td>\n",
       "      <td>632567.0</td>\n",
       "    </tr>\n",
       "    <tr>\n",
       "      <th>20638</th>\n",
       "      <td>흥아해운(주)</td>\n",
       "      <td>2017</td>\n",
       "      <td>003280</td>\n",
       "      <td>0.0</td>\n",
       "    </tr>\n",
       "    <tr>\n",
       "      <th>20639</th>\n",
       "      <td>흥아해운(주)</td>\n",
       "      <td>2018</td>\n",
       "      <td>003280</td>\n",
       "      <td>0.0</td>\n",
       "    </tr>\n",
       "    <tr>\n",
       "      <th>20640</th>\n",
       "      <td>흥아해운(주)</td>\n",
       "      <td>2019</td>\n",
       "      <td>003280</td>\n",
       "      <td>0.0</td>\n",
       "    </tr>\n",
       "    <tr>\n",
       "      <th>20641</th>\n",
       "      <td>흥아해운(주)</td>\n",
       "      <td>2021</td>\n",
       "      <td>003280</td>\n",
       "      <td>0.0</td>\n",
       "    </tr>\n",
       "  </tbody>\n",
       "</table>\n",
       "<p>20642 rows × 4 columns</p>\n",
       "</div>"
      ],
      "text/plain": [
       "            회사명  회계년도   거래소코드    배당금_현금\n",
       "0      (주)CMG제약  2011  058820       0.0\n",
       "1      (주)CMG제약  2012  058820       0.0\n",
       "2      (주)CMG제약  2013  058820       0.0\n",
       "3      (주)CMG제약  2014  058820       0.0\n",
       "4      (주)CMG제약  2015  058820       0.0\n",
       "...         ...   ...     ...       ...\n",
       "20637   흥아해운(주)  2016  003280  632567.0\n",
       "20638   흥아해운(주)  2017  003280       0.0\n",
       "20639   흥아해운(주)  2018  003280       0.0\n",
       "20640   흥아해운(주)  2019  003280       0.0\n",
       "20641   흥아해운(주)  2021  003280       0.0\n",
       "\n",
       "[20642 rows x 4 columns]"
      ]
     },
     "execution_count": 15,
     "metadata": {},
     "output_type": "execute_result"
    }
   ],
   "source": [
    "배당_df"
   ]
  },
  {
   "cell_type": "code",
   "execution_count": 16,
   "metadata": {},
   "outputs": [],
   "source": [
    "## 배당을 한번도 안한 기업 제거\n",
    "test = 배당_df.groupby('회사명')[['배당금_현금']].sum()\n",
    "badang=test[test[\"배당금_현금\"] != 0].index\n",
    "배당_df= 배당_df[배당_df[\"회사명\"].isin(badang)].reset_index(drop=True)\n"
   ]
  },
  {
   "cell_type": "code",
   "execution_count": 17,
   "metadata": {},
   "outputs": [
    {
     "data": {
      "text/html": [
       "<div>\n",
       "<style scoped>\n",
       "    .dataframe tbody tr th:only-of-type {\n",
       "        vertical-align: middle;\n",
       "    }\n",
       "\n",
       "    .dataframe tbody tr th {\n",
       "        vertical-align: top;\n",
       "    }\n",
       "\n",
       "    .dataframe thead th {\n",
       "        text-align: right;\n",
       "    }\n",
       "</style>\n",
       "<table border=\"1\" class=\"dataframe\">\n",
       "  <thead>\n",
       "    <tr style=\"text-align: right;\">\n",
       "      <th></th>\n",
       "      <th>회사명</th>\n",
       "      <th>회계년도</th>\n",
       "      <th>거래소코드</th>\n",
       "      <th>배당금_현금</th>\n",
       "    </tr>\n",
       "  </thead>\n",
       "  <tbody>\n",
       "    <tr>\n",
       "      <th>0</th>\n",
       "      <td>(주)DB하이텍</td>\n",
       "      <td>2011</td>\n",
       "      <td>000990</td>\n",
       "      <td>0.0</td>\n",
       "    </tr>\n",
       "    <tr>\n",
       "      <th>1</th>\n",
       "      <td>(주)DB하이텍</td>\n",
       "      <td>2012</td>\n",
       "      <td>000990</td>\n",
       "      <td>0.0</td>\n",
       "    </tr>\n",
       "    <tr>\n",
       "      <th>2</th>\n",
       "      <td>(주)DB하이텍</td>\n",
       "      <td>2013</td>\n",
       "      <td>000990</td>\n",
       "      <td>0.0</td>\n",
       "    </tr>\n",
       "    <tr>\n",
       "      <th>3</th>\n",
       "      <td>(주)DB하이텍</td>\n",
       "      <td>2014</td>\n",
       "      <td>000990</td>\n",
       "      <td>0.0</td>\n",
       "    </tr>\n",
       "    <tr>\n",
       "      <th>4</th>\n",
       "      <td>(주)DB하이텍</td>\n",
       "      <td>2015</td>\n",
       "      <td>000990</td>\n",
       "      <td>0.0</td>\n",
       "    </tr>\n",
       "    <tr>\n",
       "      <th>...</th>\n",
       "      <td>...</td>\n",
       "      <td>...</td>\n",
       "      <td>...</td>\n",
       "      <td>...</td>\n",
       "    </tr>\n",
       "    <tr>\n",
       "      <th>14777</th>\n",
       "      <td>흥아해운(주)</td>\n",
       "      <td>2016</td>\n",
       "      <td>003280</td>\n",
       "      <td>632567.0</td>\n",
       "    </tr>\n",
       "    <tr>\n",
       "      <th>14778</th>\n",
       "      <td>흥아해운(주)</td>\n",
       "      <td>2017</td>\n",
       "      <td>003280</td>\n",
       "      <td>0.0</td>\n",
       "    </tr>\n",
       "    <tr>\n",
       "      <th>14779</th>\n",
       "      <td>흥아해운(주)</td>\n",
       "      <td>2018</td>\n",
       "      <td>003280</td>\n",
       "      <td>0.0</td>\n",
       "    </tr>\n",
       "    <tr>\n",
       "      <th>14780</th>\n",
       "      <td>흥아해운(주)</td>\n",
       "      <td>2019</td>\n",
       "      <td>003280</td>\n",
       "      <td>0.0</td>\n",
       "    </tr>\n",
       "    <tr>\n",
       "      <th>14781</th>\n",
       "      <td>흥아해운(주)</td>\n",
       "      <td>2021</td>\n",
       "      <td>003280</td>\n",
       "      <td>0.0</td>\n",
       "    </tr>\n",
       "  </tbody>\n",
       "</table>\n",
       "<p>14782 rows × 4 columns</p>\n",
       "</div>"
      ],
      "text/plain": [
       "            회사명  회계년도   거래소코드    배당금_현금\n",
       "0      (주)DB하이텍  2011  000990       0.0\n",
       "1      (주)DB하이텍  2012  000990       0.0\n",
       "2      (주)DB하이텍  2013  000990       0.0\n",
       "3      (주)DB하이텍  2014  000990       0.0\n",
       "4      (주)DB하이텍  2015  000990       0.0\n",
       "...         ...   ...     ...       ...\n",
       "14777   흥아해운(주)  2016  003280  632567.0\n",
       "14778   흥아해운(주)  2017  003280       0.0\n",
       "14779   흥아해운(주)  2018  003280       0.0\n",
       "14780   흥아해운(주)  2019  003280       0.0\n",
       "14781   흥아해운(주)  2021  003280       0.0\n",
       "\n",
       "[14782 rows x 4 columns]"
      ]
     },
     "execution_count": 17,
     "metadata": {},
     "output_type": "execute_result"
    }
   ],
   "source": [
    "배당_df"
   ]
  },
  {
   "cell_type": "code",
   "execution_count": 18,
   "metadata": {},
   "outputs": [
    {
     "name": "stdout",
     "output_type": "stream",
     "text": [
      "Index(['Unnamed: 0', '회사명', '거래소코드', '회계년도', '대주주지분변화분', '외국인지분분변화', '상장일',\n",
      "       '자산', '당기순이익(손실)', '미처분이익잉여금(결손금)', '총자본증가율', '비유동자산증가율', '유동자산증가율',\n",
      "       '자기자본증가율', '매출액증가율', '정상영업이익증가율', '순이익증가율', '총포괄이익증가율', '매출액순이익률',\n",
      "       '총자본순이익률', '자기자본순이익률', '매출원가대매출액비율', '광고선전비대매출액비율', '유보율', '비유동비율',\n",
      "       '유동비율', '당좌비율', '현금비율', '부채비율', '유동부채비율', '차입금비율', '이자보상배율(이자비용)',\n",
      "       '유보액대비율', '유보액대납입자본배율', '투자집중도', '통계청 한국표준산업분류 10차(대분류)', '직급명',\n",
      "       '1인평균지급액(임원)', '1인년간평균급여(직원)', '토빈Q', 'target', 'WW지수', 'RDS', '수명주기'],\n",
      "      dtype='object')\n"
     ]
    },
    {
     "name": "stderr",
     "output_type": "stream",
     "text": [
      "C:\\Users\\msi\\AppData\\Local\\Temp\\ipykernel_3248\\825431669.py:10: SettingWithCopyWarning: \n",
      "A value is trying to be set on a copy of a slice from a DataFrame.\n",
      "Try using .loc[row_indexer,col_indexer] = value instead\n",
      "\n",
      "See the caveats in the documentation: https://pandas.pydata.org/pandas-docs/stable/user_guide/indexing.html#returning-a-view-versus-a-copy\n",
      "  당기순이익_df[\"거래소코드\"] = 당기순이익_df[\"거래소코드\"].map(padding) # 년도만 표시\n"
     ]
    }
   ],
   "source": [
    "# 배당금 /당기순이익 *100 = 배당성향\n",
    "df = pd.read_csv('./datasets/전처리 후/최종.csv')\n",
    "print(df.columns)\n",
    "당기순이익_df = df[['회사명','거래소코드','회계년도','당기순이익(손실)']]\n",
    "\n",
    "def padding(x):\n",
    "    x = str(x)\n",
    "    return x.rjust(6, \"0\")\n",
    "\n",
    "당기순이익_df[\"거래소코드\"] = 당기순이익_df[\"거래소코드\"].map(padding) # 년도만 표시"
   ]
  },
  {
   "cell_type": "code",
   "execution_count": 19,
   "metadata": {},
   "outputs": [],
   "source": [
    "배당성향_df = pd.merge(당기순이익_df,배당_df,on=['회사명','거래소코드','회계년도'],how='inner')"
   ]
  },
  {
   "cell_type": "code",
   "execution_count": 21,
   "metadata": {},
   "outputs": [],
   "source": [
    "배당성향_df['배당성향'] = 배당성향_df['배당금_현금'] / 배당성향_df['당기순이익(손실)']\n",
    "배당성향_df['배당성향'] = 배당성향_df['배당성향']*100"
   ]
  },
  {
   "cell_type": "code",
   "execution_count": 22,
   "metadata": {},
   "outputs": [
    {
     "data": {
      "text/html": [
       "<div>\n",
       "<style scoped>\n",
       "    .dataframe tbody tr th:only-of-type {\n",
       "        vertical-align: middle;\n",
       "    }\n",
       "\n",
       "    .dataframe tbody tr th {\n",
       "        vertical-align: top;\n",
       "    }\n",
       "\n",
       "    .dataframe thead th {\n",
       "        text-align: right;\n",
       "    }\n",
       "</style>\n",
       "<table border=\"1\" class=\"dataframe\">\n",
       "  <thead>\n",
       "    <tr style=\"text-align: right;\">\n",
       "      <th></th>\n",
       "      <th>회사명</th>\n",
       "      <th>거래소코드</th>\n",
       "      <th>회계년도</th>\n",
       "      <th>당기순이익(손실)</th>\n",
       "      <th>배당금_현금</th>\n",
       "      <th>배당성향</th>\n",
       "    </tr>\n",
       "  </thead>\n",
       "  <tbody>\n",
       "    <tr>\n",
       "      <th>0</th>\n",
       "      <td>(주)DB하이텍</td>\n",
       "      <td>000990</td>\n",
       "      <td>2011</td>\n",
       "      <td>-93084414.0</td>\n",
       "      <td>0.0</td>\n",
       "      <td>0.0</td>\n",
       "    </tr>\n",
       "    <tr>\n",
       "      <th>1</th>\n",
       "      <td>(주)DB하이텍</td>\n",
       "      <td>000990</td>\n",
       "      <td>2012</td>\n",
       "      <td>-32121504.0</td>\n",
       "      <td>0.0</td>\n",
       "      <td>0.0</td>\n",
       "    </tr>\n",
       "    <tr>\n",
       "      <th>2</th>\n",
       "      <td>(주)DB하이텍</td>\n",
       "      <td>000990</td>\n",
       "      <td>2013</td>\n",
       "      <td>-73243309.0</td>\n",
       "      <td>0.0</td>\n",
       "      <td>0.0</td>\n",
       "    </tr>\n",
       "    <tr>\n",
       "      <th>3</th>\n",
       "      <td>(주)DB하이텍</td>\n",
       "      <td>000990</td>\n",
       "      <td>2014</td>\n",
       "      <td>-58319918.0</td>\n",
       "      <td>0.0</td>\n",
       "      <td>0.0</td>\n",
       "    </tr>\n",
       "    <tr>\n",
       "      <th>4</th>\n",
       "      <td>(주)DB하이텍</td>\n",
       "      <td>000990</td>\n",
       "      <td>2015</td>\n",
       "      <td>127469869.0</td>\n",
       "      <td>0.0</td>\n",
       "      <td>0.0</td>\n",
       "    </tr>\n",
       "    <tr>\n",
       "      <th>...</th>\n",
       "      <td>...</td>\n",
       "      <td>...</td>\n",
       "      <td>...</td>\n",
       "      <td>...</td>\n",
       "      <td>...</td>\n",
       "      <td>...</td>\n",
       "    </tr>\n",
       "    <tr>\n",
       "      <th>14524</th>\n",
       "      <td>휴마시스(주)</td>\n",
       "      <td>205470</td>\n",
       "      <td>2020</td>\n",
       "      <td>21083270.0</td>\n",
       "      <td>0.0</td>\n",
       "      <td>0.0</td>\n",
       "    </tr>\n",
       "    <tr>\n",
       "      <th>14543</th>\n",
       "      <td>흥아해운(주)</td>\n",
       "      <td>003280</td>\n",
       "      <td>2017</td>\n",
       "      <td>-67916740.0</td>\n",
       "      <td>0.0</td>\n",
       "      <td>0.0</td>\n",
       "    </tr>\n",
       "    <tr>\n",
       "      <th>14544</th>\n",
       "      <td>흥아해운(주)</td>\n",
       "      <td>003280</td>\n",
       "      <td>2018</td>\n",
       "      <td>-96953501.0</td>\n",
       "      <td>0.0</td>\n",
       "      <td>0.0</td>\n",
       "    </tr>\n",
       "    <tr>\n",
       "      <th>14545</th>\n",
       "      <td>흥아해운(주)</td>\n",
       "      <td>003280</td>\n",
       "      <td>2019</td>\n",
       "      <td>-52550693.0</td>\n",
       "      <td>0.0</td>\n",
       "      <td>0.0</td>\n",
       "    </tr>\n",
       "    <tr>\n",
       "      <th>14546</th>\n",
       "      <td>흥아해운(주)</td>\n",
       "      <td>003280</td>\n",
       "      <td>2021</td>\n",
       "      <td>15770398.0</td>\n",
       "      <td>0.0</td>\n",
       "      <td>0.0</td>\n",
       "    </tr>\n",
       "  </tbody>\n",
       "</table>\n",
       "<p>3817 rows × 6 columns</p>\n",
       "</div>"
      ],
      "text/plain": [
       "            회사명   거래소코드  회계년도    당기순이익(손실)  배당금_현금  배당성향\n",
       "0      (주)DB하이텍  000990  2011  -93084414.0     0.0   0.0\n",
       "1      (주)DB하이텍  000990  2012  -32121504.0     0.0   0.0\n",
       "2      (주)DB하이텍  000990  2013  -73243309.0     0.0   0.0\n",
       "3      (주)DB하이텍  000990  2014  -58319918.0     0.0   0.0\n",
       "4      (주)DB하이텍  000990  2015  127469869.0     0.0   0.0\n",
       "...         ...     ...   ...          ...     ...   ...\n",
       "14524   휴마시스(주)  205470  2020   21083270.0     0.0   0.0\n",
       "14543   흥아해운(주)  003280  2017  -67916740.0     0.0   0.0\n",
       "14544   흥아해운(주)  003280  2018  -96953501.0     0.0   0.0\n",
       "14545   흥아해운(주)  003280  2019  -52550693.0     0.0   0.0\n",
       "14546   흥아해운(주)  003280  2021   15770398.0     0.0   0.0\n",
       "\n",
       "[3817 rows x 6 columns]"
      ]
     },
     "execution_count": 22,
     "metadata": {},
     "output_type": "execute_result"
    }
   ],
   "source": [
    "배당성향_df[배당성향_df['배당성향']==-0].head(10)\n",
    "배당성향_df.replace(-0,0,inplace=True)\n",
    "배당성향_df[배당성향_df['배당성향']==0]"
   ]
  },
  {
   "attachments": {},
   "cell_type": "markdown",
   "metadata": {},
   "source": [
    "### target 조건\n",
    "1. 회계년도 기준 3년 연속배당\n",
    "2. 배당성향의 절대값의 변동률을 IQR방법을 만족"
   ]
  },
  {
   "cell_type": "code",
   "execution_count": 24,
   "metadata": {},
   "outputs": [],
   "source": [
    "# 배당성향이 음수여도 배당을 한것이므로 절댓값처리\n",
    "배당성향_df['배당성향'] = np.abs(배당성향_df['배당성향'])"
   ]
  },
  {
   "cell_type": "code",
   "execution_count": 25,
   "metadata": {},
   "outputs": [],
   "source": [
    "배당성향_df['조건1'] = (배당성향_df.groupby('회사명')[['배당금_현금']].shift(0)!=0) &(배당성향_df.groupby('회사명')[['배당금_현금']].shift(1)!=0) & (배당성향_df.groupby('회사명')[['배당금_현금']].shift(2)!=0)\n"
   ]
  },
  {
   "cell_type": "code",
   "execution_count": 26,
   "metadata": {},
   "outputs": [
    {
     "data": {
      "text/plain": [
       "회사명          0\n",
       "거래소코드        0\n",
       "회계년도         0\n",
       "당기순이익(손실)    0\n",
       "배당금_현금       0\n",
       "배당성향         0\n",
       "조건1          0\n",
       "dtype: int64"
      ]
     },
     "execution_count": 26,
     "metadata": {},
     "output_type": "execute_result"
    }
   ],
   "source": [
    "배당성향_df.isin([np.nan]).sum()"
   ]
  },
  {
   "cell_type": "code",
   "execution_count": 27,
   "metadata": {},
   "outputs": [],
   "source": [
    "배당성향_df['배당성향_변동률'] = 배당성향_df.groupby('회사명')['배당성향'].pct_change()\n",
    "배당성향_df['배당성향_변동률'] = 배당성향_df['배당성향_변동률']*100\n",
    "\n",
    "# 배당성향_df['배당성향_mean'] = 배당성향_df.groupby('회사명')[['배당성향']].rolling(3).mean().values"
   ]
  },
  {
   "cell_type": "code",
   "execution_count": 28,
   "metadata": {},
   "outputs": [],
   "source": [
    "## 이미 조건1을 만족하지않음\n",
    "배당성향_df[배당성향_df.isna().any(1)]\n",
    "배당성향_df['배당성향_변동률'].replace(np.nan,0,inplace=True)\n"
   ]
  },
  {
   "cell_type": "code",
   "execution_count": 29,
   "metadata": {},
   "outputs": [],
   "source": [
    "# 배당을 안하다가가 하거나 하다가 안하는 행의\n",
    "# 배당성향 변동률은 배당성향으로 대체\n",
    "for i in 배당성향_df.index.to_list():\n",
    "    if 배당성향_df.loc[i,'배당성향_변동률']==np.inf:\n",
    "        배당성향_df.loc[i,'배당성향_변동률']=배당성향_df.loc[i,'배당성향']\n",
    "    elif 배당성향_df.loc[i,'배당성향_변동률']==-np.inf:\n",
    "        배당성향_df.loc[i,'배당성향_변동률']=배당성향_df.loc[i,'배당성향']\n"
   ]
  },
  {
   "cell_type": "code",
   "execution_count": 30,
   "metadata": {},
   "outputs": [
    {
     "data": {
      "text/html": [
       "<div>\n",
       "<style scoped>\n",
       "    .dataframe tbody tr th:only-of-type {\n",
       "        vertical-align: middle;\n",
       "    }\n",
       "\n",
       "    .dataframe tbody tr th {\n",
       "        vertical-align: top;\n",
       "    }\n",
       "\n",
       "    .dataframe thead th {\n",
       "        text-align: right;\n",
       "    }\n",
       "</style>\n",
       "<table border=\"1\" class=\"dataframe\">\n",
       "  <thead>\n",
       "    <tr style=\"text-align: right;\">\n",
       "      <th></th>\n",
       "      <th>회사명</th>\n",
       "      <th>거래소코드</th>\n",
       "      <th>회계년도</th>\n",
       "      <th>당기순이익(손실)</th>\n",
       "      <th>배당금_현금</th>\n",
       "      <th>배당성향</th>\n",
       "      <th>조건1</th>\n",
       "      <th>배당성향_변동률</th>\n",
       "    </tr>\n",
       "  </thead>\n",
       "  <tbody>\n",
       "  </tbody>\n",
       "</table>\n",
       "</div>"
      ],
      "text/plain": [
       "Empty DataFrame\n",
       "Columns: [회사명, 거래소코드, 회계년도, 당기순이익(손실), 배당금_현금, 배당성향, 조건1, 배당성향_변동률]\n",
       "Index: []"
      ]
     },
     "execution_count": 30,
     "metadata": {},
     "output_type": "execute_result"
    }
   ],
   "source": [
    "배당성향_df[배당성향_df.isin([np.inf,-np.inf]).any(1)]"
   ]
  },
  {
   "cell_type": "code",
   "execution_count": 31,
   "metadata": {},
   "outputs": [
    {
     "data": {
      "text/plain": [
       "count     14547.000000\n",
       "mean        164.289597\n",
       "std        6163.270036\n",
       "min        -100.000000\n",
       "25%         -17.995559\n",
       "50%           0.000000\n",
       "75%          19.774023\n",
       "max      658173.288339\n",
       "Name: 배당성향_변동률, dtype: float64"
      ]
     },
     "execution_count": 31,
     "metadata": {},
     "output_type": "execute_result"
    }
   ],
   "source": [
    "배당성향_df['배당성향_변동률'].describe()"
   ]
  },
  {
   "cell_type": "code",
   "execution_count": 32,
   "metadata": {},
   "outputs": [],
   "source": [
    "배당성향_df['배당성향_std'] = 배당성향_df.groupby('회사명')[['배당성향_변동률']].rolling(3).std().values"
   ]
  },
  {
   "cell_type": "code",
   "execution_count": 33,
   "metadata": {},
   "outputs": [
    {
     "data": {
      "text/plain": [
       "count     11448.000000\n",
       "mean        338.983653\n",
       "std        6587.072643\n",
       "min           0.000000\n",
       "25%          16.789354\n",
       "50%          51.923390\n",
       "75%          91.898334\n",
       "max      380053.305950\n",
       "Name: 배당성향_std, dtype: float64"
      ]
     },
     "execution_count": 33,
     "metadata": {},
     "output_type": "execute_result"
    }
   ],
   "source": [
    "배당성향_df['배당성향_std'].describe()"
   ]
  },
  {
   "cell_type": "code",
   "execution_count": 35,
   "metadata": {},
   "outputs": [],
   "source": [
    "배당성향_df[배당성향_df['배당성향_std'].isin([np.inf,np.nan,-np.inf])]\n",
    "배당성향_df.fillna(0,inplace=True)"
   ]
  },
  {
   "cell_type": "code",
   "execution_count": 36,
   "metadata": {},
   "outputs": [],
   "source": [
    "#  target \n",
    "# IQR  방식으로  16.789354-1.5*75.10898 < target <   16.789354+1.5*75.10898\n",
    "## 이상배당을 걸러냄\n",
    "배당성향_df[\"조건2\"] = (16.789354-1.5*75.10898 < 배당성향_df[\"배당성향_std\"] )&(배당성향_df[\"배당성향_std\"]< 91.898334+1.5*75.10898)\n",
    "  "
   ]
  },
  {
   "cell_type": "code",
   "execution_count": 37,
   "metadata": {},
   "outputs": [],
   "source": [
    "# 전년 대비 배당금현금이 늘어나야 조건을 만족\n",
    "배당성향_df['조건3'] = 배당성향_df.groupby('회사명')['배당금_현금'].shift(0) >배당성향_df.groupby('회사명')['배당금_현금'].shift(1)"
   ]
  },
  {
   "cell_type": "code",
   "execution_count": 38,
   "metadata": {},
   "outputs": [],
   "source": [
    "배당성향_df['target'] = (배당성향_df['조건1']==True) &(배당성향_df['조건2']==True) &(배당성향_df['조건3']==True)"
   ]
  },
  {
   "cell_type": "code",
   "execution_count": 39,
   "metadata": {},
   "outputs": [
    {
     "name": "stdout",
     "output_type": "stream",
     "text": [
      "<class 'pandas.core.frame.DataFrame'>\n",
      "Int64Index: 14547 entries, 0 to 14546\n",
      "Data columns (total 12 columns):\n",
      " #   Column     Non-Null Count  Dtype  \n",
      "---  ------     --------------  -----  \n",
      " 0   회사명        14547 non-null  object \n",
      " 1   거래소코드      14547 non-null  object \n",
      " 2   회계년도       14547 non-null  int64  \n",
      " 3   당기순이익(손실)  14547 non-null  float64\n",
      " 4   배당금_현금     14547 non-null  float64\n",
      " 5   배당성향       14547 non-null  float64\n",
      " 6   조건1        14547 non-null  bool   \n",
      " 7   배당성향_변동률   14547 non-null  float64\n",
      " 8   배당성향_std   14547 non-null  float64\n",
      " 9   조건2        14547 non-null  bool   \n",
      " 10  조건3        14547 non-null  bool   \n",
      " 11  target     14547 non-null  bool   \n",
      "dtypes: bool(4), float64(5), int64(1), object(2)\n",
      "memory usage: 1.6+ MB\n"
     ]
    }
   ],
   "source": [
    "배당성향_df.info()"
   ]
  },
  {
   "cell_type": "code",
   "execution_count": 40,
   "metadata": {},
   "outputs": [],
   "source": [
    "배당성향_df['target'] = 배당성향_df['target'].apply(lambda x : 1 if x==True else 0)\n"
   ]
  },
  {
   "cell_type": "code",
   "execution_count": 41,
   "metadata": {},
   "outputs": [
    {
     "data": {
      "text/plain": [
       "count    3554.000000\n",
       "mean       34.529530\n",
       "std       106.329106\n",
       "min         0.450744\n",
       "25%        14.248790\n",
       "50%        23.128386\n",
       "75%        36.847016\n",
       "max      5289.244476\n",
       "Name: 배당성향, dtype: float64"
      ]
     },
     "execution_count": 41,
     "metadata": {},
     "output_type": "execute_result"
    }
   ],
   "source": [
    "배당성향_df[배당성향_df['target']==1]['배당성향'].describe()"
   ]
  },
  {
   "cell_type": "code",
   "execution_count": 43,
   "metadata": {},
   "outputs": [
    {
     "data": {
      "text/plain": [
       "0    10993\n",
       "1     3554\n",
       "Name: target, dtype: int64"
      ]
     },
     "execution_count": 43,
     "metadata": {},
     "output_type": "execute_result"
    }
   ],
   "source": [
    "배당성향_df['target'].value_counts()"
   ]
  },
  {
   "cell_type": "code",
   "execution_count": 839,
   "metadata": {},
   "outputs": [
    {
     "name": "stderr",
     "output_type": "stream",
     "text": [
      "c:\\Users\\msi\\anaconda3\\lib\\site-packages\\seaborn\\_decorators.py:36: FutureWarning: Pass the following variable as a keyword arg: x. From version 0.12, the only valid positional argument will be `data`, and passing other arguments without an explicit keyword will result in an error or misinterpretation.\n",
      "  warnings.warn(\n"
     ]
    },
    {
     "data": {
      "text/plain": [
       "array(['(주)DB하이텍', '(주)MH에탄올', '(주)SH에너지화학', ..., '휴림네트웍스(주)', '흥구석유(주)',\n",
       "       '흥아해운(주)'], dtype=object)"
      ]
     },
     "execution_count": 839,
     "metadata": {},
     "output_type": "execute_result"
    },
    {
     "data": {
      "image/png": "[encoded data removed]",
      "text/plain": [
       "<Figure size 640x480 with 1 Axes>"
      ]
     },
     "metadata": {},
     "output_type": "display_data"
    }
   ],
   "source": [
    "import matplotlib.pyplot as plt\n",
    "import seaborn as sns\n",
    "sns.countplot(배당성향_df['target'])\n"
   ]
  },
  {
   "cell_type": "code",
   "execution_count": 909,
   "metadata": {},
   "outputs": [
    {
     "data": {
      "text/plain": [
       "array(['(주)DB하이텍', '(주)MH에탄올', '(주)SH에너지화학', ..., '효성티앤씨(주)', '흥구석유(주)',\n",
       "       '흥아해운(주)'], dtype=object)"
      ]
     },
     "execution_count": 909,
     "metadata": {},
     "output_type": "execute_result"
    }
   ],
   "source": [
    "배당성향_df[배당성향_df['target']==1]['회사명'].unique()"
   ]
  },
  {
   "cell_type": "code",
   "execution_count": 910,
   "metadata": {},
   "outputs": [
    {
     "data": {
      "text/plain": [
       "array(['(주)DB하이텍', '(주)MH에탄올', '(주)SH에너지화학', ..., '휴마시스(주)', '흥구석유(주)',\n",
       "       '흥아해운(주)'], dtype=object)"
      ]
     },
     "execution_count": 910,
     "metadata": {},
     "output_type": "execute_result"
    }
   ],
   "source": [
    "배당성향_df[배당성향_df['target']==0]['회사명'].unique()"
   ]
  },
  {
   "cell_type": "code",
   "execution_count": 911,
   "metadata": {},
   "outputs": [
    {
     "name": "stderr",
     "output_type": "stream",
     "text": [
      "c:\\Users\\msi\\anaconda3\\lib\\site-packages\\seaborn\\_decorators.py:36: FutureWarning: Pass the following variable as a keyword arg: x. From version 0.12, the only valid positional argument will be `data`, and passing other arguments without an explicit keyword will result in an error or misinterpretation.\n",
      "  warnings.warn(\n"
     ]
    },
    {
     "data": {
      "text/plain": [
       "<AxesSubplot:xlabel='target', ylabel='count'>"
      ]
     },
     "execution_count": 911,
     "metadata": {},
     "output_type": "execute_result"
    },
    {
     "data": {
      "image/png": "[encoded data removed]",
      "text/plain": [
       "<Figure size 640x480 with 1 Axes>"
      ]
     },
     "metadata": {},
     "output_type": "display_data"
    }
   ],
   "source": [
    "sns.countplot(배당성향_df[배당성향_df['회계년도']<=2019]['target'])"
   ]
  },
  {
   "cell_type": "code",
   "execution_count": 912,
   "metadata": {},
   "outputs": [
    {
     "name": "stderr",
     "output_type": "stream",
     "text": [
      "c:\\Users\\msi\\anaconda3\\lib\\site-packages\\seaborn\\_decorators.py:36: FutureWarning: Pass the following variable as a keyword arg: x. From version 0.12, the only valid positional argument will be `data`, and passing other arguments without an explicit keyword will result in an error or misinterpretation.\n",
      "  warnings.warn(\n"
     ]
    },
    {
     "data": {
      "text/plain": [
       "<AxesSubplot:xlabel='target', ylabel='count'>"
      ]
     },
     "execution_count": 912,
     "metadata": {},
     "output_type": "execute_result"
    },
    {
     "data": {
      "image/png": "[encoded data removed]",
      "text/plain": [
       "<Figure size 640x480 with 1 Axes>"
      ]
     },
     "metadata": {},
     "output_type": "display_data"
    }
   ],
   "source": [
    "sns.countplot(배당성향_df[배당성향_df['회계년도']>=2020]['target'])"
   ]
  },
  {
   "cell_type": "code",
   "execution_count": 915,
   "metadata": {},
   "outputs": [
    {
     "data": {
      "text/plain": [
       "회사명          0\n",
       "거래소코드        0\n",
       "회계년도         0\n",
       "당기순이익(손실)    0\n",
       "배당금_현금       0\n",
       "배당성향         0\n",
       "조건1          0\n",
       "배당성향_변동률     0\n",
       "배당성향_std     0\n",
       "조건2          0\n",
       "조건3          0\n",
       "target       0\n",
       "dtype: int64"
      ]
     },
     "execution_count": 915,
     "metadata": {},
     "output_type": "execute_result"
    }
   ],
   "source": [
    "배당성향_df.isna().sum()"
   ]
  },
  {
   "cell_type": "code",
   "execution_count": 916,
   "metadata": {},
   "outputs": [],
   "source": [
    "배당성향_df.drop(['당기순이익(손실)','배당금_현금','배당성향','조건1'\t,'배당성향_변동률','배당성향_std','조건2','조건3'],axis=1,inplace=True)"
   ]
  },
  {
   "cell_type": "code",
   "execution_count": 917,
   "metadata": {},
   "outputs": [],
   "source": [
    "배당성향_df.to_csv('target.csv',encoding='UTF-8-sig')"
   ]
  },
  {
   "cell_type": "code",
   "execution_count": 918,
   "metadata": {},
   "outputs": [
    {
     "data": {
      "text/plain": [
       "0    10963\n",
       "1     3584\n",
       "Name: target, dtype: int64"
      ]
     },
     "execution_count": 918,
     "metadata": {},
     "output_type": "execute_result"
    }
   ],
   "source": [
    "배당성향_df.target.value_counts()"
   ]
  },
  {
   "cell_type": "code",
   "execution_count": 919,
   "metadata": {},
   "outputs": [
    {
     "data": {
      "text/html": [
       "<div>\n",
       "<style scoped>\n",
       "    .dataframe tbody tr th:only-of-type {\n",
       "        vertical-align: middle;\n",
       "    }\n",
       "\n",
       "    .dataframe tbody tr th {\n",
       "        vertical-align: top;\n",
       "    }\n",
       "\n",
       "    .dataframe thead th {\n",
       "        text-align: right;\n",
       "    }\n",
       "</style>\n",
       "<table border=\"1\" class=\"dataframe\">\n",
       "  <thead>\n",
       "    <tr style=\"text-align: right;\">\n",
       "      <th></th>\n",
       "      <th>회사명</th>\n",
       "      <th>거래소코드</th>\n",
       "      <th>회계년도</th>\n",
       "      <th>target</th>\n",
       "    </tr>\n",
       "  </thead>\n",
       "  <tbody>\n",
       "    <tr>\n",
       "      <th>0</th>\n",
       "      <td>(주)DB하이텍</td>\n",
       "      <td>000990</td>\n",
       "      <td>2011</td>\n",
       "      <td>0</td>\n",
       "    </tr>\n",
       "    <tr>\n",
       "      <th>1</th>\n",
       "      <td>(주)DB하이텍</td>\n",
       "      <td>000990</td>\n",
       "      <td>2012</td>\n",
       "      <td>0</td>\n",
       "    </tr>\n",
       "    <tr>\n",
       "      <th>2</th>\n",
       "      <td>(주)DB하이텍</td>\n",
       "      <td>000990</td>\n",
       "      <td>2013</td>\n",
       "      <td>0</td>\n",
       "    </tr>\n",
       "    <tr>\n",
       "      <th>3</th>\n",
       "      <td>(주)DB하이텍</td>\n",
       "      <td>000990</td>\n",
       "      <td>2014</td>\n",
       "      <td>0</td>\n",
       "    </tr>\n",
       "    <tr>\n",
       "      <th>4</th>\n",
       "      <td>(주)DB하이텍</td>\n",
       "      <td>000990</td>\n",
       "      <td>2015</td>\n",
       "      <td>0</td>\n",
       "    </tr>\n",
       "    <tr>\n",
       "      <th>...</th>\n",
       "      <td>...</td>\n",
       "      <td>...</td>\n",
       "      <td>...</td>\n",
       "      <td>...</td>\n",
       "    </tr>\n",
       "    <tr>\n",
       "      <th>14542</th>\n",
       "      <td>흥아해운(주)</td>\n",
       "      <td>003280</td>\n",
       "      <td>2016</td>\n",
       "      <td>1</td>\n",
       "    </tr>\n",
       "    <tr>\n",
       "      <th>14543</th>\n",
       "      <td>흥아해운(주)</td>\n",
       "      <td>003280</td>\n",
       "      <td>2017</td>\n",
       "      <td>0</td>\n",
       "    </tr>\n",
       "    <tr>\n",
       "      <th>14544</th>\n",
       "      <td>흥아해운(주)</td>\n",
       "      <td>003280</td>\n",
       "      <td>2018</td>\n",
       "      <td>0</td>\n",
       "    </tr>\n",
       "    <tr>\n",
       "      <th>14545</th>\n",
       "      <td>흥아해운(주)</td>\n",
       "      <td>003280</td>\n",
       "      <td>2019</td>\n",
       "      <td>0</td>\n",
       "    </tr>\n",
       "    <tr>\n",
       "      <th>14546</th>\n",
       "      <td>흥아해운(주)</td>\n",
       "      <td>003280</td>\n",
       "      <td>2021</td>\n",
       "      <td>0</td>\n",
       "    </tr>\n",
       "  </tbody>\n",
       "</table>\n",
       "<p>14547 rows × 4 columns</p>\n",
       "</div>"
      ],
      "text/plain": [
       "            회사명   거래소코드  회계년도  target\n",
       "0      (주)DB하이텍  000990  2011       0\n",
       "1      (주)DB하이텍  000990  2012       0\n",
       "2      (주)DB하이텍  000990  2013       0\n",
       "3      (주)DB하이텍  000990  2014       0\n",
       "4      (주)DB하이텍  000990  2015       0\n",
       "...         ...     ...   ...     ...\n",
       "14542   흥아해운(주)  003280  2016       1\n",
       "14543   흥아해운(주)  003280  2017       0\n",
       "14544   흥아해운(주)  003280  2018       0\n",
       "14545   흥아해운(주)  003280  2019       0\n",
       "14546   흥아해운(주)  003280  2021       0\n",
       "\n",
       "[14547 rows x 4 columns]"
      ]
     },
     "execution_count": 919,
     "metadata": {},
     "output_type": "execute_result"
    }
   ],
   "source": [
    "배당성향_df"
   ]
  },
  {
   "cell_type": "code",
   "execution_count": null,
   "metadata": {},
   "outputs": [],
   "source": []
  }
 ],
 "metadata": {
  "kernelspec": {
   "display_name": "base",
   "language": "python",
   "name": "python3"
  },
  "language_info": {
   "codemirror_mode": {
    "name": "ipython",
    "version": 3
   },
   "file_extension": ".py",
   "mimetype": "text/x-python",
   "name": "python",
   "nbconvert_exporter": "python",
   "pygments_lexer": "ipython3",
   "version": "3.9.13"
  },
  "orig_nbformat": 4
 },
 "nbformat": 4,
 "nbformat_minor": 2
}
