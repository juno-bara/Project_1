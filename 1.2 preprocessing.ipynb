{
 "cells": [
  {
   "cell_type": "code",
   "execution_count": 53,
   "metadata": {},
   "outputs": [],
   "source": [
    "import pandas as pd\n",
    "import numpy as np\n"
   ]
  },
  {
   "cell_type": "code",
   "execution_count": 54,
   "metadata": {},
   "outputs": [],
   "source": [
    "# func 모음\n",
    "\n",
    "# 1. 종목코드를 6자리로 통일. ex) 990 -> 000990\n",
    "def padding(x):\n",
    "    x = str(x)\n",
    "    return x.rjust(6, \"0\")\n",
    "\n",
    "# 2. 결산월 12월인 것만 선택\n",
    "# : 전체 데이터 4963개 중에서 12월 결산인 데이터가 4836개이다. 나머지 결산월의 데이터가 전체의 2.5%로 데이터량이 작기도하고 결측치가 많아 제거\n",
    "def func_yearin(x):\n",
    "    if x[5:7] == '12':\n",
    "        return True\n",
    "    else:\n",
    "        return False\n",
    "\n",
    "# 3. 회계년도컬럼, 년도만 뽑아서 int화\n",
    "def change_year(x):\n",
    "    return int(x[:4])\n",
    "\n",
    "# 4. 연결, 개별재무제표 통합을 위해 연결재무 데이터 컬럼명 통일화 : \"(IFRS연결)\"제거\n",
    "def func_replace_col1(x):\n",
    "    x = x.replace(\" \",\"\")\n",
    "    x = x.replace(\",\",\"\")\n",
    "    x = x.replace(\"(비교)\",\"\")\n",
    "    x = x.replace(\"(IFRS)\",\"\")\n",
    "    x = x.replace(\"(*)\",\"\")\n",
    "    x = x.replace('(연결)',\"\")\n",
    "    x = x.replace(\"[제조]\",\"\")\n",
    "    return x.replace(\"(IFRS연결)\",\"\")\n",
    "\n",
    "# 5. 연결, 개별재무제표 통합을 위해 개별재무 데이터 컬럼명 통일화 : \"(IFRS)\"제거\n",
    "def func_replace_col2(x):\n",
    "    x = x.replace(\" \",\"\")\n",
    "    x = x.replace(\",\",\"\")\n",
    "    x = x.replace(\"(비교)\",\"\")\n",
    "    x = x.replace(\"(IFRS)\",\"\")\n",
    "    x = x.replace(\"(*)\",\"\")\n",
    "    x = x.replace(\"[제조]\",\"\")\n",
    "    return x.replace(\"(IFRS)\",\"\")\n",
    "\n",
    "# 6. 2020년 raw data 제외\n",
    "def func_rm_2020(x):\n",
    "    if x[:4] == \"2020\":\n",
    "        return False\n",
    "    else:\n",
    "        return True\n",
    "\n",
    "# 7. True, False 반전\n",
    "def func_not(x):\n",
    "    return not x"
   ]
  },
  {
   "cell_type": "code",
   "execution_count": 55,
   "metadata": {},
   "outputs": [],
   "source": [
    "개별RDS = pd.read_csv('./datasets/raw/개별RDS.csv',encoding='cp949')\n",
    "연결RDS = pd.read_csv('./datasets/raw/연결RDS.csv',encoding='cp949')\n"
   ]
  },
  {
   "cell_type": "code",
   "execution_count": 56,
   "metadata": {},
   "outputs": [],
   "source": [
    "연결RDS[\"거래소코드\"] = 연결RDS[\"거래소코드\"].map(padding) # 거래소코드 padding\n",
    "연결RDS[\"회계년도\"] = 연결RDS[\"회계년도\"].map(change_year) # 회계년도 int 로 바꿈\n",
    "\n",
    "col =[]\n",
    "for i in 연결RDS.columns:\n",
    "    col.append(func_replace_col1(i))\n",
    "연결RDS.columns = col"
   ]
  },
  {
   "cell_type": "code",
   "execution_count": 57,
   "metadata": {},
   "outputs": [],
   "source": [
    "## 중복된 값 제거\n",
    "연결RDS.drop_duplicates(['거래소코드',\"회계년도\"], keep='last', inplace=True)\n",
    "연결RDS.reset_index(drop=True, inplace=True)\n",
    "\n",
    "## 외국계기업제거\n",
    "def func_isnt_fcompany(x):\n",
    "    if x[:1] == '9':\n",
    "        return False\n",
    "    else:\n",
    "        return True\n",
    "\n",
    "연결RDS = 연결RDS[연결RDS[\"거래소코드\"].map(func_isnt_fcompany)]\n",
    "\n",
    "# 중복 거래소코드 제거\n",
    "def func_overlap_code(x):\n",
    "    if x == (연결RDS[연결RDS[\"회사명\"]==company_name][\"거래소코드\"].iloc[-1]) :\n",
    "        return True\n",
    "    else:\n",
    "        return False\n",
    "\n",
    "list_companyname = list(연결RDS[\"회사명\"].unique())\n",
    "dfs = list()\n",
    "\n",
    "\n",
    "for i in list_companyname:\n",
    "    company_name = i\n",
    "    #각 기업별로 데이터프레임 생성\n",
    "    df_concat = 연결RDS[연결RDS[\"회사명\"]==i]\n",
    "    df_concat = df_concat[df_concat[\"거래소코드\"].map(func_overlap_code)] # 거래소코드 바뀌기 전의 거래소코드의 데이터는 삭제\n",
    "    dfs.append(df_concat)\n",
    "연결RDS = pd.concat(dfs)\n",
    "연결RDS.reset_index(drop=True, inplace=True)\n",
    "\n",
    "\n",
    "## 기업명 변경\n",
    "연결RDS[연결RDS['거래소코드']=='036420']\n",
    "연결RDS.loc[연결RDS['회사명']=='(주)제이콘텐트리',['회사명']] = '(주)콘텐트리중앙'"
   ]
  },
  {
   "attachments": {},
   "cell_type": "markdown",
   "metadata": {},
   "source": [
    "###################################################################################################################################################################################"
   ]
  },
  {
   "cell_type": "code",
   "execution_count": 58,
   "metadata": {},
   "outputs": [],
   "source": [
    "개별RDS[\"거래소코드\"] = 개별RDS[\"거래소코드\"].map(padding) # 거래소코드 padding\n",
    "개별RDS[\"회계년도\"] = 개별RDS[\"회계년도\"].map(change_year) # 회계년도 int로 바꿈\n",
    "\n",
    "col =[]\n",
    "for i in 개별RDS.columns:\n",
    "    col.append(func_replace_col2(i))\n",
    "개별RDS.columns = col"
   ]
  },
  {
   "cell_type": "code",
   "execution_count": 59,
   "metadata": {},
   "outputs": [],
   "source": [
    "## 중복된 값 제거\n",
    "개별RDS.drop_duplicates(['거래소코드',\"회계년도\"], keep='last', inplace=True)\n",
    "개별RDS.reset_index(drop=True, inplace=True)\n",
    "\n",
    "## 외국계기업제거\n",
    "def func_isnt_fcompany(x):\n",
    "    if x[:1] == '9':\n",
    "        return False\n",
    "    else:\n",
    "        return True\n",
    "\n",
    "개별RDS = 개별RDS[개별RDS[\"거래소코드\"].map(func_isnt_fcompany)]\n",
    "\n",
    "# 중복 거래소코드 제거\n",
    "def func_overlap_code(x):\n",
    "    if x == (개별RDS[개별RDS[\"회사명\"]==company_name][\"거래소코드\"].iloc[-1]) :\n",
    "        return True\n",
    "    else:\n",
    "        return False\n",
    "\n",
    "list_companyname = list(개별RDS[\"회사명\"].unique())\n",
    "dfs = list()\n",
    "\n",
    "\n",
    "for i in list_companyname:\n",
    "    company_name = i\n",
    "    #각 기업별로 데이터프레임 생성\n",
    "    df_concat = 개별RDS[개별RDS[\"회사명\"]==i]\n",
    "    df_concat = df_concat[df_concat[\"거래소코드\"].map(func_overlap_code)] # 거래소코드 바뀌기 전의 거래소코드의 데이터는 삭제\n",
    "    dfs.append(df_concat)\n",
    "개별RDS = pd.concat(dfs)\n",
    "개별RDS.reset_index(drop=True, inplace=True)\n",
    "\n",
    "\n",
    "## 기업명 변경\n",
    "개별RDS[개별RDS['거래소코드']=='036420']\n",
    "개별RDS.loc[개별RDS['회사명']=='(주)제이콘텐트리',['회사명']] = '(주)콘텐트리중앙'"
   ]
  },
  {
   "cell_type": "code",
   "execution_count": 60,
   "metadata": {},
   "outputs": [
    {
     "data": {
      "text/plain": [
       "회사명            0\n",
       "거래소코드          0\n",
       "회계년도           0\n",
       "연구비          241\n",
       "경상개발비        241\n",
       "매출액(영업수익)    241\n",
       "dtype: int64"
      ]
     },
     "execution_count": 60,
     "metadata": {},
     "output_type": "execute_result"
    }
   ],
   "source": [
    "개별RDS.isna().sum()"
   ]
  },
  {
   "cell_type": "code",
   "execution_count": 61,
   "metadata": {},
   "outputs": [
    {
     "data": {
      "text/plain": [
       "회사명             0\n",
       "거래소코드           0\n",
       "회계년도            0\n",
       "연구비          4766\n",
       "경상개발비        4766\n",
       "매출액(영업수익)     241\n",
       "dtype: int64"
      ]
     },
     "execution_count": 61,
     "metadata": {},
     "output_type": "execute_result"
    }
   ],
   "source": [
    "연결RDS.isna().sum()"
   ]
  },
  {
   "cell_type": "code",
   "execution_count": 62,
   "metadata": {},
   "outputs": [],
   "source": [
    "# df_재무를 완전데이터와 결측데이터로 나눈 뒤 결측데이터를 개별재무데이터로 대체시키고, df_재무로 다시 통합하면 끝!\n",
    "RDS완전 =연결RDS[연결RDS[\"연구비\"].isna().map(func_not)]\n",
    "# df_재무_완전\n",
    "\n",
    "RDS결측 =연결RDS[연결RDS[\"연구비\"].isna()]\n",
    "# df_재무_결측\n",
    "\n",
    "list_na_col = ['연구비','경상개발비']\n",
    "\n",
    "RDS결측 = RDS결측.drop(list_na_col,axis=1)\n",
    "RDS결측 = pd.merge(RDS결측,개별RDS[['거래소코드','회계년도']+list_na_col],on=['거래소코드','회계년도'],how='left')\n",
    "\n",
    "RDS_df  = pd.concat([RDS완전,RDS결측],axis=0)"
   ]
  },
  {
   "cell_type": "code",
   "execution_count": 68,
   "metadata": {},
   "outputs": [
    {
     "name": "stdout",
     "output_type": "stream",
     "text": [
      "결측치가 존재하는 기업의 수 126 개\n"
     ]
    }
   ],
   "source": [
    "print( '결측치가 존재하는 기업의 수',len(RDS_df[RDS_df.isna().any(1)].회사명.unique()),'개')"
   ]
  },
  {
   "cell_type": "code",
   "execution_count": 69,
   "metadata": {},
   "outputs": [
    {
     "data": {
      "text/plain": [
       "{'회사명': 0, '거래소코드': 0, '회계년도': 0, '연구비': 0, '경상개발비': 0, '매출액(영업수익)': 0}"
      ]
     },
     "execution_count": 69,
     "metadata": {},
     "output_type": "execute_result"
    }
   ],
   "source": [
    "## 결측치 제거\n",
    "RDS_df = RDS_df[RDS_df[\"연구비\"].isna().map(func_not)] # 위 결측치 없는 데이터로 필터링\n",
    "RDS_df\n",
    "\n",
    "RDS_df.isna().sum().to_dict()"
   ]
  },
  {
   "attachments": {},
   "cell_type": "markdown",
   "metadata": {},
   "source": [
    "####################################################################################################################################################################################"
   ]
  },
  {
   "cell_type": "code",
   "execution_count": 72,
   "metadata": {},
   "outputs": [],
   "source": [
    "RDS_df.to_csv('RDS.csv',encoding='UTF-8-sig')"
   ]
  },
  {
   "cell_type": "code",
   "execution_count": null,
   "metadata": {},
   "outputs": [],
   "source": []
  }
 ],
 "metadata": {
  "kernelspec": {
   "display_name": "base",
   "language": "python",
   "name": "python3"
  },
  "language_info": {
   "codemirror_mode": {
    "name": "ipython",
    "version": 3
   },
   "file_extension": ".py",
   "mimetype": "text/x-python",
   "name": "python",
   "nbconvert_exporter": "python",
   "pygments_lexer": "ipython3",
   "version": "3.9.13"
  },
  "orig_nbformat": 4
 },
 "nbformat": 4,
 "nbformat_minor": 2
}
