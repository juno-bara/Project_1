{
 "cells": [
  {
   "cell_type": "code",
   "execution_count": 29,
   "metadata": {},
   "outputs": [],
   "source": [
    "import pandas as pd\n",
    "import numpy as np"
   ]
  },
  {
   "cell_type": "code",
   "execution_count": 30,
   "metadata": {},
   "outputs": [],
   "source": [
    "# func 모음\n",
    "\n",
    "# 1. 종목코드를 6자리로 통일. ex) 990 -> 000990\n",
    "def padding(x):\n",
    "    x = str(x)\n",
    "    return x.rjust(6, \"0\")\n",
    "\n",
    "# 2. 결산월 12월인 것만 선택\n",
    "# : 전체 데이터 4963개 중에서 12월 결산인 데이터가 4836개이다. 나머지 결산월의 데이터가 전체의 2.5%로 데이터량이 작기도하고 결측치가 많아 제거\n",
    "def func_yearin(x):\n",
    "    if x[5:7] == '12':\n",
    "        return True\n",
    "    else:\n",
    "        return False\n",
    "\n",
    "# 3. 회계년도컬럼, 년도만 뽑아서 int화\n",
    "def change_year(x):\n",
    "    return int(x[:4])\n",
    "\n",
    "# 4. 연결, 개별재무제표 통합을 위해 연결재무 데이터 컬럼명 통일화 : \"(IFRS연결)\"제거\n",
    "def func_replace_col1(x):\n",
    "    x = x.replace(\" \",\"\")\n",
    "    x = x.replace(\",\",\"\")\n",
    "    x = x.replace(\"(비교)\",\"\")\n",
    "    x = x.replace(\"(IFRS)\",\"\")\n",
    "    x = x.replace(\"(*)\",\"\")\n",
    "    x = x.replace(\"[제조]\",\"\")\n",
    "    return x.replace(\"(IFRS연결)\",\"\")\n",
    "\n",
    "# 5. 연결, 개별재무제표 통합을 위해 개별재무 데이터 컬럼명 통일화 : \"(IFRS)\"제거\n",
    "def func_replace_col2(x):\n",
    "    x = x.replace(\" \",\"\")\n",
    "    x = x.replace(\",\",\"\")\n",
    "    x = x.replace(\"(비교)\",\"\")\n",
    "    x = x.replace(\"(IFRS)\",\"\")\n",
    "    x = x.replace(\"(*)\",\"\")\n",
    "    x = x.replace(\"[제조]\",\"\")\n",
    "    return x.replace(\"(IFRS)\",\"\")\n",
    "\n",
    "# 6. 2020년 raw data 제외\n",
    "def func_rm_2020(x):\n",
    "    if x[:4] == \"2020\":\n",
    "        return False\n",
    "    else:\n",
    "        return True\n",
    "\n",
    "# 7. True, False 반전\n",
    "def func_not(x):\n",
    "    return not x"
   ]
  },
  {
   "cell_type": "code",
   "execution_count": 31,
   "metadata": {},
   "outputs": [],
   "source": [
    "개별토빈 = pd.read_csv('./datasets/raw/개별토빈(주식의종류10).csv',encoding='cp949')\n",
    "연결토빈 = pd.read_csv('./datasets/raw/연결토빈(주식의종류10).csv',encoding='cp949')\n",
    "\n",
    "개별토빈[\"거래소코드\"] = 개별토빈[\"거래소코드\"].map(padding) # 거래소코드 padding\n",
    "개별토빈[\"회계년도\"] = 개별토빈[\"회계년도\"].map(change_year) # 년도만 표시\n",
    "\n",
    "연결토빈[\"거래소코드\"] = 연결토빈[\"거래소코드\"].map(padding) # 거래소코드 padding\n",
    "연결토빈[\"회계년도\"] = 연결토빈[\"회계년도\"].map(change_year) # 년도만 표시\n",
    "\n",
    "# 토빈q  = (총부채 + 산술평균*발행주식의총수)/자산 "
   ]
  },
  {
   "cell_type": "code",
   "execution_count": 32,
   "metadata": {},
   "outputs": [],
   "source": [
    "연결토빈.columns = 연결토빈.columns.map(func_replace_col1)\n",
    "개별토빈.columns = 개별토빈.columns.map(func_replace_col2)"
   ]
  },
  {
   "cell_type": "code",
   "execution_count": 33,
   "metadata": {},
   "outputs": [],
   "source": [
    "연결토빈 = 연결토빈[연결토빈['주식의종류']==10]\n",
    "게별토빈 = 개별토빈[개별토빈['주식의종류']==10]"
   ]
  },
  {
   "cell_type": "code",
   "execution_count": 34,
   "metadata": {},
   "outputs": [],
   "source": [
    "## 중복된 값 제거\n",
    "연결토빈.drop_duplicates(['거래소코드',\"회계년도\"], keep='last', inplace=True)\n",
    "연결토빈.reset_index(drop=True, inplace=True)\n",
    "\n",
    "## 외국계기업제거\n",
    "def func_isnt_fcompany(x):\n",
    "    if x[:1] == '9':\n",
    "        return False\n",
    "    else:\n",
    "        return True\n",
    "\n",
    "연결토빈 = 연결토빈[연결토빈[\"거래소코드\"].map(func_isnt_fcompany)]\n",
    "\n",
    "# 중복 거래소코드 제거\n",
    "def func_overlap_code(x):\n",
    "    if x == (연결토빈[연결토빈[\"회사명\"]==company_name][\"거래소코드\"].iloc[-1]) :\n",
    "        return True\n",
    "    else:\n",
    "        return False\n",
    "\n",
    "list_companyname = list(연결토빈[\"회사명\"].unique())\n",
    "dfs = list()\n",
    "\n",
    "\n",
    "for i in list_companyname:\n",
    "    company_name = i\n",
    "    #각 기업별로 데이터프레임 생성\n",
    "    df_concat = 연결토빈[연결토빈[\"회사명\"]==i]\n",
    "    df_concat = df_concat[df_concat[\"거래소코드\"].map(func_overlap_code)] # 거래소코드 바뀌기 전의 거래소코드의 데이터는 삭제\n",
    "    dfs.append(df_concat)\n",
    "연결토빈 = pd.concat(dfs)\n",
    "연결토빈.reset_index(drop=True, inplace=True)\n",
    "\n",
    "\n",
    "## 기업명 변경\n",
    "연결토빈[연결토빈['거래소코드']=='036420']\n",
    "연결토빈.loc[연결토빈['회사명']=='(주)제이콘텐트리',['회사명']] = '(주)콘텐트리중앙'"
   ]
  },
  {
   "cell_type": "code",
   "execution_count": 35,
   "metadata": {},
   "outputs": [],
   "source": [
    "## 중복된 값 제거\n",
    "개별토빈.drop_duplicates(['거래소코드',\"회계년도\"], keep='last', inplace=True)\n",
    "개별토빈.reset_index(drop=True, inplace=True)\n",
    "\n",
    "## 외국계기업제거\n",
    "def func_isnt_fcompany(x):\n",
    "    if x[:1] == '9':\n",
    "        return False\n",
    "    else:\n",
    "        return True\n",
    "\n",
    "개별토빈 = 개별토빈[개별토빈[\"거래소코드\"].map(func_isnt_fcompany)]\n",
    "\n",
    "# 중복 거래소코드 제거\n",
    "def func_overlap_code(x):\n",
    "    if x == (개별토빈[개별토빈[\"회사명\"]==company_name][\"거래소코드\"].iloc[-1]) :\n",
    "        return True\n",
    "    else:\n",
    "        return False\n",
    "\n",
    "list_companyname = list(개별토빈[\"회사명\"].unique())\n",
    "dfs = list()\n",
    "\n",
    "\n",
    "for i in list_companyname:\n",
    "    company_name = i\n",
    "    #각 기업별로 데이터프레임 생성\n",
    "    df_concat = 개별토빈[개별토빈[\"회사명\"]==i]\n",
    "    df_concat = df_concat[df_concat[\"거래소코드\"].map(func_overlap_code)] # 거래소코드 바뀌기 전의 거래소코드의 데이터는 삭제\n",
    "    dfs.append(df_concat)\n",
    "개별토빈 = pd.concat(dfs)\n",
    "개별토빈.reset_index(drop=True, inplace=True)\n",
    "\n",
    "\n",
    "## 기업명 변경\n",
    "개별토빈[개별토빈['거래소코드']=='036420']\n",
    "개별토빈.loc[개별토빈['회사명']=='(주)제이콘텐트리',['회사명']] = '(주)콘텐트리중앙'"
   ]
  },
  {
   "cell_type": "code",
   "execution_count": 36,
   "metadata": {},
   "outputs": [
    {
     "data": {
      "text/plain": [
       "회사명                              0\n",
       "거래소코드                            0\n",
       "회계년도                             0\n",
       "자산                            4737\n",
       "부채                            4737\n",
       "산술평균                           181\n",
       "발행주식의총수(현재발행한주식수-현재감소한주식수)       0\n",
       "주식의종류                            0\n",
       "dtype: int64"
      ]
     },
     "execution_count": 36,
     "metadata": {},
     "output_type": "execute_result"
    }
   ],
   "source": [
    "연결토빈.isna().sum()"
   ]
  },
  {
   "cell_type": "code",
   "execution_count": 37,
   "metadata": {},
   "outputs": [
    {
     "data": {
      "text/plain": [
       "회사명                             0\n",
       "거래소코드                           0\n",
       "회계년도                            0\n",
       "자산                            376\n",
       "부채                            376\n",
       "산술평균                          200\n",
       "발행주식의총수(현재발행한주식수-현재감소한주식수)     36\n",
       "주식의종류                          36\n",
       "dtype: int64"
      ]
     },
     "execution_count": 37,
     "metadata": {},
     "output_type": "execute_result"
    }
   ],
   "source": [
    "개별토빈.isna().sum()"
   ]
  },
  {
   "cell_type": "code",
   "execution_count": 38,
   "metadata": {},
   "outputs": [],
   "source": [
    "# df_재무를 완전데이터와 결측데이터로 나눈 뒤 결측데이터를 개별재무데이터로 대체시키고, df_재무로 다시 통합하면 끝!\n",
    "토빈완전 =연결토빈[연결토빈[\"자산\"].isna().map(func_not)]\n",
    "# df_재무_완전\n",
    "\n",
    "토빈결측 =연결토빈[연결토빈[\"자산\"].isna()]\n",
    "# df_재무_결측\n",
    "\n",
    "list_na_col = ['자산','부채','산술평균','발행주식의총수(현재발행한주식수-현재감소한주식수)','주식의종류']\n",
    "\n",
    "토빈결측 = 토빈결측.drop(list_na_col,axis=1)\n",
    "토빈결측 = pd.merge(토빈결측,개별토빈[['거래소코드','회계년도']+list_na_col],on=['거래소코드','회계년도'],how='left')\n",
    "\n",
    "토빈_df  = pd.concat([토빈완전,토빈결측],axis=0)"
   ]
  },
  {
   "cell_type": "code",
   "execution_count": 39,
   "metadata": {},
   "outputs": [
    {
     "data": {
      "text/plain": [
       "회사명                             0\n",
       "거래소코드                           0\n",
       "회계년도                            0\n",
       "자산                            374\n",
       "부채                            374\n",
       "산술평균                          188\n",
       "발행주식의총수(현재발행한주식수-현재감소한주식수)      7\n",
       "주식의종류                           7\n",
       "dtype: int64"
      ]
     },
     "execution_count": 39,
     "metadata": {},
     "output_type": "execute_result"
    }
   ],
   "source": [
    "토빈_df.isna().sum()"
   ]
  },
  {
   "cell_type": "code",
   "execution_count": 40,
   "metadata": {},
   "outputs": [
    {
     "name": "stdout",
     "output_type": "stream",
     "text": [
      "결측치가 존재하는 기업의 수 186 개\n"
     ]
    }
   ],
   "source": [
    "print( '결측치가 존재하는 기업의 수',len(토빈_df[토빈_df.isna().any(1)].회사명.unique()),'개')"
   ]
  },
  {
   "cell_type": "code",
   "execution_count": 41,
   "metadata": {},
   "outputs": [
    {
     "data": {
      "text/plain": [
       "{'회사명': 0,\n",
       " '거래소코드': 0,\n",
       " '회계년도': 0,\n",
       " '자산': 0,\n",
       " '부채': 0,\n",
       " '산술평균': 45,\n",
       " '발행주식의총수(현재발행한주식수-현재감소한주식수)': 0,\n",
       " '주식의종류': 0}"
      ]
     },
     "execution_count": 41,
     "metadata": {},
     "output_type": "execute_result"
    }
   ],
   "source": [
    "## 결측치 제거\n",
    "토빈_df = 토빈_df[토빈_df[\"자산\"].isna().map(func_not)] # 위 결측치 없는 데이터로 필터링\n",
    "토빈_df\n",
    "\n",
    "토빈_df.isna().sum().to_dict()"
   ]
  },
  {
   "cell_type": "code",
   "execution_count": 48,
   "metadata": {},
   "outputs": [],
   "source": [
    "토빈_df.dropna(inplace=True)"
   ]
  },
  {
   "cell_type": "code",
   "execution_count": 49,
   "metadata": {},
   "outputs": [],
   "source": [
    "# 토빈q  = (총부채 + 산술평균*발행주식의총수)/자산 \n",
    "토빈_df['토빈Q'] = (토빈_df['부채']+토빈_df['산술평균']*토빈_df['발행주식의총수(현재발행한주식수-현재감소한주식수)'])/토빈_df['자산']\n",
    "토빈_df.drop(['자산','부채','산술평균','발행주식의총수(현재발행한주식수-현재감소한주식수)','주식의종류'],axis=1,inplace=True)"
   ]
  },
  {
   "cell_type": "code",
   "execution_count": 52,
   "metadata": {},
   "outputs": [],
   "source": [
    "토빈_df.reset_index(drop=True,inplace=True)"
   ]
  },
  {
   "cell_type": "code",
   "execution_count": 53,
   "metadata": {},
   "outputs": [],
   "source": [
    "토빈_df.to_csv('토빈Q.csv',encoding='UTF-8-sig')"
   ]
  },
  {
   "cell_type": "code",
   "execution_count": null,
   "metadata": {},
   "outputs": [],
   "source": []
  }
 ],
 "metadata": {
  "kernelspec": {
   "display_name": "base",
   "language": "python",
   "name": "python3"
  },
  "language_info": {
   "codemirror_mode": {
    "name": "ipython",
    "version": 3
   },
   "file_extension": ".py",
   "mimetype": "text/x-python",
   "name": "python",
   "nbconvert_exporter": "python",
   "pygments_lexer": "ipython3",
   "version": "3.9.13"
  },
  "orig_nbformat": 4
 },
 "nbformat": 4,
 "nbformat_minor": 2
}
